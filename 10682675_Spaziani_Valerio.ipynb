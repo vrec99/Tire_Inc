{
  "nbformat": 4,
  "nbformat_minor": 0,
  "metadata": {
    "colab": {
      "provenance": [],
      "collapsed_sections": [
        "w0_BQe_7Utud",
        "vJJ4AooVpi_G",
        "PqihFwQd3dBi",
        "bGY5W_ii4VBY",
        "Zg0yYWZLNq83",
        "DcZi3fIIQB30",
        "_lkkh4hGQtVS",
        "WERj0ZiIT0g2",
        "2AiZ7WYPbnjF",
        "honXdho2n9g1",
        "XaqaW4eDKyOM"
      ]
    },
    "kernelspec": {
      "name": "python3",
      "display_name": "Python 3"
    },
    "language_info": {
      "name": "python"
    }
  },
  "cells": [
    {
      "cell_type": "markdown",
      "source": [
        "#Import Dataset"
      ],
      "metadata": {
        "id": "w0_BQe_7Utud"
      }
    },
    {
      "cell_type": "code",
      "execution_count": 163,
      "metadata": {
        "id": "9Zm2w1dZpLfE"
      },
      "outputs": [],
      "source": [
        "# import the libraries\n",
        "\n",
        "import numpy as np\n",
        "import pandas as pd"
      ]
    },
    {
      "cell_type": "code",
      "source": [
        "# import the dataset\n",
        "\n",
        "df = pd.read_csv(\"tyres_model.csv\", sep = \",\")\n",
        "df"
      ],
      "metadata": {
        "colab": {
          "base_uri": "https://localhost:8080/",
          "height": 468
        },
        "id": "_dk4jPy_pQhn",
        "outputId": "f689ae97-a2d1-439b-a112-91f3a2f9ea39"
      },
      "execution_count": 164,
      "outputs": [
        {
          "output_type": "execute_result",
          "data": {
            "text/plain": [
              "        vulc  perc_nat_rubber  wiring_strength  weather  perc_imp  \\\n",
              "0     17.990               26                1     0.16      0.01   \n",
              "1     20.704               36                1     0.30      0.01   \n",
              "2     19.156               34                1     0.30      0.01   \n",
              "3     16.802               35                1     0.19      0.02   \n",
              "4     17.140               23                2     0.39      0.01   \n",
              "...      ...              ...              ...      ...       ...   \n",
              "2995  17.818               29                2     0.39      0.01   \n",
              "2996  17.076               30                1     0.22      0.00   \n",
              "2997  16.170               33                1     0.39      0.01   \n",
              "2998  18.872               37                0     0.03      0.00   \n",
              "2999  20.272               33                2     0.06      0.00   \n",
              "\n",
              "      temperature  tread_type  tyre_season  elevation  month  tread_depth  \\\n",
              "0           -8.12           0            1      332.5      8            0   \n",
              "1           -4.52           2            0      328.0     11            1   \n",
              "2           -1.08           0            0      247.0      0            1   \n",
              "3            7.44           1            0      408.0      7            3   \n",
              "4           30.52           0            1      308.0      2            2   \n",
              "...           ...         ...          ...        ...    ...          ...   \n",
              "2995         7.28           1            1      287.5     10            1   \n",
              "2996        -1.44           1            1      152.5      6            1   \n",
              "2997        -3.44           1            0      235.0      8            3   \n",
              "2998        -0.76           4            0      290.0     11            0   \n",
              "2999         2.80           1            0      405.0      2            1   \n",
              "\n",
              "      tyre_quality  perc_exp_comp  diameter  add_layers  failure  \n",
              "0                1           5.13      55.0           1        0  \n",
              "1                0           6.15       NaN           1        0  \n",
              "2                0           6.36       NaN           1        0  \n",
              "3                1           6.62      54.5           1        0  \n",
              "4                0           6.15      76.3           1        0  \n",
              "...            ...            ...       ...         ...      ...  \n",
              "2995             1           5.68       NaN           1        1  \n",
              "2996             0           5.81       NaN           1        1  \n",
              "2997             1           5.57       NaN           0        0  \n",
              "2998             0           5.89      60.3           0        0  \n",
              "2999             0           6.00      65.6           0        0  \n",
              "\n",
              "[3000 rows x 16 columns]"
            ],
            "text/html": [
              "\n",
              "  <div id=\"df-0297e610-7fab-4052-9f8b-0bc8caa2b039\">\n",
              "    <div class=\"colab-df-container\">\n",
              "      <div>\n",
              "<style scoped>\n",
              "    .dataframe tbody tr th:only-of-type {\n",
              "        vertical-align: middle;\n",
              "    }\n",
              "\n",
              "    .dataframe tbody tr th {\n",
              "        vertical-align: top;\n",
              "    }\n",
              "\n",
              "    .dataframe thead th {\n",
              "        text-align: right;\n",
              "    }\n",
              "</style>\n",
              "<table border=\"1\" class=\"dataframe\">\n",
              "  <thead>\n",
              "    <tr style=\"text-align: right;\">\n",
              "      <th></th>\n",
              "      <th>vulc</th>\n",
              "      <th>perc_nat_rubber</th>\n",
              "      <th>wiring_strength</th>\n",
              "      <th>weather</th>\n",
              "      <th>perc_imp</th>\n",
              "      <th>temperature</th>\n",
              "      <th>tread_type</th>\n",
              "      <th>tyre_season</th>\n",
              "      <th>elevation</th>\n",
              "      <th>month</th>\n",
              "      <th>tread_depth</th>\n",
              "      <th>tyre_quality</th>\n",
              "      <th>perc_exp_comp</th>\n",
              "      <th>diameter</th>\n",
              "      <th>add_layers</th>\n",
              "      <th>failure</th>\n",
              "    </tr>\n",
              "  </thead>\n",
              "  <tbody>\n",
              "    <tr>\n",
              "      <th>0</th>\n",
              "      <td>17.990</td>\n",
              "      <td>26</td>\n",
              "      <td>1</td>\n",
              "      <td>0.16</td>\n",
              "      <td>0.01</td>\n",
              "      <td>-8.12</td>\n",
              "      <td>0</td>\n",
              "      <td>1</td>\n",
              "      <td>332.5</td>\n",
              "      <td>8</td>\n",
              "      <td>0</td>\n",
              "      <td>1</td>\n",
              "      <td>5.13</td>\n",
              "      <td>55.0</td>\n",
              "      <td>1</td>\n",
              "      <td>0</td>\n",
              "    </tr>\n",
              "    <tr>\n",
              "      <th>1</th>\n",
              "      <td>20.704</td>\n",
              "      <td>36</td>\n",
              "      <td>1</td>\n",
              "      <td>0.30</td>\n",
              "      <td>0.01</td>\n",
              "      <td>-4.52</td>\n",
              "      <td>2</td>\n",
              "      <td>0</td>\n",
              "      <td>328.0</td>\n",
              "      <td>11</td>\n",
              "      <td>1</td>\n",
              "      <td>0</td>\n",
              "      <td>6.15</td>\n",
              "      <td>NaN</td>\n",
              "      <td>1</td>\n",
              "      <td>0</td>\n",
              "    </tr>\n",
              "    <tr>\n",
              "      <th>2</th>\n",
              "      <td>19.156</td>\n",
              "      <td>34</td>\n",
              "      <td>1</td>\n",
              "      <td>0.30</td>\n",
              "      <td>0.01</td>\n",
              "      <td>-1.08</td>\n",
              "      <td>0</td>\n",
              "      <td>0</td>\n",
              "      <td>247.0</td>\n",
              "      <td>0</td>\n",
              "      <td>1</td>\n",
              "      <td>0</td>\n",
              "      <td>6.36</td>\n",
              "      <td>NaN</td>\n",
              "      <td>1</td>\n",
              "      <td>0</td>\n",
              "    </tr>\n",
              "    <tr>\n",
              "      <th>3</th>\n",
              "      <td>16.802</td>\n",
              "      <td>35</td>\n",
              "      <td>1</td>\n",
              "      <td>0.19</td>\n",
              "      <td>0.02</td>\n",
              "      <td>7.44</td>\n",
              "      <td>1</td>\n",
              "      <td>0</td>\n",
              "      <td>408.0</td>\n",
              "      <td>7</td>\n",
              "      <td>3</td>\n",
              "      <td>1</td>\n",
              "      <td>6.62</td>\n",
              "      <td>54.5</td>\n",
              "      <td>1</td>\n",
              "      <td>0</td>\n",
              "    </tr>\n",
              "    <tr>\n",
              "      <th>4</th>\n",
              "      <td>17.140</td>\n",
              "      <td>23</td>\n",
              "      <td>2</td>\n",
              "      <td>0.39</td>\n",
              "      <td>0.01</td>\n",
              "      <td>30.52</td>\n",
              "      <td>0</td>\n",
              "      <td>1</td>\n",
              "      <td>308.0</td>\n",
              "      <td>2</td>\n",
              "      <td>2</td>\n",
              "      <td>0</td>\n",
              "      <td>6.15</td>\n",
              "      <td>76.3</td>\n",
              "      <td>1</td>\n",
              "      <td>0</td>\n",
              "    </tr>\n",
              "    <tr>\n",
              "      <th>...</th>\n",
              "      <td>...</td>\n",
              "      <td>...</td>\n",
              "      <td>...</td>\n",
              "      <td>...</td>\n",
              "      <td>...</td>\n",
              "      <td>...</td>\n",
              "      <td>...</td>\n",
              "      <td>...</td>\n",
              "      <td>...</td>\n",
              "      <td>...</td>\n",
              "      <td>...</td>\n",
              "      <td>...</td>\n",
              "      <td>...</td>\n",
              "      <td>...</td>\n",
              "      <td>...</td>\n",
              "      <td>...</td>\n",
              "    </tr>\n",
              "    <tr>\n",
              "      <th>2995</th>\n",
              "      <td>17.818</td>\n",
              "      <td>29</td>\n",
              "      <td>2</td>\n",
              "      <td>0.39</td>\n",
              "      <td>0.01</td>\n",
              "      <td>7.28</td>\n",
              "      <td>1</td>\n",
              "      <td>1</td>\n",
              "      <td>287.5</td>\n",
              "      <td>10</td>\n",
              "      <td>1</td>\n",
              "      <td>1</td>\n",
              "      <td>5.68</td>\n",
              "      <td>NaN</td>\n",
              "      <td>1</td>\n",
              "      <td>1</td>\n",
              "    </tr>\n",
              "    <tr>\n",
              "      <th>2996</th>\n",
              "      <td>17.076</td>\n",
              "      <td>30</td>\n",
              "      <td>1</td>\n",
              "      <td>0.22</td>\n",
              "      <td>0.00</td>\n",
              "      <td>-1.44</td>\n",
              "      <td>1</td>\n",
              "      <td>1</td>\n",
              "      <td>152.5</td>\n",
              "      <td>6</td>\n",
              "      <td>1</td>\n",
              "      <td>0</td>\n",
              "      <td>5.81</td>\n",
              "      <td>NaN</td>\n",
              "      <td>1</td>\n",
              "      <td>1</td>\n",
              "    </tr>\n",
              "    <tr>\n",
              "      <th>2997</th>\n",
              "      <td>16.170</td>\n",
              "      <td>33</td>\n",
              "      <td>1</td>\n",
              "      <td>0.39</td>\n",
              "      <td>0.01</td>\n",
              "      <td>-3.44</td>\n",
              "      <td>1</td>\n",
              "      <td>0</td>\n",
              "      <td>235.0</td>\n",
              "      <td>8</td>\n",
              "      <td>3</td>\n",
              "      <td>1</td>\n",
              "      <td>5.57</td>\n",
              "      <td>NaN</td>\n",
              "      <td>0</td>\n",
              "      <td>0</td>\n",
              "    </tr>\n",
              "    <tr>\n",
              "      <th>2998</th>\n",
              "      <td>18.872</td>\n",
              "      <td>37</td>\n",
              "      <td>0</td>\n",
              "      <td>0.03</td>\n",
              "      <td>0.00</td>\n",
              "      <td>-0.76</td>\n",
              "      <td>4</td>\n",
              "      <td>0</td>\n",
              "      <td>290.0</td>\n",
              "      <td>11</td>\n",
              "      <td>0</td>\n",
              "      <td>0</td>\n",
              "      <td>5.89</td>\n",
              "      <td>60.3</td>\n",
              "      <td>0</td>\n",
              "      <td>0</td>\n",
              "    </tr>\n",
              "    <tr>\n",
              "      <th>2999</th>\n",
              "      <td>20.272</td>\n",
              "      <td>33</td>\n",
              "      <td>2</td>\n",
              "      <td>0.06</td>\n",
              "      <td>0.00</td>\n",
              "      <td>2.80</td>\n",
              "      <td>1</td>\n",
              "      <td>0</td>\n",
              "      <td>405.0</td>\n",
              "      <td>2</td>\n",
              "      <td>1</td>\n",
              "      <td>0</td>\n",
              "      <td>6.00</td>\n",
              "      <td>65.6</td>\n",
              "      <td>0</td>\n",
              "      <td>0</td>\n",
              "    </tr>\n",
              "  </tbody>\n",
              "</table>\n",
              "<p>3000 rows × 16 columns</p>\n",
              "</div>\n",
              "      <button class=\"colab-df-convert\" onclick=\"convertToInteractive('df-0297e610-7fab-4052-9f8b-0bc8caa2b039')\"\n",
              "              title=\"Convert this dataframe to an interactive table.\"\n",
              "              style=\"display:none;\">\n",
              "        \n",
              "  <svg xmlns=\"http://www.w3.org/2000/svg\" height=\"24px\"viewBox=\"0 0 24 24\"\n",
              "       width=\"24px\">\n",
              "    <path d=\"M0 0h24v24H0V0z\" fill=\"none\"/>\n",
              "    <path d=\"M18.56 5.44l.94 2.06.94-2.06 2.06-.94-2.06-.94-.94-2.06-.94 2.06-2.06.94zm-11 1L8.5 8.5l.94-2.06 2.06-.94-2.06-.94L8.5 2.5l-.94 2.06-2.06.94zm10 10l.94 2.06.94-2.06 2.06-.94-2.06-.94-.94-2.06-.94 2.06-2.06.94z\"/><path d=\"M17.41 7.96l-1.37-1.37c-.4-.4-.92-.59-1.43-.59-.52 0-1.04.2-1.43.59L10.3 9.45l-7.72 7.72c-.78.78-.78 2.05 0 2.83L4 21.41c.39.39.9.59 1.41.59.51 0 1.02-.2 1.41-.59l7.78-7.78 2.81-2.81c.8-.78.8-2.07 0-2.86zM5.41 20L4 18.59l7.72-7.72 1.47 1.35L5.41 20z\"/>\n",
              "  </svg>\n",
              "      </button>\n",
              "      \n",
              "  <style>\n",
              "    .colab-df-container {\n",
              "      display:flex;\n",
              "      flex-wrap:wrap;\n",
              "      gap: 12px;\n",
              "    }\n",
              "\n",
              "    .colab-df-convert {\n",
              "      background-color: #E8F0FE;\n",
              "      border: none;\n",
              "      border-radius: 50%;\n",
              "      cursor: pointer;\n",
              "      display: none;\n",
              "      fill: #1967D2;\n",
              "      height: 32px;\n",
              "      padding: 0 0 0 0;\n",
              "      width: 32px;\n",
              "    }\n",
              "\n",
              "    .colab-df-convert:hover {\n",
              "      background-color: #E2EBFA;\n",
              "      box-shadow: 0px 1px 2px rgba(60, 64, 67, 0.3), 0px 1px 3px 1px rgba(60, 64, 67, 0.15);\n",
              "      fill: #174EA6;\n",
              "    }\n",
              "\n",
              "    [theme=dark] .colab-df-convert {\n",
              "      background-color: #3B4455;\n",
              "      fill: #D2E3FC;\n",
              "    }\n",
              "\n",
              "    [theme=dark] .colab-df-convert:hover {\n",
              "      background-color: #434B5C;\n",
              "      box-shadow: 0px 1px 3px 1px rgba(0, 0, 0, 0.15);\n",
              "      filter: drop-shadow(0px 1px 2px rgba(0, 0, 0, 0.3));\n",
              "      fill: #FFFFFF;\n",
              "    }\n",
              "  </style>\n",
              "\n",
              "      <script>\n",
              "        const buttonEl =\n",
              "          document.querySelector('#df-0297e610-7fab-4052-9f8b-0bc8caa2b039 button.colab-df-convert');\n",
              "        buttonEl.style.display =\n",
              "          google.colab.kernel.accessAllowed ? 'block' : 'none';\n",
              "\n",
              "        async function convertToInteractive(key) {\n",
              "          const element = document.querySelector('#df-0297e610-7fab-4052-9f8b-0bc8caa2b039');\n",
              "          const dataTable =\n",
              "            await google.colab.kernel.invokeFunction('convertToInteractive',\n",
              "                                                     [key], {});\n",
              "          if (!dataTable) return;\n",
              "\n",
              "          const docLinkHtml = 'Like what you see? Visit the ' +\n",
              "            '<a target=\"_blank\" href=https://colab.research.google.com/notebooks/data_table.ipynb>data table notebook</a>'\n",
              "            + ' to learn more about interactive tables.';\n",
              "          element.innerHTML = '';\n",
              "          dataTable['output_type'] = 'display_data';\n",
              "          await google.colab.output.renderOutput(dataTable, element);\n",
              "          const docLink = document.createElement('div');\n",
              "          docLink.innerHTML = docLinkHtml;\n",
              "          element.appendChild(docLink);\n",
              "        }\n",
              "      </script>\n",
              "    </div>\n",
              "  </div>\n",
              "  "
            ]
          },
          "metadata": {},
          "execution_count": 164
        }
      ]
    },
    {
      "cell_type": "markdown",
      "source": [
        "# Data Preparation & Data Exploration"
      ],
      "metadata": {
        "id": "vJJ4AooVpi_G"
      }
    },
    {
      "cell_type": "code",
      "source": [
        "# check which are the columns with NAs\n",
        "\n",
        "df.isna().any()"
      ],
      "metadata": {
        "colab": {
          "base_uri": "https://localhost:8080/"
        },
        "id": "Kf_g-4VTpW-L",
        "outputId": "49669509-3eda-4685-d1a9-a76664e381e5"
      },
      "execution_count": 165,
      "outputs": [
        {
          "output_type": "execute_result",
          "data": {
            "text/plain": [
              "vulc               False\n",
              "perc_nat_rubber    False\n",
              "wiring_strength    False\n",
              "weather            False\n",
              "perc_imp           False\n",
              "temperature        False\n",
              "tread_type         False\n",
              "tyre_season        False\n",
              "elevation          False\n",
              "month              False\n",
              "tread_depth        False\n",
              "tyre_quality       False\n",
              "perc_exp_comp      False\n",
              "diameter            True\n",
              "add_layers         False\n",
              "failure            False\n",
              "dtype: bool"
            ]
          },
          "metadata": {},
          "execution_count": 165
        }
      ]
    },
    {
      "cell_type": "code",
      "source": [
        "# \"diameter\" is the only variable with NAs\n",
        "\n",
        "df['diameter'].isna()"
      ],
      "metadata": {
        "colab": {
          "base_uri": "https://localhost:8080/"
        },
        "id": "AyZTZwAbpeJv",
        "outputId": "d5e36aa9-459b-42ff-b5d4-f10ef4bfc4f1"
      },
      "execution_count": 166,
      "outputs": [
        {
          "output_type": "execute_result",
          "data": {
            "text/plain": [
              "0       False\n",
              "1        True\n",
              "2        True\n",
              "3       False\n",
              "4       False\n",
              "        ...  \n",
              "2995     True\n",
              "2996     True\n",
              "2997     True\n",
              "2998    False\n",
              "2999    False\n",
              "Name: diameter, Length: 3000, dtype: bool"
            ]
          },
          "metadata": {},
          "execution_count": 166
        }
      ]
    },
    {
      "cell_type": "code",
      "source": [
        "# drop the column with NA values\n",
        "# we decided to drop it because almost the 70% of the observations are NAs\n",
        "df_drop=df.dropna(axis=1)\n",
        "df_drop.isna().any()"
      ],
      "metadata": {
        "id": "EkyP7cm0pgRj",
        "colab": {
          "base_uri": "https://localhost:8080/"
        },
        "outputId": "dc165537-6205-47f5-c4b6-3ac8e4a5cc26"
      },
      "execution_count": 167,
      "outputs": [
        {
          "output_type": "execute_result",
          "data": {
            "text/plain": [
              "vulc               False\n",
              "perc_nat_rubber    False\n",
              "wiring_strength    False\n",
              "weather            False\n",
              "perc_imp           False\n",
              "temperature        False\n",
              "tread_type         False\n",
              "tyre_season        False\n",
              "elevation          False\n",
              "month              False\n",
              "tread_depth        False\n",
              "tyre_quality       False\n",
              "perc_exp_comp      False\n",
              "add_layers         False\n",
              "failure            False\n",
              "dtype: bool"
            ]
          },
          "metadata": {},
          "execution_count": 167
        }
      ]
    },
    {
      "cell_type": "code",
      "source": [
        "# summmary of the data\n",
        "\n",
        "df = df_drop\n",
        "df.describe()"
      ],
      "metadata": {
        "id": "fLHOKjqzptPV",
        "colab": {
          "base_uri": "https://localhost:8080/",
          "height": 364
        },
        "outputId": "196d428b-7988-41ab-8944-95d461d5cce1"
      },
      "execution_count": 168,
      "outputs": [
        {
          "output_type": "execute_result",
          "data": {
            "text/plain": [
              "              vulc  perc_nat_rubber  wiring_strength      weather  \\\n",
              "count  3000.000000      3000.000000      3000.000000  3000.000000   \n",
              "mean     18.184712        31.249667         0.631333     0.282987   \n",
              "std       1.587193         4.933300         0.546673     0.183252   \n",
              "min      12.312000        18.000000         0.000000     0.030000   \n",
              "25%      17.241500        28.000000         0.000000     0.160000   \n",
              "50%      17.834000        31.000000         1.000000     0.210000   \n",
              "75%      18.934000        35.000000         1.000000     0.370000   \n",
              "max      29.932000        46.000000         2.000000     0.930000   \n",
              "\n",
              "          perc_imp  temperature   tread_type  tyre_season    elevation  \\\n",
              "count  3000.000000  3000.000000  3000.000000  3000.000000  3000.000000   \n",
              "mean      0.014550    -2.375360     1.618000     0.547667   376.184000   \n",
              "std       0.014262     5.672184     1.487553     0.497806   151.149861   \n",
              "min       0.000000   -19.280000     0.000000     0.000000    41.500000   \n",
              "25%       0.010000    -6.960000     0.000000     0.000000   263.500000   \n",
              "50%       0.010000    -2.080000     1.000000     1.000000   342.000000   \n",
              "75%       0.020000     0.080000     3.000000     1.000000   471.625000   \n",
              "max       0.050000    37.000000     4.000000     1.000000   939.500000   \n",
              "\n",
              "             month  tread_depth  tyre_quality  perc_exp_comp  add_layers  \\\n",
              "count  3000.000000  3000.000000   3000.000000     3000.00000  3000.00000   \n",
              "mean      5.779667     1.212000      0.309667        5.79151     0.92200   \n",
              "std       3.318954     1.153617      0.462433        0.41032     0.36418   \n",
              "min       0.000000     0.000000      0.000000        4.54000     0.00000   \n",
              "25%       3.000000     0.000000      0.000000        5.48000     1.00000   \n",
              "50%       6.000000     1.000000      0.000000        5.80000     1.00000   \n",
              "75%       8.000000     2.000000      1.000000        6.08000     1.00000   \n",
              "max      11.000000     3.000000      1.000000        7.21000     2.00000   \n",
              "\n",
              "           failure  \n",
              "count  3000.000000  \n",
              "mean      0.336000  \n",
              "std       0.472418  \n",
              "min       0.000000  \n",
              "25%       0.000000  \n",
              "50%       0.000000  \n",
              "75%       1.000000  \n",
              "max       1.000000  "
            ],
            "text/html": [
              "\n",
              "  <div id=\"df-e3d37179-991d-4194-954a-9f9eda4b1bd7\">\n",
              "    <div class=\"colab-df-container\">\n",
              "      <div>\n",
              "<style scoped>\n",
              "    .dataframe tbody tr th:only-of-type {\n",
              "        vertical-align: middle;\n",
              "    }\n",
              "\n",
              "    .dataframe tbody tr th {\n",
              "        vertical-align: top;\n",
              "    }\n",
              "\n",
              "    .dataframe thead th {\n",
              "        text-align: right;\n",
              "    }\n",
              "</style>\n",
              "<table border=\"1\" class=\"dataframe\">\n",
              "  <thead>\n",
              "    <tr style=\"text-align: right;\">\n",
              "      <th></th>\n",
              "      <th>vulc</th>\n",
              "      <th>perc_nat_rubber</th>\n",
              "      <th>wiring_strength</th>\n",
              "      <th>weather</th>\n",
              "      <th>perc_imp</th>\n",
              "      <th>temperature</th>\n",
              "      <th>tread_type</th>\n",
              "      <th>tyre_season</th>\n",
              "      <th>elevation</th>\n",
              "      <th>month</th>\n",
              "      <th>tread_depth</th>\n",
              "      <th>tyre_quality</th>\n",
              "      <th>perc_exp_comp</th>\n",
              "      <th>add_layers</th>\n",
              "      <th>failure</th>\n",
              "    </tr>\n",
              "  </thead>\n",
              "  <tbody>\n",
              "    <tr>\n",
              "      <th>count</th>\n",
              "      <td>3000.000000</td>\n",
              "      <td>3000.000000</td>\n",
              "      <td>3000.000000</td>\n",
              "      <td>3000.000000</td>\n",
              "      <td>3000.000000</td>\n",
              "      <td>3000.000000</td>\n",
              "      <td>3000.000000</td>\n",
              "      <td>3000.000000</td>\n",
              "      <td>3000.000000</td>\n",
              "      <td>3000.000000</td>\n",
              "      <td>3000.000000</td>\n",
              "      <td>3000.000000</td>\n",
              "      <td>3000.00000</td>\n",
              "      <td>3000.00000</td>\n",
              "      <td>3000.000000</td>\n",
              "    </tr>\n",
              "    <tr>\n",
              "      <th>mean</th>\n",
              "      <td>18.184712</td>\n",
              "      <td>31.249667</td>\n",
              "      <td>0.631333</td>\n",
              "      <td>0.282987</td>\n",
              "      <td>0.014550</td>\n",
              "      <td>-2.375360</td>\n",
              "      <td>1.618000</td>\n",
              "      <td>0.547667</td>\n",
              "      <td>376.184000</td>\n",
              "      <td>5.779667</td>\n",
              "      <td>1.212000</td>\n",
              "      <td>0.309667</td>\n",
              "      <td>5.79151</td>\n",
              "      <td>0.92200</td>\n",
              "      <td>0.336000</td>\n",
              "    </tr>\n",
              "    <tr>\n",
              "      <th>std</th>\n",
              "      <td>1.587193</td>\n",
              "      <td>4.933300</td>\n",
              "      <td>0.546673</td>\n",
              "      <td>0.183252</td>\n",
              "      <td>0.014262</td>\n",
              "      <td>5.672184</td>\n",
              "      <td>1.487553</td>\n",
              "      <td>0.497806</td>\n",
              "      <td>151.149861</td>\n",
              "      <td>3.318954</td>\n",
              "      <td>1.153617</td>\n",
              "      <td>0.462433</td>\n",
              "      <td>0.41032</td>\n",
              "      <td>0.36418</td>\n",
              "      <td>0.472418</td>\n",
              "    </tr>\n",
              "    <tr>\n",
              "      <th>min</th>\n",
              "      <td>12.312000</td>\n",
              "      <td>18.000000</td>\n",
              "      <td>0.000000</td>\n",
              "      <td>0.030000</td>\n",
              "      <td>0.000000</td>\n",
              "      <td>-19.280000</td>\n",
              "      <td>0.000000</td>\n",
              "      <td>0.000000</td>\n",
              "      <td>41.500000</td>\n",
              "      <td>0.000000</td>\n",
              "      <td>0.000000</td>\n",
              "      <td>0.000000</td>\n",
              "      <td>4.54000</td>\n",
              "      <td>0.00000</td>\n",
              "      <td>0.000000</td>\n",
              "    </tr>\n",
              "    <tr>\n",
              "      <th>25%</th>\n",
              "      <td>17.241500</td>\n",
              "      <td>28.000000</td>\n",
              "      <td>0.000000</td>\n",
              "      <td>0.160000</td>\n",
              "      <td>0.010000</td>\n",
              "      <td>-6.960000</td>\n",
              "      <td>0.000000</td>\n",
              "      <td>0.000000</td>\n",
              "      <td>263.500000</td>\n",
              "      <td>3.000000</td>\n",
              "      <td>0.000000</td>\n",
              "      <td>0.000000</td>\n",
              "      <td>5.48000</td>\n",
              "      <td>1.00000</td>\n",
              "      <td>0.000000</td>\n",
              "    </tr>\n",
              "    <tr>\n",
              "      <th>50%</th>\n",
              "      <td>17.834000</td>\n",
              "      <td>31.000000</td>\n",
              "      <td>1.000000</td>\n",
              "      <td>0.210000</td>\n",
              "      <td>0.010000</td>\n",
              "      <td>-2.080000</td>\n",
              "      <td>1.000000</td>\n",
              "      <td>1.000000</td>\n",
              "      <td>342.000000</td>\n",
              "      <td>6.000000</td>\n",
              "      <td>1.000000</td>\n",
              "      <td>0.000000</td>\n",
              "      <td>5.80000</td>\n",
              "      <td>1.00000</td>\n",
              "      <td>0.000000</td>\n",
              "    </tr>\n",
              "    <tr>\n",
              "      <th>75%</th>\n",
              "      <td>18.934000</td>\n",
              "      <td>35.000000</td>\n",
              "      <td>1.000000</td>\n",
              "      <td>0.370000</td>\n",
              "      <td>0.020000</td>\n",
              "      <td>0.080000</td>\n",
              "      <td>3.000000</td>\n",
              "      <td>1.000000</td>\n",
              "      <td>471.625000</td>\n",
              "      <td>8.000000</td>\n",
              "      <td>2.000000</td>\n",
              "      <td>1.000000</td>\n",
              "      <td>6.08000</td>\n",
              "      <td>1.00000</td>\n",
              "      <td>1.000000</td>\n",
              "    </tr>\n",
              "    <tr>\n",
              "      <th>max</th>\n",
              "      <td>29.932000</td>\n",
              "      <td>46.000000</td>\n",
              "      <td>2.000000</td>\n",
              "      <td>0.930000</td>\n",
              "      <td>0.050000</td>\n",
              "      <td>37.000000</td>\n",
              "      <td>4.000000</td>\n",
              "      <td>1.000000</td>\n",
              "      <td>939.500000</td>\n",
              "      <td>11.000000</td>\n",
              "      <td>3.000000</td>\n",
              "      <td>1.000000</td>\n",
              "      <td>7.21000</td>\n",
              "      <td>2.00000</td>\n",
              "      <td>1.000000</td>\n",
              "    </tr>\n",
              "  </tbody>\n",
              "</table>\n",
              "</div>\n",
              "      <button class=\"colab-df-convert\" onclick=\"convertToInteractive('df-e3d37179-991d-4194-954a-9f9eda4b1bd7')\"\n",
              "              title=\"Convert this dataframe to an interactive table.\"\n",
              "              style=\"display:none;\">\n",
              "        \n",
              "  <svg xmlns=\"http://www.w3.org/2000/svg\" height=\"24px\"viewBox=\"0 0 24 24\"\n",
              "       width=\"24px\">\n",
              "    <path d=\"M0 0h24v24H0V0z\" fill=\"none\"/>\n",
              "    <path d=\"M18.56 5.44l.94 2.06.94-2.06 2.06-.94-2.06-.94-.94-2.06-.94 2.06-2.06.94zm-11 1L8.5 8.5l.94-2.06 2.06-.94-2.06-.94L8.5 2.5l-.94 2.06-2.06.94zm10 10l.94 2.06.94-2.06 2.06-.94-2.06-.94-.94-2.06-.94 2.06-2.06.94z\"/><path d=\"M17.41 7.96l-1.37-1.37c-.4-.4-.92-.59-1.43-.59-.52 0-1.04.2-1.43.59L10.3 9.45l-7.72 7.72c-.78.78-.78 2.05 0 2.83L4 21.41c.39.39.9.59 1.41.59.51 0 1.02-.2 1.41-.59l7.78-7.78 2.81-2.81c.8-.78.8-2.07 0-2.86zM5.41 20L4 18.59l7.72-7.72 1.47 1.35L5.41 20z\"/>\n",
              "  </svg>\n",
              "      </button>\n",
              "      \n",
              "  <style>\n",
              "    .colab-df-container {\n",
              "      display:flex;\n",
              "      flex-wrap:wrap;\n",
              "      gap: 12px;\n",
              "    }\n",
              "\n",
              "    .colab-df-convert {\n",
              "      background-color: #E8F0FE;\n",
              "      border: none;\n",
              "      border-radius: 50%;\n",
              "      cursor: pointer;\n",
              "      display: none;\n",
              "      fill: #1967D2;\n",
              "      height: 32px;\n",
              "      padding: 0 0 0 0;\n",
              "      width: 32px;\n",
              "    }\n",
              "\n",
              "    .colab-df-convert:hover {\n",
              "      background-color: #E2EBFA;\n",
              "      box-shadow: 0px 1px 2px rgba(60, 64, 67, 0.3), 0px 1px 3px 1px rgba(60, 64, 67, 0.15);\n",
              "      fill: #174EA6;\n",
              "    }\n",
              "\n",
              "    [theme=dark] .colab-df-convert {\n",
              "      background-color: #3B4455;\n",
              "      fill: #D2E3FC;\n",
              "    }\n",
              "\n",
              "    [theme=dark] .colab-df-convert:hover {\n",
              "      background-color: #434B5C;\n",
              "      box-shadow: 0px 1px 3px 1px rgba(0, 0, 0, 0.15);\n",
              "      filter: drop-shadow(0px 1px 2px rgba(0, 0, 0, 0.3));\n",
              "      fill: #FFFFFF;\n",
              "    }\n",
              "  </style>\n",
              "\n",
              "      <script>\n",
              "        const buttonEl =\n",
              "          document.querySelector('#df-e3d37179-991d-4194-954a-9f9eda4b1bd7 button.colab-df-convert');\n",
              "        buttonEl.style.display =\n",
              "          google.colab.kernel.accessAllowed ? 'block' : 'none';\n",
              "\n",
              "        async function convertToInteractive(key) {\n",
              "          const element = document.querySelector('#df-e3d37179-991d-4194-954a-9f9eda4b1bd7');\n",
              "          const dataTable =\n",
              "            await google.colab.kernel.invokeFunction('convertToInteractive',\n",
              "                                                     [key], {});\n",
              "          if (!dataTable) return;\n",
              "\n",
              "          const docLinkHtml = 'Like what you see? Visit the ' +\n",
              "            '<a target=\"_blank\" href=https://colab.research.google.com/notebooks/data_table.ipynb>data table notebook</a>'\n",
              "            + ' to learn more about interactive tables.';\n",
              "          element.innerHTML = '';\n",
              "          dataTable['output_type'] = 'display_data';\n",
              "          await google.colab.output.renderOutput(dataTable, element);\n",
              "          const docLink = document.createElement('div');\n",
              "          docLink.innerHTML = docLinkHtml;\n",
              "          element.appendChild(docLink);\n",
              "        }\n",
              "      </script>\n",
              "    </div>\n",
              "  </div>\n",
              "  "
            ]
          },
          "metadata": {},
          "execution_count": 168
        }
      ]
    },
    {
      "cell_type": "code",
      "source": [
        "# boxplot\n",
        "import matplotlib.pyplot as plt\n",
        "%matplotlib inline\n",
        "df.boxplot()\n",
        "plt.xticks(rotation=90)"
      ],
      "metadata": {
        "id": "z1ipydkPp7l5",
        "colab": {
          "base_uri": "https://localhost:8080/",
          "height": 372
        },
        "outputId": "862e8516-d891-40ab-ff8d-571a97e6c402"
      },
      "execution_count": 169,
      "outputs": [
        {
          "output_type": "execute_result",
          "data": {
            "text/plain": [
              "(array([ 1,  2,  3,  4,  5,  6,  7,  8,  9, 10, 11, 12, 13, 14, 15]),\n",
              " <a list of 15 Text major ticklabel objects>)"
            ]
          },
          "metadata": {},
          "execution_count": 169
        },
        {
          "output_type": "display_data",
          "data": {
            "text/plain": [
              "<Figure size 432x288 with 1 Axes>"
            ],
            "image/png": "[encoded data removed]"
          },
          "metadata": {
            "needs_background": "light"
          }
        }
      ]
    },
    {
      "cell_type": "code",
      "source": [
        "df.hist(figsize=(10, 10))"
      ],
      "metadata": {
        "id": "QkNZbrAHqA8q",
        "colab": {
          "base_uri": "https://localhost:8080/",
          "height": 904
        },
        "outputId": "da5f3a4d-c72f-4447-9b4b-1291d20b4e70"
      },
      "execution_count": 170,
      "outputs": [
        {
          "output_type": "execute_result",
          "data": {
            "text/plain": [
              "array([[<matplotlib.axes._subplots.AxesSubplot object at 0x7f05ccef0850>,\n",
              "        <matplotlib.axes._subplots.AxesSubplot object at 0x7f05ccfaa820>,\n",
              "        <matplotlib.axes._subplots.AxesSubplot object at 0x7f05ccfe2f70>,\n",
              "        <matplotlib.axes._subplots.AxesSubplot object at 0x7f05ccf956d0>],\n",
              "       [<matplotlib.axes._subplots.AxesSubplot object at 0x7f05ccdbcdf0>,\n",
              "        <matplotlib.axes._subplots.AxesSubplot object at 0x7f05ccd6f490>,\n",
              "        <matplotlib.axes._subplots.AxesSubplot object at 0x7f05ccd6f580>,\n",
              "        <matplotlib.axes._subplots.AxesSubplot object at 0x7f05ccd97f70>],\n",
              "       [<matplotlib.axes._subplots.AxesSubplot object at 0x7f05cccfcac0>,\n",
              "        <matplotlib.axes._subplots.AxesSubplot object at 0x7f05cccb0280>,\n",
              "        <matplotlib.axes._subplots.AxesSubplot object at 0x7f05cccd7970>,\n",
              "        <matplotlib.axes._subplots.AxesSubplot object at 0x7f05ccc7e130>],\n",
              "       [<matplotlib.axes._subplots.AxesSubplot object at 0x7f05ccc317f0>,\n",
              "        <matplotlib.axes._subplots.AxesSubplot object at 0x7f05ccc5af10>,\n",
              "        <matplotlib.axes._subplots.AxesSubplot object at 0x7f05ccc0c670>,\n",
              "        <matplotlib.axes._subplots.AxesSubplot object at 0x7f05ccbb3cd0>]],\n",
              "      dtype=object)"
            ]
          },
          "metadata": {},
          "execution_count": 170
        },
        {
          "output_type": "display_data",
          "data": {
            "text/plain": [
              "<Figure size 720x720 with 16 Axes>"
            ],
            "image/png": "[encoded data removed]"
          },
          "metadata": {
            "needs_background": "light"
          }
        }
      ]
    },
    {
      "cell_type": "markdown",
      "source": [
        "Data distribution and standardization"
      ],
      "metadata": {
        "id": "la18CSxrqr6M"
      }
    },
    {
      "cell_type": "code",
      "source": [
        "# normality test on numerical variables\n",
        "\n",
        "from scipy import stats\n",
        "\n",
        "# vulc - Numerical Vulcanization level\n",
        "# perc_nat_rubber - Numerical % natural rubber\n",
        "# weather - Numerical Weather condition index: 1: best, 0: worst\n",
        "# perc_imp - Numerical % impurities\n",
        "# temperature - Numerical Temperature in °C\n",
        "# elevation - Numerical Elevation in meters above sea level\n",
        "# perc_exp_comp - Numerical % experimental compound\n",
        "\n",
        "print(stats.shapiro(df.vulc))\n",
        "print(stats.shapiro(df.perc_nat_rubber))\n",
        "print(stats.shapiro(df.weather))\n",
        "print(stats.shapiro(df.perc_imp))\n",
        "print(stats.shapiro(df.temperature))\n",
        "print(stats.shapiro(df.elevation))\n",
        "print(stats.shapiro(df.perc_exp_comp))\n",
        "\n",
        "# all the variables aren't normally distributed, so we can't eliminate possibile outliers using 3*sigma"
      ],
      "metadata": {
        "id": "nO8iVrn3qvRF",
        "colab": {
          "base_uri": "https://localhost:8080/"
        },
        "outputId": "91d0ba5f-fcfe-41ec-d43d-87e8cc3994c0"
      },
      "execution_count": 171,
      "outputs": [
        {
          "output_type": "stream",
          "name": "stdout",
          "text": [
            "ShapiroResult(statistic=0.9071341156959534, pvalue=2.0922633228002768e-39)\n",
            "ShapiroResult(statistic=0.9903560280799866, pvalue=2.287408543827363e-13)\n",
            "ShapiroResult(statistic=0.8345675468444824, pvalue=0.0)\n",
            "ShapiroResult(statistic=0.7377035617828369, pvalue=0.0)\n",
            "ShapiroResult(statistic=0.8973006010055542, pvalue=6.636129137503036e-41)\n",
            "ShapiroResult(statistic=0.9524024128913879, pvalue=3.421289661684093e-30)\n",
            "ShapiroResult(statistic=0.9964845776557922, pvalue=1.8005791844188934e-06)\n"
          ]
        }
      ]
    },
    {
      "cell_type": "code",
      "source": [
        "## Lets take a look at the boxplots of all the numerical attributes\n",
        "\n",
        "import matplotlib.pyplot as plt\n",
        "\n",
        "# Create a figure and axes object\n",
        "fig, ax = plt.subplots(figsize=(10, 10))\n",
        "\n",
        "# Plot the boxplots\n",
        "ax.boxplot([df.vulc, df.perc_nat_rubber, df.weather, df.perc_imp,df.temperature, df.elevation, df.perc_exp_comp], \n",
        "           labels=['vulc', 'perc_nat_rubber', 'weather','perc_imp', 'temperature', 'elevation', 'perc_exp_comp'])\n",
        "\n",
        "# Show the plot\n",
        "plt.show()"
      ],
      "metadata": {
        "id": "WYdMq9cMrGOy",
        "colab": {
          "base_uri": "https://localhost:8080/",
          "height": 592
        },
        "outputId": "3a1e846b-72fe-477f-966f-e2879121ab44"
      },
      "execution_count": 172,
      "outputs": [
        {
          "output_type": "display_data",
          "data": {
            "text/plain": [
              "<Figure size 720x720 with 1 Axes>"
            ],
            "image/png": "[encoded data removed]"
          },
          "metadata": {
            "needs_background": "light"
          }
        }
      ]
    },
    {
      "cell_type": "code",
      "source": [
        "# To manage better the data, we divide the dataset in 2 different ones, depending on the variable's category\n",
        "\n",
        "df_numerical = df[['vulc','perc_nat_rubber','weather', 'perc_imp', 'temperature', 'elevation', 'perc_exp_comp']]\n",
        "df_categorical = df[['tread_type', 'tyre_season', 'month', 'tread_depth', 'wiring_strength', 'tyre_quality', 'add_layers', 'failure']]\n",
        "\n",
        "df_numerical.shape\n",
        "df_categorical.shape"
      ],
      "metadata": {
        "id": "ijGxAM38vBbr",
        "colab": {
          "base_uri": "https://localhost:8080/"
        },
        "outputId": "89175c23-a7a8-4f50-c5da-2a1b5eda0725"
      },
      "execution_count": 173,
      "outputs": [
        {
          "output_type": "execute_result",
          "data": {
            "text/plain": [
              "(3000, 8)"
            ]
          },
          "metadata": {},
          "execution_count": 173
        }
      ]
    },
    {
      "cell_type": "code",
      "source": [
        "# Not having notmal distributed variables and having different order of magnitude among the attributes, we'll use MinMaxScaler to standardize numerical data\n",
        "\n",
        "from sklearn.preprocessing import MinMaxScaler\n",
        "\n",
        "scaler = MinMaxScaler(copy=False,feature_range=(-1, 1))\n",
        "scaler.fit(df_numerical) \n",
        "scaled_data = scaler.transform(df_numerical)\n",
        "scaled_df = pd.DataFrame(scaled_data)\n",
        "scaled_df.columns = df_numerical.columns\n",
        "df_categorical_new = df_categorical\n"
      ],
      "metadata": {
        "id": "EcQN9JE7rca7"
      },
      "execution_count": 174,
      "outputs": []
    },
    {
      "cell_type": "code",
      "source": [
        "scaled_df.boxplot(figsize=(10,10))\n",
        "plt.xticks(rotation=90)"
      ],
      "metadata": {
        "id": "xym2IT6grl7n",
        "colab": {
          "base_uri": "https://localhost:8080/",
          "height": 680
        },
        "outputId": "d7b3ca5b-ba2d-4f53-9b0a-315893650b1c"
      },
      "execution_count": 175,
      "outputs": [
        {
          "output_type": "execute_result",
          "data": {
            "text/plain": [
              "(array([1, 2, 3, 4, 5, 6, 7]), <a list of 7 Text major ticklabel objects>)"
            ]
          },
          "metadata": {},
          "execution_count": 175
        },
        {
          "output_type": "display_data",
          "data": {
            "text/plain": [
              "<Figure size 720x720 with 1 Axes>"
            ],
            "image/png": "[encoded data removed]"
          },
          "metadata": {
            "needs_background": "light"
          }
        }
      ]
    },
    {
      "cell_type": "code",
      "source": [
        "df = pd.concat([scaled_df, df_categorical_new], axis=1)\n",
        "df"
      ],
      "metadata": {
        "id": "hzT5p9DO60Jv",
        "colab": {
          "base_uri": "https://localhost:8080/",
          "height": 424
        },
        "outputId": "82e44576-168f-4f43-9605-83e71eb5db1e"
      },
      "execution_count": 176,
      "outputs": [
        {
          "output_type": "execute_result",
          "data": {
            "text/plain": [
              "          vulc  perc_nat_rubber   weather  perc_imp  temperature  elevation  \\\n",
              "0    -0.355505        -0.428571 -0.711111      -0.6    -0.603412  -0.351893   \n",
              "1    -0.047446         0.285714 -0.400000      -0.6    -0.475480  -0.361915   \n",
              "2    -0.223156         0.142857 -0.400000      -0.6    -0.353234  -0.542316   \n",
              "3    -0.490352         0.214286 -0.644444      -0.2    -0.050462  -0.183742   \n",
              "4    -0.451986        -0.642857 -0.200000      -0.6     0.769723  -0.406459   \n",
              "...        ...              ...       ...       ...          ...        ...   \n",
              "2995 -0.375028        -0.214286 -0.200000      -0.6    -0.056148  -0.452116   \n",
              "2996 -0.459251        -0.142857 -0.577778      -1.0    -0.366027  -0.752784   \n",
              "2997 -0.562089         0.071429 -0.200000      -0.6    -0.437100  -0.569042   \n",
              "2998 -0.255392         0.357143 -1.000000      -1.0    -0.341862  -0.446548   \n",
              "2999 -0.096481         0.071429 -0.933333      -1.0    -0.215352  -0.190423   \n",
              "\n",
              "      perc_exp_comp  tread_type  tyre_season  month  tread_depth  \\\n",
              "0         -0.558052           0            1      8            0   \n",
              "1          0.205993           2            0     11            1   \n",
              "2          0.363296           0            0      0            1   \n",
              "3          0.558052           1            0      7            3   \n",
              "4          0.205993           0            1      2            2   \n",
              "...             ...         ...          ...    ...          ...   \n",
              "2995      -0.146067           1            1     10            1   \n",
              "2996      -0.048689           1            1      6            1   \n",
              "2997      -0.228464           1            0      8            3   \n",
              "2998       0.011236           4            0     11            0   \n",
              "2999       0.093633           1            0      2            1   \n",
              "\n",
              "      wiring_strength  tyre_quality  add_layers  failure  \n",
              "0                   1             1           1        0  \n",
              "1                   1             0           1        0  \n",
              "2                   1             0           1        0  \n",
              "3                   1             1           1        0  \n",
              "4                   2             0           1        0  \n",
              "...               ...           ...         ...      ...  \n",
              "2995                2             1           1        1  \n",
              "2996                1             0           1        1  \n",
              "2997                1             1           0        0  \n",
              "2998                0             0           0        0  \n",
              "2999                2             0           0        0  \n",
              "\n",
              "[3000 rows x 15 columns]"
            ],
            "text/html": [
              "\n",
              "  <div id=\"df-93f06207-ac04-42d5-a21b-92ceb222a512\">\n",
              "    <div class=\"colab-df-container\">\n",
              "      <div>\n",
              "<style scoped>\n",
              "    .dataframe tbody tr th:only-of-type {\n",
              "        vertical-align: middle;\n",
              "    }\n",
              "\n",
              "    .dataframe tbody tr th {\n",
              "        vertical-align: top;\n",
              "    }\n",
              "\n",
              "    .dataframe thead th {\n",
              "        text-align: right;\n",
              "    }\n",
              "</style>\n",
              "<table border=\"1\" class=\"dataframe\">\n",
              "  <thead>\n",
              "    <tr style=\"text-align: right;\">\n",
              "      <th></th>\n",
              "      <th>vulc</th>\n",
              "      <th>perc_nat_rubber</th>\n",
              "      <th>weather</th>\n",
              "      <th>perc_imp</th>\n",
              "      <th>temperature</th>\n",
              "      <th>elevation</th>\n",
              "      <th>perc_exp_comp</th>\n",
              "      <th>tread_type</th>\n",
              "      <th>tyre_season</th>\n",
              "      <th>month</th>\n",
              "      <th>tread_depth</th>\n",
              "      <th>wiring_strength</th>\n",
              "      <th>tyre_quality</th>\n",
              "      <th>add_layers</th>\n",
              "      <th>failure</th>\n",
              "    </tr>\n",
              "  </thead>\n",
              "  <tbody>\n",
              "    <tr>\n",
              "      <th>0</th>\n",
              "      <td>-0.355505</td>\n",
              "      <td>-0.428571</td>\n",
              "      <td>-0.711111</td>\n",
              "      <td>-0.6</td>\n",
              "      <td>-0.603412</td>\n",
              "      <td>-0.351893</td>\n",
              "      <td>-0.558052</td>\n",
              "      <td>0</td>\n",
              "      <td>1</td>\n",
              "      <td>8</td>\n",
              "      <td>0</td>\n",
              "      <td>1</td>\n",
              "      <td>1</td>\n",
              "      <td>1</td>\n",
              "      <td>0</td>\n",
              "    </tr>\n",
              "    <tr>\n",
              "      <th>1</th>\n",
              "      <td>-0.047446</td>\n",
              "      <td>0.285714</td>\n",
              "      <td>-0.400000</td>\n",
              "      <td>-0.6</td>\n",
              "      <td>-0.475480</td>\n",
              "      <td>-0.361915</td>\n",
              "      <td>0.205993</td>\n",
              "      <td>2</td>\n",
              "      <td>0</td>\n",
              "      <td>11</td>\n",
              "      <td>1</td>\n",
              "      <td>1</td>\n",
              "      <td>0</td>\n",
              "      <td>1</td>\n",
              "      <td>0</td>\n",
              "    </tr>\n",
              "    <tr>\n",
              "      <th>2</th>\n",
              "      <td>-0.223156</td>\n",
              "      <td>0.142857</td>\n",
              "      <td>-0.400000</td>\n",
              "      <td>-0.6</td>\n",
              "      <td>-0.353234</td>\n",
              "      <td>-0.542316</td>\n",
              "      <td>0.363296</td>\n",
              "      <td>0</td>\n",
              "      <td>0</td>\n",
              "      <td>0</td>\n",
              "      <td>1</td>\n",
              "      <td>1</td>\n",
              "      <td>0</td>\n",
              "      <td>1</td>\n",
              "      <td>0</td>\n",
              "    </tr>\n",
              "    <tr>\n",
              "      <th>3</th>\n",
              "      <td>-0.490352</td>\n",
              "      <td>0.214286</td>\n",
              "      <td>-0.644444</td>\n",
              "      <td>-0.2</td>\n",
              "      <td>-0.050462</td>\n",
              "      <td>-0.183742</td>\n",
              "      <td>0.558052</td>\n",
              "      <td>1</td>\n",
              "      <td>0</td>\n",
              "      <td>7</td>\n",
              "      <td>3</td>\n",
              "      <td>1</td>\n",
              "      <td>1</td>\n",
              "      <td>1</td>\n",
              "      <td>0</td>\n",
              "    </tr>\n",
              "    <tr>\n",
              "      <th>4</th>\n",
              "      <td>-0.451986</td>\n",
              "      <td>-0.642857</td>\n",
              "      <td>-0.200000</td>\n",
              "      <td>-0.6</td>\n",
              "      <td>0.769723</td>\n",
              "      <td>-0.406459</td>\n",
              "      <td>0.205993</td>\n",
              "      <td>0</td>\n",
              "      <td>1</td>\n",
              "      <td>2</td>\n",
              "      <td>2</td>\n",
              "      <td>2</td>\n",
              "      <td>0</td>\n",
              "      <td>1</td>\n",
              "      <td>0</td>\n",
              "    </tr>\n",
              "    <tr>\n",
              "      <th>...</th>\n",
              "      <td>...</td>\n",
              "      <td>...</td>\n",
              "      <td>...</td>\n",
              "      <td>...</td>\n",
              "      <td>...</td>\n",
              "      <td>...</td>\n",
              "      <td>...</td>\n",
              "      <td>...</td>\n",
              "      <td>...</td>\n",
              "      <td>...</td>\n",
              "      <td>...</td>\n",
              "      <td>...</td>\n",
              "      <td>...</td>\n",
              "      <td>...</td>\n",
              "      <td>...</td>\n",
              "    </tr>\n",
              "    <tr>\n",
              "      <th>2995</th>\n",
              "      <td>-0.375028</td>\n",
              "      <td>-0.214286</td>\n",
              "      <td>-0.200000</td>\n",
              "      <td>-0.6</td>\n",
              "      <td>-0.056148</td>\n",
              "      <td>-0.452116</td>\n",
              "      <td>-0.146067</td>\n",
              "      <td>1</td>\n",
              "      <td>1</td>\n",
              "      <td>10</td>\n",
              "      <td>1</td>\n",
              "      <td>2</td>\n",
              "      <td>1</td>\n",
              "      <td>1</td>\n",
              "      <td>1</td>\n",
              "    </tr>\n",
              "    <tr>\n",
              "      <th>2996</th>\n",
              "      <td>-0.459251</td>\n",
              "      <td>-0.142857</td>\n",
              "      <td>-0.577778</td>\n",
              "      <td>-1.0</td>\n",
              "      <td>-0.366027</td>\n",
              "      <td>-0.752784</td>\n",
              "      <td>-0.048689</td>\n",
              "      <td>1</td>\n",
              "      <td>1</td>\n",
              "      <td>6</td>\n",
              "      <td>1</td>\n",
              "      <td>1</td>\n",
              "      <td>0</td>\n",
              "      <td>1</td>\n",
              "      <td>1</td>\n",
              "    </tr>\n",
              "    <tr>\n",
              "      <th>2997</th>\n",
              "      <td>-0.562089</td>\n",
              "      <td>0.071429</td>\n",
              "      <td>-0.200000</td>\n",
              "      <td>-0.6</td>\n",
              "      <td>-0.437100</td>\n",
              "      <td>-0.569042</td>\n",
              "      <td>-0.228464</td>\n",
              "      <td>1</td>\n",
              "      <td>0</td>\n",
              "      <td>8</td>\n",
              "      <td>3</td>\n",
              "      <td>1</td>\n",
              "      <td>1</td>\n",
              "      <td>0</td>\n",
              "      <td>0</td>\n",
              "    </tr>\n",
              "    <tr>\n",
              "      <th>2998</th>\n",
              "      <td>-0.255392</td>\n",
              "      <td>0.357143</td>\n",
              "      <td>-1.000000</td>\n",
              "      <td>-1.0</td>\n",
              "      <td>-0.341862</td>\n",
              "      <td>-0.446548</td>\n",
              "      <td>0.011236</td>\n",
              "      <td>4</td>\n",
              "      <td>0</td>\n",
              "      <td>11</td>\n",
              "      <td>0</td>\n",
              "      <td>0</td>\n",
              "      <td>0</td>\n",
              "      <td>0</td>\n",
              "      <td>0</td>\n",
              "    </tr>\n",
              "    <tr>\n",
              "      <th>2999</th>\n",
              "      <td>-0.096481</td>\n",
              "      <td>0.071429</td>\n",
              "      <td>-0.933333</td>\n",
              "      <td>-1.0</td>\n",
              "      <td>-0.215352</td>\n",
              "      <td>-0.190423</td>\n",
              "      <td>0.093633</td>\n",
              "      <td>1</td>\n",
              "      <td>0</td>\n",
              "      <td>2</td>\n",
              "      <td>1</td>\n",
              "      <td>2</td>\n",
              "      <td>0</td>\n",
              "      <td>0</td>\n",
              "      <td>0</td>\n",
              "    </tr>\n",
              "  </tbody>\n",
              "</table>\n",
              "<p>3000 rows × 15 columns</p>\n",
              "</div>\n",
              "      <button class=\"colab-df-convert\" onclick=\"convertToInteractive('df-93f06207-ac04-42d5-a21b-92ceb222a512')\"\n",
              "              title=\"Convert this dataframe to an interactive table.\"\n",
              "              style=\"display:none;\">\n",
              "        \n",
              "  <svg xmlns=\"http://www.w3.org/2000/svg\" height=\"24px\"viewBox=\"0 0 24 24\"\n",
              "       width=\"24px\">\n",
              "    <path d=\"M0 0h24v24H0V0z\" fill=\"none\"/>\n",
              "    <path d=\"M18.56 5.44l.94 2.06.94-2.06 2.06-.94-2.06-.94-.94-2.06-.94 2.06-2.06.94zm-11 1L8.5 8.5l.94-2.06 2.06-.94-2.06-.94L8.5 2.5l-.94 2.06-2.06.94zm10 10l.94 2.06.94-2.06 2.06-.94-2.06-.94-.94-2.06-.94 2.06-2.06.94z\"/><path d=\"M17.41 7.96l-1.37-1.37c-.4-.4-.92-.59-1.43-.59-.52 0-1.04.2-1.43.59L10.3 9.45l-7.72 7.72c-.78.78-.78 2.05 0 2.83L4 21.41c.39.39.9.59 1.41.59.51 0 1.02-.2 1.41-.59l7.78-7.78 2.81-2.81c.8-.78.8-2.07 0-2.86zM5.41 20L4 18.59l7.72-7.72 1.47 1.35L5.41 20z\"/>\n",
              "  </svg>\n",
              "      </button>\n",
              "      \n",
              "  <style>\n",
              "    .colab-df-container {\n",
              "      display:flex;\n",
              "      flex-wrap:wrap;\n",
              "      gap: 12px;\n",
              "    }\n",
              "\n",
              "    .colab-df-convert {\n",
              "      background-color: #E8F0FE;\n",
              "      border: none;\n",
              "      border-radius: 50%;\n",
              "      cursor: pointer;\n",
              "      display: none;\n",
              "      fill: #1967D2;\n",
              "      height: 32px;\n",
              "      padding: 0 0 0 0;\n",
              "      width: 32px;\n",
              "    }\n",
              "\n",
              "    .colab-df-convert:hover {\n",
              "      background-color: #E2EBFA;\n",
              "      box-shadow: 0px 1px 2px rgba(60, 64, 67, 0.3), 0px 1px 3px 1px rgba(60, 64, 67, 0.15);\n",
              "      fill: #174EA6;\n",
              "    }\n",
              "\n",
              "    [theme=dark] .colab-df-convert {\n",
              "      background-color: #3B4455;\n",
              "      fill: #D2E3FC;\n",
              "    }\n",
              "\n",
              "    [theme=dark] .colab-df-convert:hover {\n",
              "      background-color: #434B5C;\n",
              "      box-shadow: 0px 1px 3px 1px rgba(0, 0, 0, 0.15);\n",
              "      filter: drop-shadow(0px 1px 2px rgba(0, 0, 0, 0.3));\n",
              "      fill: #FFFFFF;\n",
              "    }\n",
              "  </style>\n",
              "\n",
              "      <script>\n",
              "        const buttonEl =\n",
              "          document.querySelector('#df-93f06207-ac04-42d5-a21b-92ceb222a512 button.colab-df-convert');\n",
              "        buttonEl.style.display =\n",
              "          google.colab.kernel.accessAllowed ? 'block' : 'none';\n",
              "\n",
              "        async function convertToInteractive(key) {\n",
              "          const element = document.querySelector('#df-93f06207-ac04-42d5-a21b-92ceb222a512');\n",
              "          const dataTable =\n",
              "            await google.colab.kernel.invokeFunction('convertToInteractive',\n",
              "                                                     [key], {});\n",
              "          if (!dataTable) return;\n",
              "\n",
              "          const docLinkHtml = 'Like what you see? Visit the ' +\n",
              "            '<a target=\"_blank\" href=https://colab.research.google.com/notebooks/data_table.ipynb>data table notebook</a>'\n",
              "            + ' to learn more about interactive tables.';\n",
              "          element.innerHTML = '';\n",
              "          dataTable['output_type'] = 'display_data';\n",
              "          await google.colab.output.renderOutput(dataTable, element);\n",
              "          const docLink = document.createElement('div');\n",
              "          docLink.innerHTML = docLinkHtml;\n",
              "          element.appendChild(docLink);\n",
              "        }\n",
              "      </script>\n",
              "    </div>\n",
              "  </div>\n",
              "  "
            ]
          },
          "metadata": {},
          "execution_count": 176
        }
      ]
    },
    {
      "cell_type": "code",
      "source": [
        "df.boxplot(figsize=(10,10))\n",
        "plt.xticks(rotation=90)"
      ],
      "metadata": {
        "id": "FqcMDTmC7Xr3",
        "colab": {
          "base_uri": "https://localhost:8080/",
          "height": 698
        },
        "outputId": "4ae4004c-4528-435f-ca5b-c29c918fec4b"
      },
      "execution_count": 177,
      "outputs": [
        {
          "output_type": "execute_result",
          "data": {
            "text/plain": [
              "(array([ 1,  2,  3,  4,  5,  6,  7,  8,  9, 10, 11, 12, 13, 14, 15]),\n",
              " <a list of 15 Text major ticklabel objects>)"
            ]
          },
          "metadata": {},
          "execution_count": 177
        },
        {
          "output_type": "display_data",
          "data": {
            "text/plain": [
              "<Figure size 720x720 with 1 Axes>"
            ],
            "image/png": "[encoded data removed]"
          },
          "metadata": {
            "needs_background": "light"
          }
        }
      ]
    },
    {
      "cell_type": "markdown",
      "source": [
        "Outliers (numerical data)"
      ],
      "metadata": {
        "id": "mGhCPRZp9vYx"
      }
    },
    {
      "cell_type": "code",
      "source": [
        "\n",
        "# %matplotlib inline\n",
        "# import seaborn as sns\n",
        "\n",
        "# sns.boxplot(x=df['vulc'])\n"
      ],
      "metadata": {
        "id": "nWsP2r1v9zhF"
      },
      "execution_count": 178,
      "outputs": []
    },
    {
      "cell_type": "code",
      "source": [
        "# df.hist(column=\"vulc\", bins='auto')"
      ],
      "metadata": {
        "id": "Dteo72j7-NdG"
      },
      "execution_count": 179,
      "outputs": []
    },
    {
      "cell_type": "code",
      "source": [
        "# Based on Chebyshev’s theorem, a proportion at least equal to (1 − 1/γ 2) of the values will\n",
        "# fall within the interval (μ ± γ*σ ), namely at no more than γ standard deviations from the sample mean.\n",
        "\n",
        "# for example γ = 3, the theorem guarantees that at least (1 − 1/3^2) =\n",
        "# 8/9 ≈ 89% of the values will fall within the interval (μ ± 3σ )"
      ],
      "metadata": {
        "id": "g1zx_DKGAMun"
      },
      "execution_count": 180,
      "outputs": []
    },
    {
      "cell_type": "code",
      "source": [
        "# keep only the ones that are within +x to -x standard deviations in the column\n",
        "# x = 3\n",
        "\n",
        "# numericals = df[['vulc','perc_nat_rubber','weather', 'perc_imp', 'temperature', 'elevation', 'perc_exp_comp']]\n",
        "\n",
        "# for col in numericals:\n",
        "#   column = df[col]\n",
        "#   mean = column.mean()\n",
        "#   sd = column.std()\n",
        "#   df[col] = column[ np.abs(column - mean) <= 3 * sd ]"
      ],
      "metadata": {
        "id": "FV6o1jPICq_M"
      },
      "execution_count": 181,
      "outputs": []
    },
    {
      "cell_type": "code",
      "source": [
        "# df\n"
      ],
      "metadata": {
        "id": "-a-Dyj2F_GlP"
      },
      "execution_count": 182,
      "outputs": []
    },
    {
      "cell_type": "code",
      "source": [
        "# # we drop the observations containing NaN that are considered outliers\n",
        "# df = df.dropna(axis=0)\n",
        "# df.isna().any()"
      ],
      "metadata": {
        "id": "zMW3YMkxGb6X"
      },
      "execution_count": 183,
      "outputs": []
    },
    {
      "cell_type": "code",
      "source": [
        "# df.shape #we have dropped `170 observations (outliers)"
      ],
      "metadata": {
        "id": "ACOYr-84BiOd"
      },
      "execution_count": 184,
      "outputs": []
    },
    {
      "cell_type": "code",
      "source": [
        "# df.boxplot(figsize=(10,10))\n",
        "# plt.xticks(rotation=90)"
      ],
      "metadata": {
        "id": "868CHtqoBZYi"
      },
      "execution_count": 185,
      "outputs": []
    },
    {
      "cell_type": "markdown",
      "source": [
        "Assign Categorical type"
      ],
      "metadata": {
        "id": "-m1qX8OwPGsn"
      }
    },
    {
      "cell_type": "code",
      "source": [
        "for col in df_categorical:\n",
        "  column = df[col]\n",
        "  df[col] = column.astype('category')\n",
        "\n"
      ],
      "metadata": {
        "id": "LmH0VsGSPFud"
      },
      "execution_count": 186,
      "outputs": []
    },
    {
      "cell_type": "code",
      "source": [
        "df.dtypes"
      ],
      "metadata": {
        "colab": {
          "base_uri": "https://localhost:8080/"
        },
        "id": "f4OBdh_VPrWD",
        "outputId": "e2d60941-6362-4b60-974d-05edd491b0b3"
      },
      "execution_count": 187,
      "outputs": [
        {
          "output_type": "execute_result",
          "data": {
            "text/plain": [
              "vulc                float64\n",
              "perc_nat_rubber     float64\n",
              "weather             float64\n",
              "perc_imp            float64\n",
              "temperature         float64\n",
              "elevation           float64\n",
              "perc_exp_comp       float64\n",
              "tread_type         category\n",
              "tyre_season        category\n",
              "month              category\n",
              "tread_depth        category\n",
              "wiring_strength    category\n",
              "tyre_quality       category\n",
              "add_layers         category\n",
              "failure            category\n",
              "dtype: object"
            ]
          },
          "metadata": {},
          "execution_count": 187
        }
      ]
    },
    {
      "cell_type": "markdown",
      "source": [
        "Gini Index"
      ],
      "metadata": {
        "id": "gsC4Lo5e2Cj8"
      }
    },
    {
      "cell_type": "code",
      "source": [
        "# now we want to compute the gini index of every categorical variable\n",
        "# to understand if we want to drop any. A low Gini means that the categorical variable\n",
        "# has low heterogenity, meaning that a class of the category encodes the most observations\n",
        "# Thus, the variable may not be significant in the explanation of the target\n",
        "\n",
        "from collections import Counter\n",
        "\n",
        "def gini_index(df, attribute):\n",
        "  # Calculate the frequency of each unique value in the attribute\n",
        "  freq = Counter(df[attribute])\n",
        "  # Initialize the Gini index to 0\n",
        "  gini = 0\n",
        "  # Iterate over the frequency of each unique value\n",
        "  for value in freq.values():\n",
        "    # Calculate the probability of each unique value\n",
        "    prob = value / sum(freq.values())\n",
        "    # Add the probability of each unique value squared to the Gini index\n",
        "    gini += prob ** 2\n",
        "  # Subtract the sum of the probabilities squared from 1\n",
        "  gini = 1 - gini\n",
        "  return gini"
      ],
      "metadata": {
        "id": "59G0iGXGTZQm"
      },
      "execution_count": 188,
      "outputs": []
    },
    {
      "cell_type": "code",
      "source": [
        "# lets calulate the gini index of every categorical variable\n",
        "# We've got the following categorical variables: tread_type, tyre_season, month, tread_depth, wiring_strength, tyre_quality, add_layers\n",
        "\n",
        "print(gini_index(df, 'tread_type'))\n",
        "print(gini_index(df, 'tyre_season')) ## 0.49 Pretty low\n",
        "print(gini_index(df, 'month'))\n",
        "print(gini_index(df, 'tread_depth'))\n",
        "print(gini_index(df, 'wiring_strength')) ## 0.52 Pretty low\n",
        "print(gini_index(df, 'tyre_quality')) ## 0.43 Pretty low\n",
        "print(gini_index(df, 'add_layers')) ## 0.25 Low Gini Index. Maybe we can drop it"
      ],
      "metadata": {
        "id": "g_IWCl4411g-",
        "colab": {
          "base_uri": "https://localhost:8080/"
        },
        "outputId": "24032d82-39c0-47e8-fa37-226c29720b9a"
      },
      "execution_count": 189,
      "outputs": [
        {
          "output_type": "stream",
          "name": "stdout",
          "text": [
            "0.7744771111111111\n",
            "0.49545577777777783\n",
            "0.8881906666666667\n",
            "0.7255353333333333\n",
            "0.517973111111111\n",
            "0.42754644444444445\n",
            "0.24544866666666676\n"
          ]
        }
      ]
    },
    {
      "cell_type": "code",
      "source": [
        "#df = df.drop('add_layers', axis=1)\n",
        "\n",
        "# a low gini index indicate a low incidence from the variable on the target. We tried our best perfomant model\n",
        "# on the dataset with this variable droped, but the results were slightly worse. for this reason we decided to keep it."
      ],
      "metadata": {
        "id": "1thD36UO6E7X"
      },
      "execution_count": 190,
      "outputs": []
    },
    {
      "cell_type": "markdown",
      "source": [
        "Imbalanced Data"
      ],
      "metadata": {
        "id": "5WViGhIS2EfW"
      }
    },
    {
      "cell_type": "code",
      "source": [
        "# managing imbalanced data\n",
        "# Print class freq. through pandas \n",
        "print(df.groupby('failure').size())\n",
        "\n",
        "#some imports to plot \n",
        "import matplotlib.pyplot as plt\n",
        "import seaborn as sns\n",
        "%matplotlib inline\n",
        "plt.style.use('ggplot')\n",
        "\n",
        "#Visualize Class Counts\n",
        "sns.countplot(y=df['failure'] ,data=df)\n",
        "plt.xlabel(\"count of each class\")\n",
        "plt.ylabel(\"classes\")\n",
        "plt.show()"
      ],
      "metadata": {
        "id": "agyFnsV02GKF",
        "colab": {
          "base_uri": "https://localhost:8080/",
          "height": 351
        },
        "outputId": "3a75549d-5b0e-4b8b-a7c1-c44279945463"
      },
      "execution_count": 191,
      "outputs": [
        {
          "output_type": "stream",
          "name": "stdout",
          "text": [
            "failure\n",
            "0    1992\n",
            "1    1008\n",
            "dtype: int64\n"
          ]
        },
        {
          "output_type": "display_data",
          "data": {
            "text/plain": [
              "<Figure size 432x288 with 1 Axes>"
            ],
            "image/png": "[encoded data removed]"
          },
          "metadata": {}
        }
      ]
    },
    {
      "cell_type": "code",
      "source": [
        "from sklearn.metrics import accuracy_score\n",
        "\n",
        "y=df['failure']\n",
        "y_pred=np.zeros(len(y))\n",
        "\n",
        "accuracy_score(y, y_pred)\n",
        "\n",
        "# We'll do our analysis on Downsapled and Oversampled datasets, and we'll compare the performance of our model on both"
      ],
      "metadata": {
        "id": "VkUG_lXw2Zjj",
        "colab": {
          "base_uri": "https://localhost:8080/"
        },
        "outputId": "e2b99684-8ba6-468f-a357-1137e427dd11"
      },
      "execution_count": 192,
      "outputs": [
        {
          "output_type": "execute_result",
          "data": {
            "text/plain": [
              "0.664"
            ]
          },
          "metadata": {},
          "execution_count": 192
        }
      ]
    },
    {
      "cell_type": "code",
      "source": [
        "# Creation of Downsampled dataset\n",
        "\n",
        "from sklearn.utils import resample\n",
        "#Down-sample Majority Class\n",
        "#1) Separate majority and minority classes\n",
        "df_majority = df[df.failure==0] #\"target\" is the name of the target column, change it accordingly to your dataset\n",
        "df_minority = df[df.failure==1] #\"target\" is the name of the target column, change it accordingly to your dataset\n",
        " \n",
        "#2) Downsample majority class\n",
        "df_majority_downsampled = resample(df_majority, \n",
        "                                   replace=False,\n",
        "                                   n_samples=1008,     # number of samples into the minority class (change it accordingly to your dataset)\n",
        "                                   random_state=123)  # reproducible results\n",
        " \n",
        "#3) Combine minority class with downsampled majority class\n",
        "df_downsampled = pd.concat([df_majority_downsampled, df_minority])\n",
        " \n",
        "#4) Display new class counts\n",
        "df_downsampled.failure.value_counts() #\"target\" is the name of the target column, change it accordingly to your dataset"
      ],
      "metadata": {
        "id": "1OedKiQQ2lgx",
        "colab": {
          "base_uri": "https://localhost:8080/"
        },
        "outputId": "6b81ff27-90c0-4fda-ac42-34cfc1f2d182"
      },
      "execution_count": 193,
      "outputs": [
        {
          "output_type": "execute_result",
          "data": {
            "text/plain": [
              "0    1008\n",
              "1    1008\n",
              "Name: failure, dtype: int64"
            ]
          },
          "metadata": {},
          "execution_count": 193
        }
      ]
    },
    {
      "cell_type": "code",
      "source": [
        "from sklearn.utils import resample\n",
        "\n",
        "#Over-sample Minority Class\n",
        "#1) Separate majority and minority classes\n",
        "df_majority = df[df.failure==0] #\"target\" is the name of the target column, change it accordingly to your dataset\n",
        "df_minority = df[df.failure==1] #\"target\" is the name of the target column, change it accordingly to your dataset\n",
        " \n",
        "#2) Oversample minority class\n",
        "df_minority_oversampled = resample(df_minority, \n",
        "                                   replace=True,\n",
        "                                   n_samples=1992,     # number of samples into the minority class (change it accordingly to your dataset)\n",
        "                                   random_state=123)  # reproducible results\n",
        " \n",
        "#3) Combine oversampled minority class with majority class\n",
        "df_oversampled = pd.concat([df_minority_oversampled, df_majority])\n",
        " \n",
        "#4) Display new class counts\n",
        "df_oversampled.failure.value_counts() #\"target\" is the name of the target column, change it accordingly to your dataset"
      ],
      "metadata": {
        "id": "gqvZyIDu2oal",
        "colab": {
          "base_uri": "https://localhost:8080/"
        },
        "outputId": "96c85919-c340-40a0-8f02-9c6a42940108"
      },
      "execution_count": 194,
      "outputs": [
        {
          "output_type": "execute_result",
          "data": {
            "text/plain": [
              "0    1992\n",
              "1    1992\n",
              "Name: failure, dtype: int64"
            ]
          },
          "metadata": {},
          "execution_count": 194
        }
      ]
    },
    {
      "cell_type": "markdown",
      "source": [
        "Separate Train/Test sets"
      ],
      "metadata": {
        "id": "eNB4tCLJ3Bh-"
      }
    },
    {
      "cell_type": "code",
      "source": [
        "#Separate X and y (explanatory variables and target variable)\n",
        "X = df.iloc[:,:-1]\n",
        "y = df.iloc[:,-1] #[-1]]\n",
        "\n",
        "X_oversampled = df_oversampled.iloc[:,:-1]\n",
        "y_oversampled = df_oversampled.iloc[:,-1] #[-1]]\n",
        "\n",
        "X_downsampled = df_downsampled.iloc[:,:-1]\n",
        "y_downsampled = df_downsampled.iloc[:,-1] #[-1]]\n",
        "\n",
        "\n",
        "#X.head()\n",
        "y.head()"
      ],
      "metadata": {
        "id": "N5WDCXqI3Dze",
        "colab": {
          "base_uri": "https://localhost:8080/"
        },
        "outputId": "3262b478-796a-4dd9-8eab-3403974ed672"
      },
      "execution_count": 195,
      "outputs": [
        {
          "output_type": "execute_result",
          "data": {
            "text/plain": [
              "0    0\n",
              "1    0\n",
              "2    0\n",
              "3    0\n",
              "4    0\n",
              "Name: failure, dtype: category\n",
              "Categories (2, int64): [0, 1]"
            ]
          },
          "metadata": {},
          "execution_count": 195
        }
      ]
    },
    {
      "cell_type": "code",
      "source": [
        "from sklearn.model_selection import train_test_split\n",
        "\n",
        "#SPLIT DATA INTO TRAIN AND TEST SET\n",
        "X_train, X_test, y_train, y_test = train_test_split(X, y, \n",
        "                                                    test_size =0.30, #by default is 75%-25%\n",
        "                                                    #shuffle is set True by default,\n",
        "                                                    stratify=y, #we use the stratify to force that the proportion of 0 and 1 in the test and train is the same\n",
        "                                                    random_state= 123\n",
        "                                                   ) #fix random seed for replicability across different devices. useful for class\n",
        "\n",
        "#SPLIT DATA INTO TRAIN AND TEST SET OF OVERSAMPLED\n",
        "X_oversampled_train, X_oversampled_test, y_oversampled_train, y_oversampled_test = train_test_split(X_oversampled, y_oversampled, \n",
        "                                                    test_size =0.30, #by default is 75%-25%\n",
        "                                                    #shuffle is set True by default,\n",
        "                                                    stratify=y_oversampled, #we use the stratify to force that the proportion of 0 and 1 in the test and train is the same\n",
        "                                                    random_state= 123\n",
        "                                                   ) #fix random seed for replicability across different devices. useful for class\n",
        "\n",
        "#SPLIT DATA INTO TRAIN AND TEST SET OF DOWNSAMPLED\n",
        "X_downsampled_train, X_downsampled_test, y_downsampled_train, y_downsampled_test = train_test_split(X_downsampled, y_downsampled, \n",
        "                                                    test_size =0.30, #by default is 75%-25%\n",
        "                                                    #shuffle is set True by default,\n",
        "                                                    stratify=y_downsampled, #we use the stratify to force that the proportion of 0 and 1 in the test and train is the same\n",
        "                                                    random_state= 123\n",
        "                                                   ) #fix random seed for replicability across different devices. useful for class\n",
        "\n",
        "\n",
        "\n",
        "\n",
        "print(X_train.shape,X_test.shape)\n",
        "print(X_oversampled_train.shape,X_oversampled_test.shape)\n",
        "print(X_downsampled_train.shape,X_downsampled_test.shape)"
      ],
      "metadata": {
        "id": "WQQ48AB23HbF",
        "colab": {
          "base_uri": "https://localhost:8080/"
        },
        "outputId": "505fd821-419b-4758-e3ad-1c8ad3bd544f"
      },
      "execution_count": 196,
      "outputs": [
        {
          "output_type": "stream",
          "name": "stdout",
          "text": [
            "(2100, 14) (900, 14)\n",
            "(2788, 14) (1196, 14)\n",
            "(1411, 14) (605, 14)\n"
          ]
        }
      ]
    },
    {
      "cell_type": "code",
      "source": [
        "y_train_dist=y_train.groupby(y_train.iloc[:]).size()/y_train.size\n",
        "y_test_dist=y_test.groupby(y_test.iloc[:]).size()/y_test.size\n",
        "\n",
        "train_test_dist = pd.DataFrame({'train': y_train_dist, 'test': y_test_dist})\n",
        "ax = train_test_dist.plot.bar(rot=0) # rotation of the labels\n",
        "\n",
        "# stratify command in split function worked well"
      ],
      "metadata": {
        "id": "8_iPYtiQ3MFh",
        "colab": {
          "base_uri": "https://localhost:8080/",
          "height": 282
        },
        "outputId": "c6b00578-2d1f-4d3c-e713-04fbc8220d7a"
      },
      "execution_count": 197,
      "outputs": [
        {
          "output_type": "display_data",
          "data": {
            "text/plain": [
              "<Figure size 432x288 with 1 Axes>"
            ],
            "image/png": "[encoded data removed]"
          },
          "metadata": {}
        }
      ]
    },
    {
      "cell_type": "code",
      "source": [
        "import matplotlib.pyplot as plt\n",
        "\n",
        "x1 = X_train.iloc[:,1]\n",
        "x2 = X_train.iloc[:,5]\n",
        "\n",
        "plt.scatter(x1, x2,alpha=0.2,c=y_train )\n",
        "plt.show()"
      ],
      "metadata": {
        "id": "FeIjHwWE3ZLx",
        "colab": {
          "base_uri": "https://localhost:8080/",
          "height": 265
        },
        "outputId": "3c1c3ef1-c9db-4172-82ee-0b6440ec47bc"
      },
      "execution_count": 198,
      "outputs": [
        {
          "output_type": "display_data",
          "data": {
            "text/plain": [
              "<Figure size 432x288 with 1 Axes>"
            ],
            "image/png": "[encoded data removed]"
          },
          "metadata": {}
        }
      ]
    },
    {
      "cell_type": "markdown",
      "source": [
        "# K-Nearest Neighbor\n"
      ],
      "metadata": {
        "id": "PqihFwQd3dBi"
      }
    },
    {
      "cell_type": "code",
      "source": [
        "#DEFINE YOUR CLASSIFIER and THE PARAMETERS GRID\n",
        "from sklearn.neighbors import KNeighborsClassifier\n",
        "import numpy as np\n",
        "\n",
        "#Create KNN Classifier\n",
        "knn40 = KNeighborsClassifier(n_neighbors=40)\n",
        "\n",
        "#Train the model using the training sets\n",
        "knn40.fit(X_train, y_train)\n",
        "\n",
        "#Predict the response for test dataset\n",
        "y_pred = knn40.predict(X_test)"
      ],
      "metadata": {
        "id": "Jvlh1cAo3nGA"
      },
      "execution_count": 245,
      "outputs": []
    },
    {
      "cell_type": "code",
      "source": [
        "y_pred"
      ],
      "metadata": {
        "colab": {
          "base_uri": "https://localhost:8080/"
        },
        "id": "Zb6u6JJ03p69",
        "outputId": "72405164-7355-48b2-c6f9-5eb67b2707e5"
      },
      "execution_count": 246,
      "outputs": [
        {
          "output_type": "execute_result",
          "data": {
            "text/plain": [
              "array([0, 0, 0, 0, 0, 0, 1, 0, 0, 0, 0, 0, 0, 1, 0, 0, 0, 0, 0, 0, 0, 0,\n",
              "       0, 0, 0, 0, 0, 0, 0, 0, 1, 0, 0, 0, 0, 0, 0, 0, 1, 0, 0, 0, 0, 0,\n",
              "       0, 0, 0, 0, 0, 0, 1, 0, 0, 0, 0, 0, 1, 0, 0, 0, 0, 0, 0, 0, 0, 0,\n",
              "       0, 0, 0, 0, 0, 0, 0, 0, 0, 0, 0, 0, 0, 0, 0, 0, 0, 0, 0, 0, 0, 0,\n",
              "       0, 0, 1, 0, 0, 0, 0, 0, 0, 0, 0, 0, 0, 1, 0, 0, 0, 0, 1, 0, 0, 0,\n",
              "       0, 0, 1, 0, 0, 0, 0, 0, 0, 1, 0, 0, 0, 0, 0, 0, 0, 0, 0, 0, 0, 1,\n",
              "       0, 0, 1, 1, 0, 0, 0, 0, 0, 0, 0, 0, 0, 0, 0, 0, 0, 0, 0, 0, 0, 0,\n",
              "       0, 1, 1, 0, 0, 0, 0, 0, 0, 0, 0, 0, 0, 0, 0, 0, 0, 1, 1, 0, 0, 0,\n",
              "       0, 0, 0, 0, 0, 0, 0, 0, 0, 0, 0, 0, 0, 0, 1, 0, 0, 0, 1, 0, 0, 0,\n",
              "       0, 1, 0, 1, 0, 0, 0, 0, 0, 0, 0, 1, 0, 0, 0, 0, 0, 0, 0, 0, 0, 0,\n",
              "       0, 0, 0, 0, 1, 1, 0, 0, 0, 0, 0, 0, 0, 0, 1, 0, 0, 1, 0, 0, 0, 0,\n",
              "       0, 0, 0, 1, 0, 0, 1, 0, 0, 0, 0, 0, 0, 0, 1, 0, 0, 1, 0, 0, 0, 0,\n",
              "       0, 0, 0, 0, 0, 0, 0, 0, 0, 0, 0, 1, 0, 0, 0, 0, 0, 0, 0, 0, 0, 0,\n",
              "       0, 0, 0, 0, 0, 0, 0, 0, 0, 1, 0, 0, 1, 0, 0, 1, 0, 0, 1, 0, 0, 0,\n",
              "       0, 1, 0, 0, 0, 0, 0, 1, 0, 0, 0, 0, 1, 0, 0, 0, 1, 0, 0, 0, 0, 1,\n",
              "       1, 0, 0, 0, 1, 0, 0, 1, 0, 0, 0, 0, 1, 0, 0, 0, 1, 0, 0, 0, 0, 0,\n",
              "       0, 0, 0, 0, 0, 0, 0, 1, 0, 0, 0, 1, 0, 0, 1, 0, 1, 0, 0, 0, 0, 1,\n",
              "       0, 0, 0, 0, 0, 0, 0, 1, 0, 0, 0, 0, 0, 0, 1, 0, 0, 0, 0, 0, 0, 0,\n",
              "       0, 0, 0, 0, 0, 0, 0, 0, 0, 0, 1, 0, 0, 0, 0, 0, 1, 0, 0, 0, 1, 0,\n",
              "       0, 0, 0, 0, 1, 0, 1, 0, 1, 0, 0, 1, 0, 1, 0, 0, 0, 0, 0, 0, 0, 0,\n",
              "       1, 1, 0, 0, 0, 1, 0, 0, 0, 0, 1, 1, 0, 0, 0, 0, 0, 0, 0, 0, 0, 0,\n",
              "       0, 0, 0, 0, 0, 1, 0, 1, 0, 0, 0, 0, 0, 0, 0, 0, 0, 0, 1, 1, 1, 0,\n",
              "       0, 0, 0, 0, 0, 0, 1, 0, 0, 0, 1, 1, 0, 0, 0, 0, 1, 0, 0, 0, 1, 0,\n",
              "       0, 0, 0, 0, 0, 0, 0, 0, 1, 0, 0, 0, 0, 0, 0, 0, 0, 0, 1, 0, 0, 0,\n",
              "       0, 0, 0, 0, 0, 0, 1, 0, 0, 0, 0, 0, 0, 0, 1, 0, 0, 0, 1, 0, 1, 0,\n",
              "       1, 0, 1, 0, 0, 0, 0, 0, 0, 0, 0, 1, 0, 0, 0, 1, 0, 0, 0, 0, 0, 1,\n",
              "       0, 0, 0, 0, 0, 0, 0, 1, 0, 0, 0, 0, 1, 0, 0, 0, 0, 0, 0, 0, 0, 0,\n",
              "       0, 0, 0, 0, 1, 0, 0, 0, 0, 0, 0, 0, 0, 0, 0, 0, 0, 0, 0, 0, 1, 0,\n",
              "       0, 0, 0, 0, 0, 0, 0, 0, 0, 0, 0, 0, 0, 0, 0, 0, 0, 0, 0, 0, 1, 1,\n",
              "       1, 0, 0, 0, 0, 0, 0, 0, 0, 1, 0, 0, 0, 0, 0, 0, 0, 1, 0, 0, 0, 0,\n",
              "       0, 1, 1, 0, 1, 0, 0, 0, 0, 0, 0, 1, 0, 0, 0, 0, 0, 0, 0, 0, 0, 0,\n",
              "       0, 0, 0, 1, 0, 0, 0, 0, 0, 0, 0, 0, 0, 0, 1, 0, 1, 0, 0, 1, 0, 1,\n",
              "       0, 1, 0, 0, 1, 0, 0, 0, 0, 0, 1, 0, 1, 1, 1, 0, 0, 1, 0, 1, 0, 0,\n",
              "       0, 0, 1, 0, 0, 0, 0, 0, 0, 0, 1, 0, 0, 0, 0, 0, 0, 0, 0, 0, 0, 0,\n",
              "       0, 0, 0, 0, 0, 0, 0, 0, 0, 0, 0, 0, 0, 0, 0, 0, 1, 0, 1, 1, 0, 0,\n",
              "       0, 0, 1, 0, 0, 0, 0, 0, 0, 0, 0, 0, 0, 0, 0, 0, 0, 0, 0, 0, 1, 0,\n",
              "       0, 0, 0, 0, 0, 0, 0, 0, 0, 0, 0, 0, 0, 0, 0, 0, 0, 0, 1, 0, 0, 0,\n",
              "       1, 0, 1, 0, 0, 0, 0, 0, 0, 1, 0, 0, 0, 0, 0, 0, 0, 0, 0, 0, 0, 0,\n",
              "       0, 0, 0, 0, 1, 0, 0, 0, 1, 0, 1, 0, 0, 0, 0, 1, 0, 0, 1, 0, 0, 0,\n",
              "       1, 0, 0, 0, 0, 0, 0, 0, 0, 1, 0, 0, 1, 0, 0, 1, 0, 1, 0, 0, 0, 0,\n",
              "       0, 0, 0, 0, 0, 0, 0, 0, 0, 0, 0, 0, 1, 0, 0, 0, 0, 0, 0, 1])"
            ]
          },
          "metadata": {},
          "execution_count": 246
        }
      ]
    },
    {
      "cell_type": "code",
      "source": [
        "from sklearn.metrics import confusion_matrix\n",
        "print(confusion_matrix(y_test, y_pred))\n",
        "\n",
        "sns.heatmap(confusion_matrix(y_test, y_pred), annot=True, fmt='d', cmap=\"Blues\"); #annot=True to annotate cells fmt: format\n",
        "\n",
        "\n",
        "# rows: true values\n",
        "# column: predicted\n",
        "# e.g. [0,1] false positives (9)"
      ],
      "metadata": {
        "colab": {
          "base_uri": "https://localhost:8080/",
          "height": 300
        },
        "id": "eI0Lk0sH3ueN",
        "outputId": "3e894f94-de59-45e4-a373-c9c550740ea2"
      },
      "execution_count": 247,
      "outputs": [
        {
          "output_type": "stream",
          "name": "stdout",
          "text": [
            "[[551  47]\n",
            " [213  89]]\n"
          ]
        },
        {
          "output_type": "display_data",
          "data": {
            "text/plain": [
              "<Figure size 432x288 with 2 Axes>"
            ],
            "image/png": "[encoded data removed]"
          },
          "metadata": {}
        }
      ]
    },
    {
      "cell_type": "code",
      "source": [
        "#EVALUATE OUR PREDICTION\n",
        "from sklearn import metrics\n",
        "\n",
        "print('***RESULTS ON TEST SET***')\n",
        "print(\"F1_score: \",metrics.f1_score(y_test, y_pred))\n",
        "print(\"Accuracy\",metrics.accuracy_score(y_test, y_pred))\n",
        "print(\"Recall\",metrics.recall_score(y_test, y_pred))"
      ],
      "metadata": {
        "colab": {
          "base_uri": "https://localhost:8080/"
        },
        "id": "8IOKDJRy31sO",
        "outputId": "5f9f31cf-2286-4dad-8c4f-25c333be9e8f"
      },
      "execution_count": 248,
      "outputs": [
        {
          "output_type": "stream",
          "name": "stdout",
          "text": [
            "***RESULTS ON TEST SET***\n",
            "F1_score:  0.406392694063927\n",
            "Accuracy 0.7111111111111111\n",
            "Recall 0.2947019867549669\n"
          ]
        }
      ]
    },
    {
      "cell_type": "code",
      "source": [
        "from sklearn.model_selection import GridSearchCV\n",
        "\n",
        "#Create KNN Classifier\n",
        "classifier = KNeighborsClassifier()\n",
        "parameters = {'n_neighbors':np.arange(1,40)}\n",
        "\n",
        "gs = GridSearchCV(classifier, parameters, cv=3, scoring = 'f1', verbose=90, n_jobs=-1)\n",
        "gs_oversampled = GridSearchCV(classifier, parameters, cv=3, scoring = 'f1', verbose=10, n_jobs=-1)\n",
        "gs_downsampled = GridSearchCV(classifier, parameters, cv=3, scoring = 'f1', verbose=10, n_jobs=-1)"
      ],
      "metadata": {
        "id": "23WnXbrX37cv"
      },
      "execution_count": 249,
      "outputs": []
    },
    {
      "cell_type": "code",
      "source": [
        "#TRAIN YOUR CLASSIFIER\n",
        "gs = gs.fit(X_train, y_train)\n",
        "gs_oversampled = gs_oversampled.fit(X_oversampled_train, y_oversampled_train)\n",
        "gs_downsampled = gs_downsampled.fit(X_downsampled_train, y_downsampled_train)"
      ],
      "metadata": {
        "colab": {
          "base_uri": "https://localhost:8080/"
        },
        "id": "sAfllSTc392J",
        "outputId": "88f85fe8-33ba-4968-ed00-daa05517c2cb"
      },
      "execution_count": 250,
      "outputs": [
        {
          "output_type": "stream",
          "name": "stdout",
          "text": [
            "Fitting 3 folds for each of 39 candidates, totalling 117 fits\n",
            "Fitting 3 folds for each of 39 candidates, totalling 117 fits\n",
            "Fitting 3 folds for each of 39 candidates, totalling 117 fits\n"
          ]
        }
      ]
    },
    {
      "cell_type": "code",
      "source": [
        "#summarize the results of your GRIDSEARCH\n",
        "print(\"Best score: %f using %s\" % (gs.best_score_, gs.best_params_))\n",
        "\n",
        "means = gs.cv_results_['mean_test_score']\n",
        "stds = gs.cv_results_['std_test_score']\n",
        "params = gs.cv_results_['params']\n",
        "for mean, stdev, param in zip(means, stds, params):\n",
        "    print(\"Mean %f Std (%f) with: %r\" % (mean, stdev, param))\n",
        "\n",
        "## the optimal f1 score is with 5 neighbor"
      ],
      "metadata": {
        "colab": {
          "base_uri": "https://localhost:8080/"
        },
        "id": "aNGmybIt4DR1",
        "outputId": "4d318a2c-f0fc-497d-e97e-75fc22ae693c"
      },
      "execution_count": 251,
      "outputs": [
        {
          "output_type": "stream",
          "name": "stdout",
          "text": [
            "Best score: 0.495786 using {'n_neighbors': 5}\n",
            "Mean 0.492825 Std (0.012049) with: {'n_neighbors': 1}\n",
            "Mean 0.363834 Std (0.043401) with: {'n_neighbors': 2}\n",
            "Mean 0.494415 Std (0.018601) with: {'n_neighbors': 3}\n",
            "Mean 0.408339 Std (0.005942) with: {'n_neighbors': 4}\n",
            "Mean 0.495786 Std (0.004586) with: {'n_neighbors': 5}\n",
            "Mean 0.440073 Std (0.022214) with: {'n_neighbors': 6}\n",
            "Mean 0.482886 Std (0.018108) with: {'n_neighbors': 7}\n",
            "Mean 0.441421 Std (0.023844) with: {'n_neighbors': 8}\n",
            "Mean 0.492866 Std (0.017540) with: {'n_neighbors': 9}\n",
            "Mean 0.445330 Std (0.037659) with: {'n_neighbors': 10}\n",
            "Mean 0.488579 Std (0.027628) with: {'n_neighbors': 11}\n",
            "Mean 0.439039 Std (0.034497) with: {'n_neighbors': 12}\n",
            "Mean 0.481363 Std (0.038144) with: {'n_neighbors': 13}\n",
            "Mean 0.440149 Std (0.031367) with: {'n_neighbors': 14}\n",
            "Mean 0.460678 Std (0.037944) with: {'n_neighbors': 15}\n",
            "Mean 0.430486 Std (0.023925) with: {'n_neighbors': 16}\n",
            "Mean 0.472789 Std (0.041243) with: {'n_neighbors': 17}\n",
            "Mean 0.440317 Std (0.032438) with: {'n_neighbors': 18}\n",
            "Mean 0.472510 Std (0.019815) with: {'n_neighbors': 19}\n",
            "Mean 0.446997 Std (0.031014) with: {'n_neighbors': 20}\n",
            "Mean 0.478165 Std (0.021453) with: {'n_neighbors': 21}\n",
            "Mean 0.433183 Std (0.036702) with: {'n_neighbors': 22}\n",
            "Mean 0.453513 Std (0.031014) with: {'n_neighbors': 23}\n",
            "Mean 0.426228 Std (0.019115) with: {'n_neighbors': 24}\n",
            "Mean 0.457306 Std (0.030194) with: {'n_neighbors': 25}\n",
            "Mean 0.426246 Std (0.024925) with: {'n_neighbors': 26}\n",
            "Mean 0.446077 Std (0.026437) with: {'n_neighbors': 27}\n",
            "Mean 0.426269 Std (0.017768) with: {'n_neighbors': 28}\n",
            "Mean 0.447708 Std (0.016871) with: {'n_neighbors': 29}\n",
            "Mean 0.421574 Std (0.018313) with: {'n_neighbors': 30}\n",
            "Mean 0.438471 Std (0.013313) with: {'n_neighbors': 31}\n",
            "Mean 0.415012 Std (0.009047) with: {'n_neighbors': 32}\n",
            "Mean 0.435619 Std (0.019760) with: {'n_neighbors': 33}\n",
            "Mean 0.396862 Std (0.001943) with: {'n_neighbors': 34}\n",
            "Mean 0.423595 Std (0.012388) with: {'n_neighbors': 35}\n",
            "Mean 0.396458 Std (0.009290) with: {'n_neighbors': 36}\n",
            "Mean 0.423108 Std (0.025896) with: {'n_neighbors': 37}\n",
            "Mean 0.401632 Std (0.015786) with: {'n_neighbors': 38}\n",
            "Mean 0.417895 Std (0.029640) with: {'n_neighbors': 39}\n"
          ]
        }
      ]
    },
    {
      "cell_type": "code",
      "source": [
        "# We test the best models on the original test set\n",
        "\n",
        "# Model trained on original test set\n",
        "best_model = gs.best_estimator_\n",
        "y_pred = best_model.predict(X_test)\n",
        "\n",
        "y_pred_train = best_model.predict(X_train)\n",
        "\n",
        "# Model trained on oversampled test set\n",
        "best_model_oversampled = gs_oversampled.best_estimator_\n",
        "y_pred_oversampled = best_model_oversampled.predict(X_test)\n",
        "\n",
        "y_pred_oversampled_train = best_model_oversampled.predict(X_train)\n",
        "\n",
        "# Model trained on downsampled test set\n",
        "best_model_downsampled = gs_downsampled.best_estimator_\n",
        "y_pred_downsampled = best_model_downsampled.predict(X_test)\n",
        "\n",
        "y_pred_downsampled_train = best_model_downsampled.predict(X_train)\n",
        "\n"
      ],
      "metadata": {
        "id": "DWT6j4MeRuC7"
      },
      "execution_count": 252,
      "outputs": []
    },
    {
      "cell_type": "code",
      "source": [
        "#EVALUATE YOUR PREDICTION (on the y_test that you left aside)\n",
        "from sklearn import metrics\n",
        "\n",
        "print('***RESULTS ORIGINAL MODEL***')\n",
        "print('***RESULTS ON TRAIN SET***')\n",
        "print(\"f1_score: \", metrics.f1_score(y_train, y_pred_train))\n",
        "print(\"--\")\n",
        "print('***RESULTS ON TEST SET***')\n",
        "print(\"f1_score: \", metrics.f1_score(y_test, y_pred))\n",
        "print(\" \")\n",
        "print(\" \")\n",
        "\n",
        "print('***RESULTS OVERSAMPLED MODEL***')\n",
        "print('***RESULTS ON TRAIN SET***')\n",
        "print(\"f1_score: \", metrics.f1_score(y_train, y_pred_oversampled_train))\n",
        "print(\"--\")\n",
        "print('***RESULTS ON TEST SET***')\n",
        "print(\"f1_score: \", metrics.f1_score(y_test, y_pred_oversampled))\n",
        "print(\" \")\n",
        "print(\" \")\n",
        "\n",
        "print('***RESULTS DOWNSAMPLED MODEL***')\n",
        "print('***RESULTS ON TRAIN SET***')\n",
        "print(\"f1_score: \", metrics.f1_score(y_train, y_pred_downsampled_train))\n",
        "print(\"--\")\n",
        "print('***RESULTS ON TEST SET***')\n",
        "print(\"f1_score: \", metrics.f1_score(y_test, y_pred_downsampled))\n",
        "\n",
        "#The best F score on the test set is given by the oversampled model"
      ],
      "metadata": {
        "colab": {
          "base_uri": "https://localhost:8080/"
        },
        "id": "oCbxDFryR81y",
        "outputId": "36792b33-e880-4147-d6d6-36f54d08d93e"
      },
      "execution_count": 253,
      "outputs": [
        {
          "output_type": "stream",
          "name": "stdout",
          "text": [
            "***RESULTS ORIGINAL MODEL***\n",
            "***RESULTS ON TRAIN SET***\n",
            "f1_score:  0.6521739130434783\n",
            "--\n",
            "***RESULTS ON TEST SET***\n",
            "f1_score:  0.4328358208955224\n",
            " \n",
            " \n",
            "***RESULTS OVERSAMPLED MODEL***\n",
            "***RESULTS ON TRAIN SET***\n",
            "f1_score:  0.9303030303030303\n",
            "--\n",
            "***RESULTS ON TEST SET***\n",
            "f1_score:  0.7133058984910837\n",
            " \n",
            " \n",
            "***RESULTS DOWNSAMPLED MODEL***\n",
            "***RESULTS ON TRAIN SET***\n",
            "f1_score:  0.6143931256713212\n",
            "--\n",
            "***RESULTS ON TEST SET***\n",
            "f1_score:  0.5882352941176471\n"
          ]
        }
      ]
    },
    {
      "cell_type": "markdown",
      "source": [
        "# Classification Tree"
      ],
      "metadata": {
        "id": "bGY5W_ii4VBY"
      }
    },
    {
      "cell_type": "code",
      "source": [
        "df.info(verbose=True)"
      ],
      "metadata": {
        "colab": {
          "base_uri": "https://localhost:8080/"
        },
        "id": "JEPvA4_X4X6F",
        "outputId": "9c5ffa0f-5c00-41af-993a-25cc9f16b026"
      },
      "execution_count": 43,
      "outputs": [
        {
          "output_type": "stream",
          "name": "stdout",
          "text": [
            "<class 'pandas.core.frame.DataFrame'>\n",
            "RangeIndex: 3000 entries, 0 to 2999\n",
            "Data columns (total 15 columns):\n",
            " #   Column           Non-Null Count  Dtype   \n",
            "---  ------           --------------  -----   \n",
            " 0   vulc             3000 non-null   float64 \n",
            " 1   perc_nat_rubber  3000 non-null   float64 \n",
            " 2   weather          3000 non-null   float64 \n",
            " 3   perc_imp         3000 non-null   float64 \n",
            " 4   temperature      3000 non-null   float64 \n",
            " 5   elevation        3000 non-null   float64 \n",
            " 6   perc_exp_comp    3000 non-null   float64 \n",
            " 7   tread_type       3000 non-null   category\n",
            " 8   tyre_season      3000 non-null   category\n",
            " 9   month            3000 non-null   category\n",
            " 10  tread_depth      3000 non-null   category\n",
            " 11  wiring_strength  3000 non-null   category\n",
            " 12  tyre_quality     3000 non-null   category\n",
            " 13  add_layers       3000 non-null   category\n",
            " 14  failure          3000 non-null   category\n",
            "dtypes: category(8), float64(7)\n",
            "memory usage: 189.0 KB\n"
          ]
        }
      ]
    },
    {
      "cell_type": "code",
      "source": [
        "plt.hist(y_test)\n",
        "plt.xlabel(\"count of each class\")\n",
        "plt.ylabel(\"classes\")\n",
        "plt.show()"
      ],
      "metadata": {
        "colab": {
          "base_uri": "https://localhost:8080/",
          "height": 282
        },
        "id": "BiLo7Ons4b-0",
        "outputId": "3b39b249-3360-4264-9ee0-e183069bc6c0"
      },
      "execution_count": 44,
      "outputs": [
        {
          "output_type": "display_data",
          "data": {
            "text/plain": [
              "<Figure size 432x288 with 1 Axes>"
            ],
            "image/png": "[encoded data removed]"
          },
          "metadata": {}
        }
      ]
    },
    {
      "cell_type": "code",
      "source": [
        "# We train the decision tree on the three datasets, and test the model performances on the test set of the original \n",
        "# dataset for all of them\n",
        "\n",
        "from sklearn.tree import DecisionTreeClassifier\n",
        "model = DecisionTreeClassifier(criterion='gini', max_depth=10, min_samples_split=5, min_samples_leaf=2)\n",
        "model_oversampled = DecisionTreeClassifier(criterion='gini', max_depth=10, min_samples_split=5, min_samples_leaf=2)\n",
        "model_downsampled = DecisionTreeClassifier(criterion='gini', max_depth=10, min_samples_split=5, min_samples_leaf=2)\n",
        "\n",
        "\n",
        "model.fit(X_train, y_train)\n",
        "y_pred = model.predict(X_test)\n",
        "\n",
        "model_oversampled.fit(X_oversampled_train, y_oversampled_train)\n",
        "y_oversampled_pred = model.predict(X_test)\n",
        "\n",
        "model_downsampled.fit(X_downsampled_train, y_downsampled_train)\n",
        "y_downsampled_pred = model.predict(X_test)\n",
        "\n",
        "\n",
        "# criterion : \"gini\", \"entropy\"\n",
        "# max_depth : The maximum depth of the tree.\n",
        "# min_samples_split : The minimum number of samples required to split an internal node:\n",
        "# min_samples_leaf : The minimum number of samples required to be at a leaf node. "
      ],
      "metadata": {
        "id": "6UFev8ta4geK"
      },
      "execution_count": 45,
      "outputs": []
    },
    {
      "cell_type": "code",
      "source": [
        "from sklearn.metrics import confusion_matrix\n",
        "print(confusion_matrix(y_test, y_pred))\n",
        "print(confusion_matrix(y_test, y_oversampled_pred))\n",
        "print(confusion_matrix(y_test, y_downsampled_pred))\n"
      ],
      "metadata": {
        "colab": {
          "base_uri": "https://localhost:8080/"
        },
        "id": "fUmLTHeH4kD_",
        "outputId": "2bdbe9ea-f823-4b91-aadc-ebadc9d061c9"
      },
      "execution_count": 46,
      "outputs": [
        {
          "output_type": "stream",
          "name": "stdout",
          "text": [
            "[[479 119]\n",
            " [145 157]]\n",
            "[[479 119]\n",
            " [145 157]]\n",
            "[[479 119]\n",
            " [145 157]]\n"
          ]
        }
      ]
    },
    {
      "cell_type": "code",
      "source": [
        "#EVALUATE OUR PREDICTION\n",
        "from sklearn import metrics\n",
        "\n",
        "print('***RESULTS ON TEST SET***')\n",
        "print(\"F1_score: \",metrics.f1_score(y_test, y_pred))\n",
        "print(\"Accuracy\",metrics.accuracy_score(y_test, y_pred))\n",
        "print(\"Recall\",metrics.recall_score(y_test, y_pred))\n",
        "\n",
        "print('***RESULTS ON TEST SET OVERSAMPLED***')\n",
        "print(\"F1_score: \",metrics.f1_score(y_test, y_oversampled_pred))\n",
        "print(\"Accuracy\",metrics.accuracy_score(y_test, y_oversampled_pred))\n",
        "print(\"Recall\",metrics.recall_score(y_test, y_oversampled_pred))\n",
        "\n",
        "print('***RESULTS ON TEST SET DOWNSAMPLED***')\n",
        "print(\"F1_score: \",metrics.f1_score(y_test, y_downsampled_pred))\n",
        "print(\"Accuracy\",metrics.accuracy_score(y_test, y_downsampled_pred))\n",
        "print(\"Recall\",metrics.recall_score(y_test, y_downsampled_pred))\n",
        "\n",
        "#with the selected hyperparameters we obtain the exact same results from the three trained models"
      ],
      "metadata": {
        "colab": {
          "base_uri": "https://localhost:8080/"
        },
        "id": "pYdAuh9n4tXK",
        "outputId": "95e38049-1383-4054-9e90-11fadd15e179"
      },
      "execution_count": 47,
      "outputs": [
        {
          "output_type": "stream",
          "name": "stdout",
          "text": [
            "***RESULTS ON TEST SET***\n",
            "F1_score:  0.5432525951557093\n",
            "Accuracy 0.7066666666666667\n",
            "Recall 0.5198675496688742\n",
            "***RESULTS ON TEST SET OVERSAMPLED***\n",
            "F1_score:  0.5432525951557093\n",
            "Accuracy 0.7066666666666667\n",
            "Recall 0.5198675496688742\n",
            "***RESULTS ON TEST SET DOWNSAMPLED***\n",
            "F1_score:  0.5432525951557093\n",
            "Accuracy 0.7066666666666667\n",
            "Recall 0.5198675496688742\n"
          ]
        }
      ]
    },
    {
      "cell_type": "markdown",
      "source": [
        "Hyperparameter optimization for our decision tree"
      ],
      "metadata": {
        "id": "eR8NL4dg49Gn"
      }
    },
    {
      "cell_type": "code",
      "source": [
        "#DEFINE YOUR CLASSIFIER and THE PARAMETERS GRID\n",
        "from sklearn.tree import DecisionTreeClassifier\n",
        "import numpy as np\n",
        "\n",
        "classifier = DecisionTreeClassifier()\n",
        "parameters = {'criterion': ['entropy','gini'], \n",
        "              'max_depth': [20, 50, 100, 200, 500, 1000],\n",
        "              'min_samples_split': [5,10, 20],\n",
        "              'min_samples_leaf': [2,4, 8]}"
      ],
      "metadata": {
        "id": "5lU0TDLh4-49"
      },
      "execution_count": 48,
      "outputs": []
    },
    {
      "cell_type": "code",
      "source": [
        "#DEFINE YOUR GRIDSEARCH \n",
        "'''\n",
        "GS perfoms an exhaustive search over specified parameter values for an estimator.\n",
        "GS uses a Stratified K-Folds cross-validator\n",
        "(The folds are made by preserving the percentage of samples for each class.)\n",
        "If refit=True the model is retrained on the whole training set with the best found params\n",
        "'''\n",
        "from sklearn.model_selection import GridSearchCV\n",
        "gs = GridSearchCV(classifier, parameters, cv=3, scoring = 'f1', verbose=10, n_jobs=-1)\n",
        "gs_oversampled = GridSearchCV(classifier, parameters, cv=3, scoring = 'f1', verbose=10, n_jobs=-1)\n",
        "gs_downsampled = GridSearchCV(classifier, parameters, cv=3, scoring = 'f1', verbose=10, n_jobs=-1)\n",
        "\n"
      ],
      "metadata": {
        "id": "kL_11pAe5C9c"
      },
      "execution_count": 49,
      "outputs": []
    },
    {
      "cell_type": "code",
      "source": [
        "#TRAIN YOUR CLASSIFIER\n",
        "gs = gs.fit(X_train, y_train)\n",
        "gs_oversampled = gs_oversampled.fit(X_oversampled_train, y_oversampled_train)\n",
        "gs_downsampled = gs_downsampled.fit(X_downsampled_train, y_downsampled_train)\n"
      ],
      "metadata": {
        "colab": {
          "base_uri": "https://localhost:8080/"
        },
        "id": "seszbrNS5E4G",
        "outputId": "74fa2cbe-391d-40c1-d32c-9115bb21f62c"
      },
      "execution_count": 50,
      "outputs": [
        {
          "output_type": "stream",
          "name": "stdout",
          "text": [
            "Fitting 3 folds for each of 108 candidates, totalling 324 fits\n",
            "Fitting 3 folds for each of 108 candidates, totalling 324 fits\n",
            "Fitting 3 folds for each of 108 candidates, totalling 324 fits\n"
          ]
        }
      ]
    },
    {
      "cell_type": "code",
      "source": [
        "#summarize the results of your GRIDSEARCH only on the original dataset. The same can be done with the other two, but we omit the code cell\n",
        "print('***GRIDSEARCH RESULTS***')\n",
        "\n",
        "print(\"Best score: %f using %s\" % (gs.best_score_, gs.best_params_))\n",
        "means = gs.cv_results_['mean_test_score']\n",
        "stds = gs.cv_results_['std_test_score']\n",
        "params = gs.cv_results_['params']\n",
        "\n",
        "for mean, stdev, param in zip(means, stds, params):\n",
        "    print(\"%f (%f) with: %r\" % (mean, stdev, param))\n",
        "\n",
        "## max depth in 100 when considering as possible parameters 5, 10, 20, 50, 100, 110"
      ],
      "metadata": {
        "colab": {
          "base_uri": "https://localhost:8080/"
        },
        "id": "7WoFitZ15JH0",
        "outputId": "2dd80a7d-bf33-4cb4-85b1-7bcc863ef02a"
      },
      "execution_count": 51,
      "outputs": [
        {
          "output_type": "stream",
          "name": "stdout",
          "text": [
            "***GRIDSEARCH RESULTS***\n",
            "Best score: 0.588839 using {'criterion': 'entropy', 'max_depth': 500, 'min_samples_leaf': 4, 'min_samples_split': 20}\n",
            "0.522599 (0.004124) with: {'criterion': 'entropy', 'max_depth': 20, 'min_samples_leaf': 2, 'min_samples_split': 5}\n",
            "0.530528 (0.012680) with: {'criterion': 'entropy', 'max_depth': 20, 'min_samples_leaf': 2, 'min_samples_split': 10}\n",
            "0.580411 (0.017896) with: {'criterion': 'entropy', 'max_depth': 20, 'min_samples_leaf': 2, 'min_samples_split': 20}\n",
            "0.539612 (0.019379) with: {'criterion': 'entropy', 'max_depth': 20, 'min_samples_leaf': 4, 'min_samples_split': 5}\n",
            "0.530299 (0.012360) with: {'criterion': 'entropy', 'max_depth': 20, 'min_samples_leaf': 4, 'min_samples_split': 10}\n",
            "0.580143 (0.010311) with: {'criterion': 'entropy', 'max_depth': 20, 'min_samples_leaf': 4, 'min_samples_split': 20}\n",
            "0.547181 (0.013039) with: {'criterion': 'entropy', 'max_depth': 20, 'min_samples_leaf': 8, 'min_samples_split': 5}\n",
            "0.550003 (0.012695) with: {'criterion': 'entropy', 'max_depth': 20, 'min_samples_leaf': 8, 'min_samples_split': 10}\n",
            "0.568131 (0.010149) with: {'criterion': 'entropy', 'max_depth': 20, 'min_samples_leaf': 8, 'min_samples_split': 20}\n",
            "0.523739 (0.006772) with: {'criterion': 'entropy', 'max_depth': 50, 'min_samples_leaf': 2, 'min_samples_split': 5}\n",
            "0.528724 (0.011362) with: {'criterion': 'entropy', 'max_depth': 50, 'min_samples_leaf': 2, 'min_samples_split': 10}\n",
            "0.563457 (0.011591) with: {'criterion': 'entropy', 'max_depth': 50, 'min_samples_leaf': 2, 'min_samples_split': 20}\n",
            "0.528985 (0.015871) with: {'criterion': 'entropy', 'max_depth': 50, 'min_samples_leaf': 4, 'min_samples_split': 5}\n",
            "0.533009 (0.015346) with: {'criterion': 'entropy', 'max_depth': 50, 'min_samples_leaf': 4, 'min_samples_split': 10}\n",
            "0.584655 (0.013901) with: {'criterion': 'entropy', 'max_depth': 50, 'min_samples_leaf': 4, 'min_samples_split': 20}\n",
            "0.550146 (0.011273) with: {'criterion': 'entropy', 'max_depth': 50, 'min_samples_leaf': 8, 'min_samples_split': 5}\n",
            "0.552444 (0.011999) with: {'criterion': 'entropy', 'max_depth': 50, 'min_samples_leaf': 8, 'min_samples_split': 10}\n",
            "0.575818 (0.004898) with: {'criterion': 'entropy', 'max_depth': 50, 'min_samples_leaf': 8, 'min_samples_split': 20}\n",
            "0.522207 (0.016906) with: {'criterion': 'entropy', 'max_depth': 100, 'min_samples_leaf': 2, 'min_samples_split': 5}\n",
            "0.529409 (0.012164) with: {'criterion': 'entropy', 'max_depth': 100, 'min_samples_leaf': 2, 'min_samples_split': 10}\n",
            "0.572558 (0.012320) with: {'criterion': 'entropy', 'max_depth': 100, 'min_samples_leaf': 2, 'min_samples_split': 20}\n",
            "0.539654 (0.017783) with: {'criterion': 'entropy', 'max_depth': 100, 'min_samples_leaf': 4, 'min_samples_split': 5}\n",
            "0.527036 (0.012507) with: {'criterion': 'entropy', 'max_depth': 100, 'min_samples_leaf': 4, 'min_samples_split': 10}\n",
            "0.585202 (0.012840) with: {'criterion': 'entropy', 'max_depth': 100, 'min_samples_leaf': 4, 'min_samples_split': 20}\n",
            "0.547887 (0.010050) with: {'criterion': 'entropy', 'max_depth': 100, 'min_samples_leaf': 8, 'min_samples_split': 5}\n",
            "0.551627 (0.009737) with: {'criterion': 'entropy', 'max_depth': 100, 'min_samples_leaf': 8, 'min_samples_split': 10}\n",
            "0.576027 (0.004606) with: {'criterion': 'entropy', 'max_depth': 100, 'min_samples_leaf': 8, 'min_samples_split': 20}\n",
            "0.518753 (0.010407) with: {'criterion': 'entropy', 'max_depth': 200, 'min_samples_leaf': 2, 'min_samples_split': 5}\n",
            "0.529131 (0.009011) with: {'criterion': 'entropy', 'max_depth': 200, 'min_samples_leaf': 2, 'min_samples_split': 10}\n",
            "0.576786 (0.022417) with: {'criterion': 'entropy', 'max_depth': 200, 'min_samples_leaf': 2, 'min_samples_split': 20}\n",
            "0.532044 (0.003839) with: {'criterion': 'entropy', 'max_depth': 200, 'min_samples_leaf': 4, 'min_samples_split': 5}\n",
            "0.531360 (0.015656) with: {'criterion': 'entropy', 'max_depth': 200, 'min_samples_leaf': 4, 'min_samples_split': 10}\n",
            "0.585341 (0.012991) with: {'criterion': 'entropy', 'max_depth': 200, 'min_samples_leaf': 4, 'min_samples_split': 20}\n",
            "0.547887 (0.010050) with: {'criterion': 'entropy', 'max_depth': 200, 'min_samples_leaf': 8, 'min_samples_split': 5}\n",
            "0.548142 (0.008689) with: {'criterion': 'entropy', 'max_depth': 200, 'min_samples_leaf': 8, 'min_samples_split': 10}\n",
            "0.573573 (0.008052) with: {'criterion': 'entropy', 'max_depth': 200, 'min_samples_leaf': 8, 'min_samples_split': 20}\n",
            "0.517906 (0.011912) with: {'criterion': 'entropy', 'max_depth': 500, 'min_samples_leaf': 2, 'min_samples_split': 5}\n",
            "0.528454 (0.015098) with: {'criterion': 'entropy', 'max_depth': 500, 'min_samples_leaf': 2, 'min_samples_split': 10}\n",
            "0.566063 (0.017595) with: {'criterion': 'entropy', 'max_depth': 500, 'min_samples_leaf': 2, 'min_samples_split': 20}\n",
            "0.535814 (0.013576) with: {'criterion': 'entropy', 'max_depth': 500, 'min_samples_leaf': 4, 'min_samples_split': 5}\n",
            "0.528420 (0.020267) with: {'criterion': 'entropy', 'max_depth': 500, 'min_samples_leaf': 4, 'min_samples_split': 10}\n",
            "0.588839 (0.017119) with: {'criterion': 'entropy', 'max_depth': 500, 'min_samples_leaf': 4, 'min_samples_split': 20}\n",
            "0.554112 (0.010013) with: {'criterion': 'entropy', 'max_depth': 500, 'min_samples_leaf': 8, 'min_samples_split': 5}\n",
            "0.555685 (0.011832) with: {'criterion': 'entropy', 'max_depth': 500, 'min_samples_leaf': 8, 'min_samples_split': 10}\n",
            "0.573573 (0.008052) with: {'criterion': 'entropy', 'max_depth': 500, 'min_samples_leaf': 8, 'min_samples_split': 20}\n",
            "0.524800 (0.007629) with: {'criterion': 'entropy', 'max_depth': 1000, 'min_samples_leaf': 2, 'min_samples_split': 5}\n",
            "0.534901 (0.021279) with: {'criterion': 'entropy', 'max_depth': 1000, 'min_samples_leaf': 2, 'min_samples_split': 10}\n",
            "0.569231 (0.010767) with: {'criterion': 'entropy', 'max_depth': 1000, 'min_samples_leaf': 2, 'min_samples_split': 20}\n",
            "0.527151 (0.008387) with: {'criterion': 'entropy', 'max_depth': 1000, 'min_samples_leaf': 4, 'min_samples_split': 5}\n",
            "0.534019 (0.013403) with: {'criterion': 'entropy', 'max_depth': 1000, 'min_samples_leaf': 4, 'min_samples_split': 10}\n",
            "0.584451 (0.015827) with: {'criterion': 'entropy', 'max_depth': 1000, 'min_samples_leaf': 4, 'min_samples_split': 20}\n",
            "0.555647 (0.015692) with: {'criterion': 'entropy', 'max_depth': 1000, 'min_samples_leaf': 8, 'min_samples_split': 5}\n",
            "0.551900 (0.012668) with: {'criterion': 'entropy', 'max_depth': 1000, 'min_samples_leaf': 8, 'min_samples_split': 10}\n",
            "0.574600 (0.006607) with: {'criterion': 'entropy', 'max_depth': 1000, 'min_samples_leaf': 8, 'min_samples_split': 20}\n",
            "0.506327 (0.013842) with: {'criterion': 'gini', 'max_depth': 20, 'min_samples_leaf': 2, 'min_samples_split': 5}\n",
            "0.534929 (0.003708) with: {'criterion': 'gini', 'max_depth': 20, 'min_samples_leaf': 2, 'min_samples_split': 10}\n",
            "0.549909 (0.010396) with: {'criterion': 'gini', 'max_depth': 20, 'min_samples_leaf': 2, 'min_samples_split': 20}\n",
            "0.517048 (0.013561) with: {'criterion': 'gini', 'max_depth': 20, 'min_samples_leaf': 4, 'min_samples_split': 5}\n",
            "0.538304 (0.006475) with: {'criterion': 'gini', 'max_depth': 20, 'min_samples_leaf': 4, 'min_samples_split': 10}\n",
            "0.555680 (0.007161) with: {'criterion': 'gini', 'max_depth': 20, 'min_samples_leaf': 4, 'min_samples_split': 20}\n",
            "0.555796 (0.005286) with: {'criterion': 'gini', 'max_depth': 20, 'min_samples_leaf': 8, 'min_samples_split': 5}\n",
            "0.556086 (0.010570) with: {'criterion': 'gini', 'max_depth': 20, 'min_samples_leaf': 8, 'min_samples_split': 10}\n",
            "0.555105 (0.022069) with: {'criterion': 'gini', 'max_depth': 20, 'min_samples_leaf': 8, 'min_samples_split': 20}\n",
            "0.502039 (0.027902) with: {'criterion': 'gini', 'max_depth': 50, 'min_samples_leaf': 2, 'min_samples_split': 5}\n",
            "0.535140 (0.005068) with: {'criterion': 'gini', 'max_depth': 50, 'min_samples_leaf': 2, 'min_samples_split': 10}\n",
            "0.553726 (0.009556) with: {'criterion': 'gini', 'max_depth': 50, 'min_samples_leaf': 2, 'min_samples_split': 20}\n",
            "0.514418 (0.017470) with: {'criterion': 'gini', 'max_depth': 50, 'min_samples_leaf': 4, 'min_samples_split': 5}\n",
            "0.541187 (0.011784) with: {'criterion': 'gini', 'max_depth': 50, 'min_samples_leaf': 4, 'min_samples_split': 10}\n",
            "0.548655 (0.005027) with: {'criterion': 'gini', 'max_depth': 50, 'min_samples_leaf': 4, 'min_samples_split': 20}\n",
            "0.558585 (0.007267) with: {'criterion': 'gini', 'max_depth': 50, 'min_samples_leaf': 8, 'min_samples_split': 5}\n",
            "0.554939 (0.010962) with: {'criterion': 'gini', 'max_depth': 50, 'min_samples_leaf': 8, 'min_samples_split': 10}\n",
            "0.559306 (0.017168) with: {'criterion': 'gini', 'max_depth': 50, 'min_samples_leaf': 8, 'min_samples_split': 20}\n",
            "0.509014 (0.010475) with: {'criterion': 'gini', 'max_depth': 100, 'min_samples_leaf': 2, 'min_samples_split': 5}\n",
            "0.529673 (0.008503) with: {'criterion': 'gini', 'max_depth': 100, 'min_samples_leaf': 2, 'min_samples_split': 10}\n",
            "0.544624 (0.009946) with: {'criterion': 'gini', 'max_depth': 100, 'min_samples_leaf': 2, 'min_samples_split': 20}\n",
            "0.521767 (0.015910) with: {'criterion': 'gini', 'max_depth': 100, 'min_samples_leaf': 4, 'min_samples_split': 5}\n",
            "0.531869 (0.016004) with: {'criterion': 'gini', 'max_depth': 100, 'min_samples_leaf': 4, 'min_samples_split': 10}\n",
            "0.553995 (0.007377) with: {'criterion': 'gini', 'max_depth': 100, 'min_samples_leaf': 4, 'min_samples_split': 20}\n",
            "0.555226 (0.003775) with: {'criterion': 'gini', 'max_depth': 100, 'min_samples_leaf': 8, 'min_samples_split': 5}\n",
            "0.554697 (0.004646) with: {'criterion': 'gini', 'max_depth': 100, 'min_samples_leaf': 8, 'min_samples_split': 10}\n",
            "0.552502 (0.017589) with: {'criterion': 'gini', 'max_depth': 100, 'min_samples_leaf': 8, 'min_samples_split': 20}\n",
            "0.520866 (0.012273) with: {'criterion': 'gini', 'max_depth': 200, 'min_samples_leaf': 2, 'min_samples_split': 5}\n",
            "0.531277 (0.007808) with: {'criterion': 'gini', 'max_depth': 200, 'min_samples_leaf': 2, 'min_samples_split': 10}\n",
            "0.550033 (0.014813) with: {'criterion': 'gini', 'max_depth': 200, 'min_samples_leaf': 2, 'min_samples_split': 20}\n",
            "0.515056 (0.015255) with: {'criterion': 'gini', 'max_depth': 200, 'min_samples_leaf': 4, 'min_samples_split': 5}\n",
            "0.533616 (0.010262) with: {'criterion': 'gini', 'max_depth': 200, 'min_samples_leaf': 4, 'min_samples_split': 10}\n",
            "0.550663 (0.002344) with: {'criterion': 'gini', 'max_depth': 200, 'min_samples_leaf': 4, 'min_samples_split': 20}\n",
            "0.549256 (0.003296) with: {'criterion': 'gini', 'max_depth': 200, 'min_samples_leaf': 8, 'min_samples_split': 5}\n",
            "0.561084 (0.005544) with: {'criterion': 'gini', 'max_depth': 200, 'min_samples_leaf': 8, 'min_samples_split': 10}\n",
            "0.555485 (0.014224) with: {'criterion': 'gini', 'max_depth': 200, 'min_samples_leaf': 8, 'min_samples_split': 20}\n",
            "0.507572 (0.018793) with: {'criterion': 'gini', 'max_depth': 500, 'min_samples_leaf': 2, 'min_samples_split': 5}\n",
            "0.540588 (0.004933) with: {'criterion': 'gini', 'max_depth': 500, 'min_samples_leaf': 2, 'min_samples_split': 10}\n",
            "0.551312 (0.008591) with: {'criterion': 'gini', 'max_depth': 500, 'min_samples_leaf': 2, 'min_samples_split': 20}\n",
            "0.525521 (0.010925) with: {'criterion': 'gini', 'max_depth': 500, 'min_samples_leaf': 4, 'min_samples_split': 5}\n",
            "0.540060 (0.013117) with: {'criterion': 'gini', 'max_depth': 500, 'min_samples_leaf': 4, 'min_samples_split': 10}\n",
            "0.554134 (0.008175) with: {'criterion': 'gini', 'max_depth': 500, 'min_samples_leaf': 4, 'min_samples_split': 20}\n",
            "0.558845 (0.007074) with: {'criterion': 'gini', 'max_depth': 500, 'min_samples_leaf': 8, 'min_samples_split': 5}\n",
            "0.552244 (0.009362) with: {'criterion': 'gini', 'max_depth': 500, 'min_samples_leaf': 8, 'min_samples_split': 10}\n",
            "0.552921 (0.017835) with: {'criterion': 'gini', 'max_depth': 500, 'min_samples_leaf': 8, 'min_samples_split': 20}\n",
            "0.510750 (0.019432) with: {'criterion': 'gini', 'max_depth': 1000, 'min_samples_leaf': 2, 'min_samples_split': 5}\n",
            "0.535485 (0.006267) with: {'criterion': 'gini', 'max_depth': 1000, 'min_samples_leaf': 2, 'min_samples_split': 10}\n",
            "0.547859 (0.008679) with: {'criterion': 'gini', 'max_depth': 1000, 'min_samples_leaf': 2, 'min_samples_split': 20}\n",
            "0.515593 (0.018131) with: {'criterion': 'gini', 'max_depth': 1000, 'min_samples_leaf': 4, 'min_samples_split': 5}\n",
            "0.530339 (0.010587) with: {'criterion': 'gini', 'max_depth': 1000, 'min_samples_leaf': 4, 'min_samples_split': 10}\n",
            "0.554713 (0.005818) with: {'criterion': 'gini', 'max_depth': 1000, 'min_samples_leaf': 4, 'min_samples_split': 20}\n",
            "0.555464 (0.004365) with: {'criterion': 'gini', 'max_depth': 1000, 'min_samples_leaf': 8, 'min_samples_split': 5}\n",
            "0.549474 (0.011871) with: {'criterion': 'gini', 'max_depth': 1000, 'min_samples_leaf': 8, 'min_samples_split': 10}\n",
            "0.551288 (0.019295) with: {'criterion': 'gini', 'max_depth': 1000, 'min_samples_leaf': 8, 'min_samples_split': 20}\n"
          ]
        }
      ]
    },
    {
      "cell_type": "code",
      "source": [
        "# We test the best models on the original test set\n",
        "\n",
        "# Model trained on original test set\n",
        "best_model = gs.best_estimator_\n",
        "y_pred = best_model.predict(X_test)\n",
        "\n",
        "y_pred_train = best_model.predict(X_train)\n",
        "\n",
        "# Model trained on oversampled test set\n",
        "best_model_oversampled = gs_oversampled.best_estimator_\n",
        "y_pred_oversampled = best_model_oversampled.predict(X_test)\n",
        "\n",
        "y_pred_oversampled_train = best_model_oversampled.predict(X_train)\n",
        "\n",
        "# Model trained on downsampled test set\n",
        "best_model_downsampled = gs_downsampled.best_estimator_\n",
        "y_pred_downsampled = best_model_downsampled.predict(X_test)\n",
        "\n",
        "y_pred_downsampled_train = best_model_downsampled.predict(X_train)\n",
        "\n",
        "\n"
      ],
      "metadata": {
        "id": "5VwWlxxi5bIX"
      },
      "execution_count": 52,
      "outputs": []
    },
    {
      "cell_type": "code",
      "source": [
        "#EVALUATE YOUR PREDICTION (on the y_test that you left aside)\n",
        "from sklearn import metrics\n",
        "\n",
        "print('***RESULTS ORIGINAL MODEL***')\n",
        "print('***RESULTS ON TRAIN SET***')\n",
        "print(\"f1_score: \", metrics.f1_score(y_train, y_pred_train))\n",
        "print(\"--\")\n",
        "print('***RESULTS ON TEST SET***')\n",
        "print(\"f1_score: \", metrics.f1_score(y_test, y_pred))\n",
        "print(\" \")\n",
        "print(\" \")\n",
        "\n",
        "print('***RESULTS OVERSAMPLED MODEL***')\n",
        "print('***RESULTS ON TRAIN SET***')\n",
        "print(\"f1_score: \", metrics.f1_score(y_train, y_pred_oversampled_train))\n",
        "print(\"--\")\n",
        "print('***RESULTS ON TEST SET***')\n",
        "print(\"f1_score: \", metrics.f1_score(y_test, y_pred_oversampled))\n",
        "print(\" \")\n",
        "print(\" \")\n",
        "\n",
        "print('***RESULTS DOWNSAMPLED MODEL***')\n",
        "print('***RESULTS ON TRAIN SET***')\n",
        "print(\"f1_score: \", metrics.f1_score(y_train, y_pred_downsampled_train))\n",
        "print(\"--\")\n",
        "print('***RESULTS ON TEST SET***')\n",
        "print(\"f1_score: \", metrics.f1_score(y_test, y_pred_downsampled))\n",
        "\n",
        "#The best F score on the test set is given by the oversampled model"
      ],
      "metadata": {
        "colab": {
          "base_uri": "https://localhost:8080/"
        },
        "id": "6_zRLJRA5dla",
        "outputId": "7ea84a8a-a48e-4b86-fd69-f9a5d1d309a0"
      },
      "execution_count": 53,
      "outputs": [
        {
          "output_type": "stream",
          "name": "stdout",
          "text": [
            "***RESULTS ORIGINAL MODEL***\n",
            "***RESULTS ON TRAIN SET***\n",
            "f1_score:  0.7862873814733771\n",
            "--\n",
            "***RESULTS ON TEST SET***\n",
            "f1_score:  0.5567010309278351\n",
            " \n",
            " \n",
            "***RESULTS OVERSAMPLED MODEL***\n",
            "***RESULTS ON TRAIN SET***\n",
            "f1_score:  0.8696969696969696\n",
            "--\n",
            "***RESULTS ON TEST SET***\n",
            "f1_score:  0.6666666666666666\n",
            " \n",
            " \n",
            "***RESULTS DOWNSAMPLED MODEL***\n",
            "***RESULTS ON TRAIN SET***\n",
            "f1_score:  0.7234600262123199\n",
            "--\n",
            "***RESULTS ON TEST SET***\n",
            "f1_score:  0.6555555555555554\n"
          ]
        }
      ]
    },
    {
      "cell_type": "code",
      "source": [
        "#PRINT SOME FURTHER METRICS\n",
        "from sklearn.metrics import classification_report\n",
        "\n",
        "print('***RESULTS ORIGINAL MODEL***')\n",
        "print(classification_report(y_test, y_pred))\n",
        "print(\" \")\n",
        "print(\" \")\n",
        "\n",
        "print('***RESULTS OVERSAMPLED MODEL***')\n",
        "print(classification_report(y_test, y_pred_oversampled))\n",
        "print(\" \")\n",
        "print(\" \")\n",
        "\n",
        "print('***RESULTS DOWNSAMPLED MODEL***')\n",
        "print(classification_report(y_test, y_pred_downsampled))\n",
        "print(\" \")\n",
        "print(\" \")"
      ],
      "metadata": {
        "colab": {
          "base_uri": "https://localhost:8080/"
        },
        "id": "-KfO8qmD5ik1",
        "outputId": "fbf28142-590f-4061-85e8-e33141101d61"
      },
      "execution_count": 54,
      "outputs": [
        {
          "output_type": "stream",
          "name": "stdout",
          "text": [
            "***RESULTS ORIGINAL MODEL***\n",
            "              precision    recall  f1-score   support\n",
            "\n",
            "           0       0.77      0.80      0.79       598\n",
            "           1       0.58      0.54      0.56       302\n",
            "\n",
            "    accuracy                           0.71       900\n",
            "   macro avg       0.68      0.67      0.67       900\n",
            "weighted avg       0.71      0.71      0.71       900\n",
            "\n",
            " \n",
            " \n",
            "***RESULTS OVERSAMPLED MODEL***\n",
            "              precision    recall  f1-score   support\n",
            "\n",
            "           0       0.86      0.74      0.80       598\n",
            "           1       0.60      0.75      0.67       302\n",
            "\n",
            "    accuracy                           0.75       900\n",
            "   macro avg       0.73      0.75      0.73       900\n",
            "weighted avg       0.77      0.75      0.75       900\n",
            "\n",
            " \n",
            " \n",
            "***RESULTS DOWNSAMPLED MODEL***\n",
            "              precision    recall  f1-score   support\n",
            "\n",
            "           0       0.86      0.70      0.77       598\n",
            "           1       0.56      0.78      0.66       302\n",
            "\n",
            "    accuracy                           0.72       900\n",
            "   macro avg       0.71      0.74      0.71       900\n",
            "weighted avg       0.76      0.72      0.73       900\n",
            "\n",
            " \n",
            " \n"
          ]
        }
      ]
    },
    {
      "cell_type": "code",
      "source": [
        "# Plot confusion matrix\n",
        "print('***ORIGINAL MODEL***')\n",
        "sns.heatmap(confusion_matrix(y_test, y_pred), annot=True, fmt='d', cmap=\"Reds\", cbar=False);\n",
        "\n",
        "#annot=True to annotate cells fmt: format"
      ],
      "metadata": {
        "colab": {
          "base_uri": "https://localhost:8080/",
          "height": 282
        },
        "id": "efKVRvv35q0h",
        "outputId": "0dca15e9-db75-457f-894a-7f73576aca05"
      },
      "execution_count": 55,
      "outputs": [
        {
          "output_type": "stream",
          "name": "stdout",
          "text": [
            "***ORIGINAL MODEL***\n"
          ]
        },
        {
          "output_type": "display_data",
          "data": {
            "text/plain": [
              "<Figure size 432x288 with 1 Axes>"
            ],
            "image/png": "[encoded data removed]"
          },
          "metadata": {}
        }
      ]
    },
    {
      "cell_type": "code",
      "source": [
        "print('***OVERSAMPLED MODEL***')\n",
        "sns.heatmap(confusion_matrix(y_test, y_pred_oversampled), annot=True, fmt='d', cmap=\"Reds\", cbar=False);"
      ],
      "metadata": {
        "colab": {
          "base_uri": "https://localhost:8080/",
          "height": 282
        },
        "id": "-q2b0w5vbmJ9",
        "outputId": "46da249b-d0d1-4a52-cf16-9daaf32857dd"
      },
      "execution_count": 56,
      "outputs": [
        {
          "output_type": "stream",
          "name": "stdout",
          "text": [
            "***OVERSAMPLED MODEL***\n"
          ]
        },
        {
          "output_type": "display_data",
          "data": {
            "text/plain": [
              "<Figure size 432x288 with 1 Axes>"
            ],
            "image/png": "[encoded data removed]"
          },
          "metadata": {}
        }
      ]
    },
    {
      "cell_type": "code",
      "source": [
        "print('***DOWNSAMPLED MODEL***')\n",
        "sns.heatmap(confusion_matrix(y_test, y_pred_downsampled), annot=True, fmt='d', cmap=\"Reds\", cbar=False);"
      ],
      "metadata": {
        "colab": {
          "base_uri": "https://localhost:8080/",
          "height": 282
        },
        "id": "rZHFqPWCbmbw",
        "outputId": "74992235-3d4d-4c8e-bdd7-0b9436378809"
      },
      "execution_count": 57,
      "outputs": [
        {
          "output_type": "stream",
          "name": "stdout",
          "text": [
            "***DOWNSAMPLED MODEL***\n"
          ]
        },
        {
          "output_type": "display_data",
          "data": {
            "text/plain": [
              "<Figure size 432x288 with 1 Axes>"
            ],
            "image/png": "[encoded data removed]"
          },
          "metadata": {}
        }
      ]
    },
    {
      "cell_type": "markdown",
      "source": [
        "# Random Forest"
      ],
      "metadata": {
        "id": "Zg0yYWZLNq83"
      }
    },
    {
      "cell_type": "code",
      "source": [
        "from sklearn.ensemble import RandomForestClassifier\n",
        "from sklearn.model_selection import GridSearchCV\n",
        "\n",
        "classifier= RandomForestClassifier()\n",
        "parameters = {'n_estimators' : [50, 100, 200],\n",
        "    'criterion' : ['entropy', 'gini'],\n",
        "             'max_depth' : [3,4,8,16,20], \n",
        "             'min_samples_split' : [5,10,20],\n",
        "              'min_samples_leaf' : [4,5,10]\n",
        "             }\n",
        "\n",
        "\n",
        "\n",
        "gs = GridSearchCV(classifier, parameters, cv=3, scoring = 'f1', verbose=10, n_jobs=-1, refit=True)\n",
        "gs_oversampled = GridSearchCV(classifier, parameters, cv=3, scoring = 'f1', verbose=10, n_jobs=-1, refit=True)\n",
        "gs_downsampled = GridSearchCV(classifier, parameters, cv=3, scoring = 'f1', verbose=10, n_jobs=-1, refit=True)"
      ],
      "metadata": {
        "id": "Avgez2hLNtWv"
      },
      "execution_count": 220,
      "outputs": []
    },
    {
      "cell_type": "code",
      "source": [
        "gs.fit(X_train,y_train)\n",
        "gs_oversampled.fit(X_oversampled_train,y_oversampled_train)\n",
        "gs_downsampled.fit(X_downsampled_train,y_downsampled_train)\n"
      ],
      "metadata": {
        "colab": {
          "base_uri": "https://localhost:8080/"
        },
        "id": "qrQbSY0_gZoD",
        "outputId": "cf1746a1-5f70-4d5b-d091-b0052255fca7"
      },
      "execution_count": 221,
      "outputs": [
        {
          "output_type": "stream",
          "name": "stdout",
          "text": [
            "Fitting 3 folds for each of 270 candidates, totalling 810 fits\n",
            "Fitting 3 folds for each of 270 candidates, totalling 810 fits\n",
            "Fitting 3 folds for each of 270 candidates, totalling 810 fits\n"
          ]
        },
        {
          "output_type": "execute_result",
          "data": {
            "text/plain": [
              "GridSearchCV(cv=3, estimator=RandomForestClassifier(), n_jobs=-1,\n",
              "             param_grid={'criterion': ['entropy', 'gini'],\n",
              "                         'max_depth': [3, 4, 8, 16, 20],\n",
              "                         'min_samples_leaf': [4, 5, 10],\n",
              "                         'min_samples_split': [5, 10, 20],\n",
              "                         'n_estimators': [50, 100, 200]},\n",
              "             scoring='f1', verbose=10)"
            ]
          },
          "metadata": {},
          "execution_count": 221
        }
      ]
    },
    {
      "cell_type": "code",
      "source": [
        "#summarize the results of your GRIDSEARCH\n",
        "print('***GRIDSEARCH RESULTS FOR ORIGINAL MODEL***')\n",
        "\n",
        "print(\"Best score: %f using %s\" % (gs_oversampled.best_score_, gs_oversampled.best_params_))\n",
        "means = gs_oversampled.cv_results_['mean_test_score']\n",
        "stds = gs_oversampled.cv_results_['std_test_score']\n",
        "params = gs_oversampled.cv_results_['params']\n",
        "\n",
        "for mean, stdev, param in zip(means, stds, params):\n",
        "    print(\"%f (%f) with: %r\" % (mean, stdev, param))"
      ],
      "metadata": {
        "colab": {
          "base_uri": "https://localhost:8080/"
        },
        "id": "s2tgATd0NzKx",
        "outputId": "9a9b34ad-d1a2-4107-899d-008e796fbb88"
      },
      "execution_count": 222,
      "outputs": [
        {
          "output_type": "stream",
          "name": "stdout",
          "text": [
            "***GRIDSEARCH RESULTS FOR ORIGINAL MODEL***\n",
            "Best score: 0.809292 using {'criterion': 'entropy', 'max_depth': 16, 'min_samples_leaf': 4, 'min_samples_split': 5, 'n_estimators': 200}\n",
            "0.744757 (0.010201) with: {'criterion': 'entropy', 'max_depth': 3, 'min_samples_leaf': 4, 'min_samples_split': 5, 'n_estimators': 50}\n",
            "0.750086 (0.008163) with: {'criterion': 'entropy', 'max_depth': 3, 'min_samples_leaf': 4, 'min_samples_split': 5, 'n_estimators': 100}\n",
            "0.748491 (0.009077) with: {'criterion': 'entropy', 'max_depth': 3, 'min_samples_leaf': 4, 'min_samples_split': 5, 'n_estimators': 200}\n",
            "0.749714 (0.010113) with: {'criterion': 'entropy', 'max_depth': 3, 'min_samples_leaf': 4, 'min_samples_split': 10, 'n_estimators': 50}\n",
            "0.746352 (0.007539) with: {'criterion': 'entropy', 'max_depth': 3, 'min_samples_leaf': 4, 'min_samples_split': 10, 'n_estimators': 100}\n",
            "0.749860 (0.008853) with: {'criterion': 'entropy', 'max_depth': 3, 'min_samples_leaf': 4, 'min_samples_split': 10, 'n_estimators': 200}\n",
            "0.742030 (0.011649) with: {'criterion': 'entropy', 'max_depth': 3, 'min_samples_leaf': 4, 'min_samples_split': 20, 'n_estimators': 50}\n",
            "0.749231 (0.007508) with: {'criterion': 'entropy', 'max_depth': 3, 'min_samples_leaf': 4, 'min_samples_split': 20, 'n_estimators': 100}\n",
            "0.748172 (0.006914) with: {'criterion': 'entropy', 'max_depth': 3, 'min_samples_leaf': 4, 'min_samples_split': 20, 'n_estimators': 200}\n",
            "0.748170 (0.005883) with: {'criterion': 'entropy', 'max_depth': 3, 'min_samples_leaf': 5, 'min_samples_split': 5, 'n_estimators': 50}\n",
            "0.749780 (0.008037) with: {'criterion': 'entropy', 'max_depth': 3, 'min_samples_leaf': 5, 'min_samples_split': 5, 'n_estimators': 100}\n",
            "0.747071 (0.011168) with: {'criterion': 'entropy', 'max_depth': 3, 'min_samples_leaf': 5, 'min_samples_split': 5, 'n_estimators': 200}\n",
            "0.750187 (0.005272) with: {'criterion': 'entropy', 'max_depth': 3, 'min_samples_leaf': 5, 'min_samples_split': 10, 'n_estimators': 50}\n",
            "0.751501 (0.012686) with: {'criterion': 'entropy', 'max_depth': 3, 'min_samples_leaf': 5, 'min_samples_split': 10, 'n_estimators': 100}\n",
            "0.750804 (0.008130) with: {'criterion': 'entropy', 'max_depth': 3, 'min_samples_leaf': 5, 'min_samples_split': 10, 'n_estimators': 200}\n",
            "0.750170 (0.003966) with: {'criterion': 'entropy', 'max_depth': 3, 'min_samples_leaf': 5, 'min_samples_split': 20, 'n_estimators': 50}\n",
            "0.747711 (0.012620) with: {'criterion': 'entropy', 'max_depth': 3, 'min_samples_leaf': 5, 'min_samples_split': 20, 'n_estimators': 100}\n",
            "0.746103 (0.009863) with: {'criterion': 'entropy', 'max_depth': 3, 'min_samples_leaf': 5, 'min_samples_split': 20, 'n_estimators': 200}\n",
            "0.745817 (0.009412) with: {'criterion': 'entropy', 'max_depth': 3, 'min_samples_leaf': 10, 'min_samples_split': 5, 'n_estimators': 50}\n",
            "0.748789 (0.010145) with: {'criterion': 'entropy', 'max_depth': 3, 'min_samples_leaf': 10, 'min_samples_split': 5, 'n_estimators': 100}\n",
            "0.745527 (0.009544) with: {'criterion': 'entropy', 'max_depth': 3, 'min_samples_leaf': 10, 'min_samples_split': 5, 'n_estimators': 200}\n",
            "0.741912 (0.011680) with: {'criterion': 'entropy', 'max_depth': 3, 'min_samples_leaf': 10, 'min_samples_split': 10, 'n_estimators': 50}\n",
            "0.747277 (0.010791) with: {'criterion': 'entropy', 'max_depth': 3, 'min_samples_leaf': 10, 'min_samples_split': 10, 'n_estimators': 100}\n",
            "0.747964 (0.005660) with: {'criterion': 'entropy', 'max_depth': 3, 'min_samples_leaf': 10, 'min_samples_split': 10, 'n_estimators': 200}\n",
            "0.746203 (0.011885) with: {'criterion': 'entropy', 'max_depth': 3, 'min_samples_leaf': 10, 'min_samples_split': 20, 'n_estimators': 50}\n",
            "0.745951 (0.006940) with: {'criterion': 'entropy', 'max_depth': 3, 'min_samples_leaf': 10, 'min_samples_split': 20, 'n_estimators': 100}\n",
            "0.742839 (0.011240) with: {'criterion': 'entropy', 'max_depth': 3, 'min_samples_leaf': 10, 'min_samples_split': 20, 'n_estimators': 200}\n",
            "0.757637 (0.011393) with: {'criterion': 'entropy', 'max_depth': 4, 'min_samples_leaf': 4, 'min_samples_split': 5, 'n_estimators': 50}\n",
            "0.751327 (0.002400) with: {'criterion': 'entropy', 'max_depth': 4, 'min_samples_leaf': 4, 'min_samples_split': 5, 'n_estimators': 100}\n",
            "0.756679 (0.007669) with: {'criterion': 'entropy', 'max_depth': 4, 'min_samples_leaf': 4, 'min_samples_split': 5, 'n_estimators': 200}\n",
            "0.758408 (0.005945) with: {'criterion': 'entropy', 'max_depth': 4, 'min_samples_leaf': 4, 'min_samples_split': 10, 'n_estimators': 50}\n",
            "0.757149 (0.004095) with: {'criterion': 'entropy', 'max_depth': 4, 'min_samples_leaf': 4, 'min_samples_split': 10, 'n_estimators': 100}\n",
            "0.754630 (0.005788) with: {'criterion': 'entropy', 'max_depth': 4, 'min_samples_leaf': 4, 'min_samples_split': 10, 'n_estimators': 200}\n",
            "0.752792 (0.003626) with: {'criterion': 'entropy', 'max_depth': 4, 'min_samples_leaf': 4, 'min_samples_split': 20, 'n_estimators': 50}\n",
            "0.759327 (0.006545) with: {'criterion': 'entropy', 'max_depth': 4, 'min_samples_leaf': 4, 'min_samples_split': 20, 'n_estimators': 100}\n",
            "0.755912 (0.007804) with: {'criterion': 'entropy', 'max_depth': 4, 'min_samples_leaf': 4, 'min_samples_split': 20, 'n_estimators': 200}\n",
            "0.758368 (0.006709) with: {'criterion': 'entropy', 'max_depth': 4, 'min_samples_leaf': 5, 'min_samples_split': 5, 'n_estimators': 50}\n",
            "0.758745 (0.003583) with: {'criterion': 'entropy', 'max_depth': 4, 'min_samples_leaf': 5, 'min_samples_split': 5, 'n_estimators': 100}\n",
            "0.756487 (0.009616) with: {'criterion': 'entropy', 'max_depth': 4, 'min_samples_leaf': 5, 'min_samples_split': 5, 'n_estimators': 200}\n",
            "0.755749 (0.008750) with: {'criterion': 'entropy', 'max_depth': 4, 'min_samples_leaf': 5, 'min_samples_split': 10, 'n_estimators': 50}\n",
            "0.754148 (0.009527) with: {'criterion': 'entropy', 'max_depth': 4, 'min_samples_leaf': 5, 'min_samples_split': 10, 'n_estimators': 100}\n",
            "0.754791 (0.010499) with: {'criterion': 'entropy', 'max_depth': 4, 'min_samples_leaf': 5, 'min_samples_split': 10, 'n_estimators': 200}\n",
            "0.751142 (0.008265) with: {'criterion': 'entropy', 'max_depth': 4, 'min_samples_leaf': 5, 'min_samples_split': 20, 'n_estimators': 50}\n",
            "0.756949 (0.006002) with: {'criterion': 'entropy', 'max_depth': 4, 'min_samples_leaf': 5, 'min_samples_split': 20, 'n_estimators': 100}\n",
            "0.754774 (0.003861) with: {'criterion': 'entropy', 'max_depth': 4, 'min_samples_leaf': 5, 'min_samples_split': 20, 'n_estimators': 200}\n",
            "0.751913 (0.004471) with: {'criterion': 'entropy', 'max_depth': 4, 'min_samples_leaf': 10, 'min_samples_split': 5, 'n_estimators': 50}\n",
            "0.752716 (0.003451) with: {'criterion': 'entropy', 'max_depth': 4, 'min_samples_leaf': 10, 'min_samples_split': 5, 'n_estimators': 100}\n",
            "0.752719 (0.006347) with: {'criterion': 'entropy', 'max_depth': 4, 'min_samples_leaf': 10, 'min_samples_split': 5, 'n_estimators': 200}\n",
            "0.757081 (0.006787) with: {'criterion': 'entropy', 'max_depth': 4, 'min_samples_leaf': 10, 'min_samples_split': 10, 'n_estimators': 50}\n",
            "0.749980 (0.006026) with: {'criterion': 'entropy', 'max_depth': 4, 'min_samples_leaf': 10, 'min_samples_split': 10, 'n_estimators': 100}\n",
            "0.754523 (0.006425) with: {'criterion': 'entropy', 'max_depth': 4, 'min_samples_leaf': 10, 'min_samples_split': 10, 'n_estimators': 200}\n",
            "0.752337 (0.009602) with: {'criterion': 'entropy', 'max_depth': 4, 'min_samples_leaf': 10, 'min_samples_split': 20, 'n_estimators': 50}\n",
            "0.752498 (0.003898) with: {'criterion': 'entropy', 'max_depth': 4, 'min_samples_leaf': 10, 'min_samples_split': 20, 'n_estimators': 100}\n",
            "0.755192 (0.003563) with: {'criterion': 'entropy', 'max_depth': 4, 'min_samples_leaf': 10, 'min_samples_split': 20, 'n_estimators': 200}\n",
            "0.783005 (0.009112) with: {'criterion': 'entropy', 'max_depth': 8, 'min_samples_leaf': 4, 'min_samples_split': 5, 'n_estimators': 50}\n",
            "0.781097 (0.007395) with: {'criterion': 'entropy', 'max_depth': 8, 'min_samples_leaf': 4, 'min_samples_split': 5, 'n_estimators': 100}\n",
            "0.788944 (0.008200) with: {'criterion': 'entropy', 'max_depth': 8, 'min_samples_leaf': 4, 'min_samples_split': 5, 'n_estimators': 200}\n",
            "0.777198 (0.008208) with: {'criterion': 'entropy', 'max_depth': 8, 'min_samples_leaf': 4, 'min_samples_split': 10, 'n_estimators': 50}\n",
            "0.787828 (0.003357) with: {'criterion': 'entropy', 'max_depth': 8, 'min_samples_leaf': 4, 'min_samples_split': 10, 'n_estimators': 100}\n",
            "0.784827 (0.009795) with: {'criterion': 'entropy', 'max_depth': 8, 'min_samples_leaf': 4, 'min_samples_split': 10, 'n_estimators': 200}\n",
            "0.770834 (0.007634) with: {'criterion': 'entropy', 'max_depth': 8, 'min_samples_leaf': 4, 'min_samples_split': 20, 'n_estimators': 50}\n",
            "0.776692 (0.008991) with: {'criterion': 'entropy', 'max_depth': 8, 'min_samples_leaf': 4, 'min_samples_split': 20, 'n_estimators': 100}\n",
            "0.772516 (0.009473) with: {'criterion': 'entropy', 'max_depth': 8, 'min_samples_leaf': 4, 'min_samples_split': 20, 'n_estimators': 200}\n",
            "0.774587 (0.018091) with: {'criterion': 'entropy', 'max_depth': 8, 'min_samples_leaf': 5, 'min_samples_split': 5, 'n_estimators': 50}\n",
            "0.783921 (0.002474) with: {'criterion': 'entropy', 'max_depth': 8, 'min_samples_leaf': 5, 'min_samples_split': 5, 'n_estimators': 100}\n",
            "0.784310 (0.009736) with: {'criterion': 'entropy', 'max_depth': 8, 'min_samples_leaf': 5, 'min_samples_split': 5, 'n_estimators': 200}\n",
            "0.782827 (0.006645) with: {'criterion': 'entropy', 'max_depth': 8, 'min_samples_leaf': 5, 'min_samples_split': 10, 'n_estimators': 50}\n",
            "0.783548 (0.011838) with: {'criterion': 'entropy', 'max_depth': 8, 'min_samples_leaf': 5, 'min_samples_split': 10, 'n_estimators': 100}\n",
            "0.778750 (0.007180) with: {'criterion': 'entropy', 'max_depth': 8, 'min_samples_leaf': 5, 'min_samples_split': 10, 'n_estimators': 200}\n",
            "0.771646 (0.005849) with: {'criterion': 'entropy', 'max_depth': 8, 'min_samples_leaf': 5, 'min_samples_split': 20, 'n_estimators': 50}\n",
            "0.774070 (0.011550) with: {'criterion': 'entropy', 'max_depth': 8, 'min_samples_leaf': 5, 'min_samples_split': 20, 'n_estimators': 100}\n",
            "0.771580 (0.014253) with: {'criterion': 'entropy', 'max_depth': 8, 'min_samples_leaf': 5, 'min_samples_split': 20, 'n_estimators': 200}\n",
            "0.771624 (0.003158) with: {'criterion': 'entropy', 'max_depth': 8, 'min_samples_leaf': 10, 'min_samples_split': 5, 'n_estimators': 50}\n",
            "0.764001 (0.012977) with: {'criterion': 'entropy', 'max_depth': 8, 'min_samples_leaf': 10, 'min_samples_split': 5, 'n_estimators': 100}\n",
            "0.772953 (0.008360) with: {'criterion': 'entropy', 'max_depth': 8, 'min_samples_leaf': 10, 'min_samples_split': 5, 'n_estimators': 200}\n",
            "0.772809 (0.007133) with: {'criterion': 'entropy', 'max_depth': 8, 'min_samples_leaf': 10, 'min_samples_split': 10, 'n_estimators': 50}\n",
            "0.766550 (0.006852) with: {'criterion': 'entropy', 'max_depth': 8, 'min_samples_leaf': 10, 'min_samples_split': 10, 'n_estimators': 100}\n",
            "0.765109 (0.006465) with: {'criterion': 'entropy', 'max_depth': 8, 'min_samples_leaf': 10, 'min_samples_split': 10, 'n_estimators': 200}\n",
            "0.769508 (0.017178) with: {'criterion': 'entropy', 'max_depth': 8, 'min_samples_leaf': 10, 'min_samples_split': 20, 'n_estimators': 50}\n",
            "0.766839 (0.010786) with: {'criterion': 'entropy', 'max_depth': 8, 'min_samples_leaf': 10, 'min_samples_split': 20, 'n_estimators': 100}\n",
            "0.769214 (0.008250) with: {'criterion': 'entropy', 'max_depth': 8, 'min_samples_leaf': 10, 'min_samples_split': 20, 'n_estimators': 200}\n",
            "0.799053 (0.003666) with: {'criterion': 'entropy', 'max_depth': 16, 'min_samples_leaf': 4, 'min_samples_split': 5, 'n_estimators': 50}\n",
            "0.797943 (0.007802) with: {'criterion': 'entropy', 'max_depth': 16, 'min_samples_leaf': 4, 'min_samples_split': 5, 'n_estimators': 100}\n",
            "0.809292 (0.005474) with: {'criterion': 'entropy', 'max_depth': 16, 'min_samples_leaf': 4, 'min_samples_split': 5, 'n_estimators': 200}\n",
            "0.797394 (0.007157) with: {'criterion': 'entropy', 'max_depth': 16, 'min_samples_leaf': 4, 'min_samples_split': 10, 'n_estimators': 50}\n",
            "0.798845 (0.008768) with: {'criterion': 'entropy', 'max_depth': 16, 'min_samples_leaf': 4, 'min_samples_split': 10, 'n_estimators': 100}\n",
            "0.797489 (0.007028) with: {'criterion': 'entropy', 'max_depth': 16, 'min_samples_leaf': 4, 'min_samples_split': 10, 'n_estimators': 200}\n",
            "0.784600 (0.009770) with: {'criterion': 'entropy', 'max_depth': 16, 'min_samples_leaf': 4, 'min_samples_split': 20, 'n_estimators': 50}\n",
            "0.785579 (0.010339) with: {'criterion': 'entropy', 'max_depth': 16, 'min_samples_leaf': 4, 'min_samples_split': 20, 'n_estimators': 100}\n",
            "0.784966 (0.006585) with: {'criterion': 'entropy', 'max_depth': 16, 'min_samples_leaf': 4, 'min_samples_split': 20, 'n_estimators': 200}\n",
            "0.791275 (0.005917) with: {'criterion': 'entropy', 'max_depth': 16, 'min_samples_leaf': 5, 'min_samples_split': 5, 'n_estimators': 50}\n",
            "0.788553 (0.011834) with: {'criterion': 'entropy', 'max_depth': 16, 'min_samples_leaf': 5, 'min_samples_split': 5, 'n_estimators': 100}\n",
            "0.798532 (0.011728) with: {'criterion': 'entropy', 'max_depth': 16, 'min_samples_leaf': 5, 'min_samples_split': 5, 'n_estimators': 200}\n",
            "0.794278 (0.008127) with: {'criterion': 'entropy', 'max_depth': 16, 'min_samples_leaf': 5, 'min_samples_split': 10, 'n_estimators': 50}\n",
            "0.791897 (0.013298) with: {'criterion': 'entropy', 'max_depth': 16, 'min_samples_leaf': 5, 'min_samples_split': 10, 'n_estimators': 100}\n",
            "0.796657 (0.011033) with: {'criterion': 'entropy', 'max_depth': 16, 'min_samples_leaf': 5, 'min_samples_split': 10, 'n_estimators': 200}\n",
            "0.786443 (0.010780) with: {'criterion': 'entropy', 'max_depth': 16, 'min_samples_leaf': 5, 'min_samples_split': 20, 'n_estimators': 50}\n",
            "0.782029 (0.008377) with: {'criterion': 'entropy', 'max_depth': 16, 'min_samples_leaf': 5, 'min_samples_split': 20, 'n_estimators': 100}\n",
            "0.783406 (0.003030) with: {'criterion': 'entropy', 'max_depth': 16, 'min_samples_leaf': 5, 'min_samples_split': 20, 'n_estimators': 200}\n",
            "0.773342 (0.010317) with: {'criterion': 'entropy', 'max_depth': 16, 'min_samples_leaf': 10, 'min_samples_split': 5, 'n_estimators': 50}\n",
            "0.775190 (0.003816) with: {'criterion': 'entropy', 'max_depth': 16, 'min_samples_leaf': 10, 'min_samples_split': 5, 'n_estimators': 100}\n",
            "0.766758 (0.006597) with: {'criterion': 'entropy', 'max_depth': 16, 'min_samples_leaf': 10, 'min_samples_split': 5, 'n_estimators': 200}\n",
            "0.774041 (0.007360) with: {'criterion': 'entropy', 'max_depth': 16, 'min_samples_leaf': 10, 'min_samples_split': 10, 'n_estimators': 50}\n",
            "0.767325 (0.009675) with: {'criterion': 'entropy', 'max_depth': 16, 'min_samples_leaf': 10, 'min_samples_split': 10, 'n_estimators': 100}\n",
            "0.775366 (0.008906) with: {'criterion': 'entropy', 'max_depth': 16, 'min_samples_leaf': 10, 'min_samples_split': 10, 'n_estimators': 200}\n",
            "0.771016 (0.013647) with: {'criterion': 'entropy', 'max_depth': 16, 'min_samples_leaf': 10, 'min_samples_split': 20, 'n_estimators': 50}\n",
            "0.765879 (0.008393) with: {'criterion': 'entropy', 'max_depth': 16, 'min_samples_leaf': 10, 'min_samples_split': 20, 'n_estimators': 100}\n",
            "0.773659 (0.010660) with: {'criterion': 'entropy', 'max_depth': 16, 'min_samples_leaf': 10, 'min_samples_split': 20, 'n_estimators': 200}\n",
            "0.806855 (0.006546) with: {'criterion': 'entropy', 'max_depth': 20, 'min_samples_leaf': 4, 'min_samples_split': 5, 'n_estimators': 50}\n",
            "0.804951 (0.013316) with: {'criterion': 'entropy', 'max_depth': 20, 'min_samples_leaf': 4, 'min_samples_split': 5, 'n_estimators': 100}\n",
            "0.802735 (0.009340) with: {'criterion': 'entropy', 'max_depth': 20, 'min_samples_leaf': 4, 'min_samples_split': 5, 'n_estimators': 200}\n",
            "0.793817 (0.012000) with: {'criterion': 'entropy', 'max_depth': 20, 'min_samples_leaf': 4, 'min_samples_split': 10, 'n_estimators': 50}\n",
            "0.806586 (0.006785) with: {'criterion': 'entropy', 'max_depth': 20, 'min_samples_leaf': 4, 'min_samples_split': 10, 'n_estimators': 100}\n",
            "0.803105 (0.012734) with: {'criterion': 'entropy', 'max_depth': 20, 'min_samples_leaf': 4, 'min_samples_split': 10, 'n_estimators': 200}\n",
            "0.790887 (0.014897) with: {'criterion': 'entropy', 'max_depth': 20, 'min_samples_leaf': 4, 'min_samples_split': 20, 'n_estimators': 50}\n",
            "0.784176 (0.011793) with: {'criterion': 'entropy', 'max_depth': 20, 'min_samples_leaf': 4, 'min_samples_split': 20, 'n_estimators': 100}\n",
            "0.786387 (0.005687) with: {'criterion': 'entropy', 'max_depth': 20, 'min_samples_leaf': 4, 'min_samples_split': 20, 'n_estimators': 200}\n",
            "0.796508 (0.013175) with: {'criterion': 'entropy', 'max_depth': 20, 'min_samples_leaf': 5, 'min_samples_split': 5, 'n_estimators': 50}\n",
            "0.793593 (0.007463) with: {'criterion': 'entropy', 'max_depth': 20, 'min_samples_leaf': 5, 'min_samples_split': 5, 'n_estimators': 100}\n",
            "0.794199 (0.009285) with: {'criterion': 'entropy', 'max_depth': 20, 'min_samples_leaf': 5, 'min_samples_split': 5, 'n_estimators': 200}\n",
            "0.799595 (0.008688) with: {'criterion': 'entropy', 'max_depth': 20, 'min_samples_leaf': 5, 'min_samples_split': 10, 'n_estimators': 50}\n",
            "0.795470 (0.011870) with: {'criterion': 'entropy', 'max_depth': 20, 'min_samples_leaf': 5, 'min_samples_split': 10, 'n_estimators': 100}\n",
            "0.794196 (0.009709) with: {'criterion': 'entropy', 'max_depth': 20, 'min_samples_leaf': 5, 'min_samples_split': 10, 'n_estimators': 200}\n",
            "0.782932 (0.005547) with: {'criterion': 'entropy', 'max_depth': 20, 'min_samples_leaf': 5, 'min_samples_split': 20, 'n_estimators': 50}\n",
            "0.796029 (0.004624) with: {'criterion': 'entropy', 'max_depth': 20, 'min_samples_leaf': 5, 'min_samples_split': 20, 'n_estimators': 100}\n",
            "0.783865 (0.007135) with: {'criterion': 'entropy', 'max_depth': 20, 'min_samples_leaf': 5, 'min_samples_split': 20, 'n_estimators': 200}\n",
            "0.772007 (0.006413) with: {'criterion': 'entropy', 'max_depth': 20, 'min_samples_leaf': 10, 'min_samples_split': 5, 'n_estimators': 50}\n",
            "0.769878 (0.003456) with: {'criterion': 'entropy', 'max_depth': 20, 'min_samples_leaf': 10, 'min_samples_split': 5, 'n_estimators': 100}\n",
            "0.774872 (0.007445) with: {'criterion': 'entropy', 'max_depth': 20, 'min_samples_leaf': 10, 'min_samples_split': 5, 'n_estimators': 200}\n",
            "0.766361 (0.003652) with: {'criterion': 'entropy', 'max_depth': 20, 'min_samples_leaf': 10, 'min_samples_split': 10, 'n_estimators': 50}\n",
            "0.766283 (0.010836) with: {'criterion': 'entropy', 'max_depth': 20, 'min_samples_leaf': 10, 'min_samples_split': 10, 'n_estimators': 100}\n",
            "0.773898 (0.004764) with: {'criterion': 'entropy', 'max_depth': 20, 'min_samples_leaf': 10, 'min_samples_split': 10, 'n_estimators': 200}\n",
            "0.762057 (0.012494) with: {'criterion': 'entropy', 'max_depth': 20, 'min_samples_leaf': 10, 'min_samples_split': 20, 'n_estimators': 50}\n",
            "0.768535 (0.012126) with: {'criterion': 'entropy', 'max_depth': 20, 'min_samples_leaf': 10, 'min_samples_split': 20, 'n_estimators': 100}\n",
            "0.773950 (0.004763) with: {'criterion': 'entropy', 'max_depth': 20, 'min_samples_leaf': 10, 'min_samples_split': 20, 'n_estimators': 200}\n",
            "0.742489 (0.006282) with: {'criterion': 'gini', 'max_depth': 3, 'min_samples_leaf': 4, 'min_samples_split': 5, 'n_estimators': 50}\n",
            "0.751722 (0.014007) with: {'criterion': 'gini', 'max_depth': 3, 'min_samples_leaf': 4, 'min_samples_split': 5, 'n_estimators': 100}\n",
            "0.747741 (0.009683) with: {'criterion': 'gini', 'max_depth': 3, 'min_samples_leaf': 4, 'min_samples_split': 5, 'n_estimators': 200}\n",
            "0.751329 (0.011829) with: {'criterion': 'gini', 'max_depth': 3, 'min_samples_leaf': 4, 'min_samples_split': 10, 'n_estimators': 50}\n",
            "0.745332 (0.003513) with: {'criterion': 'gini', 'max_depth': 3, 'min_samples_leaf': 4, 'min_samples_split': 10, 'n_estimators': 100}\n",
            "0.750778 (0.004534) with: {'criterion': 'gini', 'max_depth': 3, 'min_samples_leaf': 4, 'min_samples_split': 10, 'n_estimators': 200}\n",
            "0.745244 (0.002413) with: {'criterion': 'gini', 'max_depth': 3, 'min_samples_leaf': 4, 'min_samples_split': 20, 'n_estimators': 50}\n",
            "0.750665 (0.007420) with: {'criterion': 'gini', 'max_depth': 3, 'min_samples_leaf': 4, 'min_samples_split': 20, 'n_estimators': 100}\n",
            "0.747794 (0.007241) with: {'criterion': 'gini', 'max_depth': 3, 'min_samples_leaf': 4, 'min_samples_split': 20, 'n_estimators': 200}\n",
            "0.758510 (0.005260) with: {'criterion': 'gini', 'max_depth': 3, 'min_samples_leaf': 5, 'min_samples_split': 5, 'n_estimators': 50}\n",
            "0.753449 (0.008912) with: {'criterion': 'gini', 'max_depth': 3, 'min_samples_leaf': 5, 'min_samples_split': 5, 'n_estimators': 100}\n",
            "0.750122 (0.005794) with: {'criterion': 'gini', 'max_depth': 3, 'min_samples_leaf': 5, 'min_samples_split': 5, 'n_estimators': 200}\n",
            "0.747758 (0.011449) with: {'criterion': 'gini', 'max_depth': 3, 'min_samples_leaf': 5, 'min_samples_split': 10, 'n_estimators': 50}\n",
            "0.750873 (0.012721) with: {'criterion': 'gini', 'max_depth': 3, 'min_samples_leaf': 5, 'min_samples_split': 10, 'n_estimators': 100}\n",
            "0.752720 (0.009074) with: {'criterion': 'gini', 'max_depth': 3, 'min_samples_leaf': 5, 'min_samples_split': 10, 'n_estimators': 200}\n",
            "0.753408 (0.007234) with: {'criterion': 'gini', 'max_depth': 3, 'min_samples_leaf': 5, 'min_samples_split': 20, 'n_estimators': 50}\n",
            "0.753098 (0.007432) with: {'criterion': 'gini', 'max_depth': 3, 'min_samples_leaf': 5, 'min_samples_split': 20, 'n_estimators': 100}\n",
            "0.746325 (0.010040) with: {'criterion': 'gini', 'max_depth': 3, 'min_samples_leaf': 5, 'min_samples_split': 20, 'n_estimators': 200}\n",
            "0.745038 (0.011383) with: {'criterion': 'gini', 'max_depth': 3, 'min_samples_leaf': 10, 'min_samples_split': 5, 'n_estimators': 50}\n",
            "0.745956 (0.014760) with: {'criterion': 'gini', 'max_depth': 3, 'min_samples_leaf': 10, 'min_samples_split': 5, 'n_estimators': 100}\n",
            "0.747719 (0.009177) with: {'criterion': 'gini', 'max_depth': 3, 'min_samples_leaf': 10, 'min_samples_split': 5, 'n_estimators': 200}\n",
            "0.751399 (0.009961) with: {'criterion': 'gini', 'max_depth': 3, 'min_samples_leaf': 10, 'min_samples_split': 10, 'n_estimators': 50}\n",
            "0.746439 (0.007446) with: {'criterion': 'gini', 'max_depth': 3, 'min_samples_leaf': 10, 'min_samples_split': 10, 'n_estimators': 100}\n",
            "0.752674 (0.009805) with: {'criterion': 'gini', 'max_depth': 3, 'min_samples_leaf': 10, 'min_samples_split': 10, 'n_estimators': 200}\n",
            "0.746689 (0.010318) with: {'criterion': 'gini', 'max_depth': 3, 'min_samples_leaf': 10, 'min_samples_split': 20, 'n_estimators': 50}\n",
            "0.748604 (0.009358) with: {'criterion': 'gini', 'max_depth': 3, 'min_samples_leaf': 10, 'min_samples_split': 20, 'n_estimators': 100}\n",
            "0.748168 (0.010512) with: {'criterion': 'gini', 'max_depth': 3, 'min_samples_leaf': 10, 'min_samples_split': 20, 'n_estimators': 200}\n",
            "0.754535 (0.007332) with: {'criterion': 'gini', 'max_depth': 4, 'min_samples_leaf': 4, 'min_samples_split': 5, 'n_estimators': 50}\n",
            "0.757188 (0.007280) with: {'criterion': 'gini', 'max_depth': 4, 'min_samples_leaf': 4, 'min_samples_split': 5, 'n_estimators': 100}\n",
            "0.752661 (0.010659) with: {'criterion': 'gini', 'max_depth': 4, 'min_samples_leaf': 4, 'min_samples_split': 5, 'n_estimators': 200}\n",
            "0.754278 (0.005123) with: {'criterion': 'gini', 'max_depth': 4, 'min_samples_leaf': 4, 'min_samples_split': 10, 'n_estimators': 50}\n",
            "0.757053 (0.005445) with: {'criterion': 'gini', 'max_depth': 4, 'min_samples_leaf': 4, 'min_samples_split': 10, 'n_estimators': 100}\n",
            "0.758515 (0.005581) with: {'criterion': 'gini', 'max_depth': 4, 'min_samples_leaf': 4, 'min_samples_split': 10, 'n_estimators': 200}\n",
            "0.757542 (0.005677) with: {'criterion': 'gini', 'max_depth': 4, 'min_samples_leaf': 4, 'min_samples_split': 20, 'n_estimators': 50}\n",
            "0.751338 (0.008223) with: {'criterion': 'gini', 'max_depth': 4, 'min_samples_leaf': 4, 'min_samples_split': 20, 'n_estimators': 100}\n",
            "0.756327 (0.006687) with: {'criterion': 'gini', 'max_depth': 4, 'min_samples_leaf': 4, 'min_samples_split': 20, 'n_estimators': 200}\n",
            "0.756789 (0.008980) with: {'criterion': 'gini', 'max_depth': 4, 'min_samples_leaf': 5, 'min_samples_split': 5, 'n_estimators': 50}\n",
            "0.754027 (0.009303) with: {'criterion': 'gini', 'max_depth': 4, 'min_samples_leaf': 5, 'min_samples_split': 5, 'n_estimators': 100}\n",
            "0.753232 (0.006944) with: {'criterion': 'gini', 'max_depth': 4, 'min_samples_leaf': 5, 'min_samples_split': 5, 'n_estimators': 200}\n",
            "0.750711 (0.005166) with: {'criterion': 'gini', 'max_depth': 4, 'min_samples_leaf': 5, 'min_samples_split': 10, 'n_estimators': 50}\n",
            "0.762928 (0.006303) with: {'criterion': 'gini', 'max_depth': 4, 'min_samples_leaf': 5, 'min_samples_split': 10, 'n_estimators': 100}\n",
            "0.760937 (0.002976) with: {'criterion': 'gini', 'max_depth': 4, 'min_samples_leaf': 5, 'min_samples_split': 10, 'n_estimators': 200}\n",
            "0.755796 (0.006566) with: {'criterion': 'gini', 'max_depth': 4, 'min_samples_leaf': 5, 'min_samples_split': 20, 'n_estimators': 50}\n",
            "0.759815 (0.003554) with: {'criterion': 'gini', 'max_depth': 4, 'min_samples_leaf': 5, 'min_samples_split': 20, 'n_estimators': 100}\n",
            "0.756393 (0.006218) with: {'criterion': 'gini', 'max_depth': 4, 'min_samples_leaf': 5, 'min_samples_split': 20, 'n_estimators': 200}\n",
            "0.750226 (0.014409) with: {'criterion': 'gini', 'max_depth': 4, 'min_samples_leaf': 10, 'min_samples_split': 5, 'n_estimators': 50}\n",
            "0.752790 (0.009310) with: {'criterion': 'gini', 'max_depth': 4, 'min_samples_leaf': 10, 'min_samples_split': 5, 'n_estimators': 100}\n",
            "0.757716 (0.004626) with: {'criterion': 'gini', 'max_depth': 4, 'min_samples_leaf': 10, 'min_samples_split': 5, 'n_estimators': 200}\n",
            "0.756556 (0.004148) with: {'criterion': 'gini', 'max_depth': 4, 'min_samples_leaf': 10, 'min_samples_split': 10, 'n_estimators': 50}\n",
            "0.756179 (0.005643) with: {'criterion': 'gini', 'max_depth': 4, 'min_samples_leaf': 10, 'min_samples_split': 10, 'n_estimators': 100}\n",
            "0.754006 (0.006472) with: {'criterion': 'gini', 'max_depth': 4, 'min_samples_leaf': 10, 'min_samples_split': 10, 'n_estimators': 200}\n",
            "0.759488 (0.005688) with: {'criterion': 'gini', 'max_depth': 4, 'min_samples_leaf': 10, 'min_samples_split': 20, 'n_estimators': 50}\n",
            "0.755115 (0.001259) with: {'criterion': 'gini', 'max_depth': 4, 'min_samples_leaf': 10, 'min_samples_split': 20, 'n_estimators': 100}\n",
            "0.757350 (0.006851) with: {'criterion': 'gini', 'max_depth': 4, 'min_samples_leaf': 10, 'min_samples_split': 20, 'n_estimators': 200}\n",
            "0.771794 (0.008210) with: {'criterion': 'gini', 'max_depth': 8, 'min_samples_leaf': 4, 'min_samples_split': 5, 'n_estimators': 50}\n",
            "0.784492 (0.011402) with: {'criterion': 'gini', 'max_depth': 8, 'min_samples_leaf': 4, 'min_samples_split': 5, 'n_estimators': 100}\n",
            "0.780343 (0.007235) with: {'criterion': 'gini', 'max_depth': 8, 'min_samples_leaf': 4, 'min_samples_split': 5, 'n_estimators': 200}\n",
            "0.786134 (0.000752) with: {'criterion': 'gini', 'max_depth': 8, 'min_samples_leaf': 4, 'min_samples_split': 10, 'n_estimators': 50}\n",
            "0.779999 (0.004226) with: {'criterion': 'gini', 'max_depth': 8, 'min_samples_leaf': 4, 'min_samples_split': 10, 'n_estimators': 100}\n",
            "0.786741 (0.007408) with: {'criterion': 'gini', 'max_depth': 8, 'min_samples_leaf': 4, 'min_samples_split': 10, 'n_estimators': 200}\n",
            "0.769838 (0.005743) with: {'criterion': 'gini', 'max_depth': 8, 'min_samples_leaf': 4, 'min_samples_split': 20, 'n_estimators': 50}\n",
            "0.771900 (0.010894) with: {'criterion': 'gini', 'max_depth': 8, 'min_samples_leaf': 4, 'min_samples_split': 20, 'n_estimators': 100}\n",
            "0.774355 (0.006020) with: {'criterion': 'gini', 'max_depth': 8, 'min_samples_leaf': 4, 'min_samples_split': 20, 'n_estimators': 200}\n",
            "0.780108 (0.009987) with: {'criterion': 'gini', 'max_depth': 8, 'min_samples_leaf': 5, 'min_samples_split': 5, 'n_estimators': 50}\n",
            "0.777398 (0.010807) with: {'criterion': 'gini', 'max_depth': 8, 'min_samples_leaf': 5, 'min_samples_split': 5, 'n_estimators': 100}\n",
            "0.781455 (0.007014) with: {'criterion': 'gini', 'max_depth': 8, 'min_samples_leaf': 5, 'min_samples_split': 5, 'n_estimators': 200}\n",
            "0.779921 (0.013379) with: {'criterion': 'gini', 'max_depth': 8, 'min_samples_leaf': 5, 'min_samples_split': 10, 'n_estimators': 50}\n",
            "0.786881 (0.004346) with: {'criterion': 'gini', 'max_depth': 8, 'min_samples_leaf': 5, 'min_samples_split': 10, 'n_estimators': 100}\n",
            "0.783448 (0.007606) with: {'criterion': 'gini', 'max_depth': 8, 'min_samples_leaf': 5, 'min_samples_split': 10, 'n_estimators': 200}\n",
            "0.769317 (0.003360) with: {'criterion': 'gini', 'max_depth': 8, 'min_samples_leaf': 5, 'min_samples_split': 20, 'n_estimators': 50}\n",
            "0.774786 (0.010535) with: {'criterion': 'gini', 'max_depth': 8, 'min_samples_leaf': 5, 'min_samples_split': 20, 'n_estimators': 100}\n",
            "0.773562 (0.012902) with: {'criterion': 'gini', 'max_depth': 8, 'min_samples_leaf': 5, 'min_samples_split': 20, 'n_estimators': 200}\n",
            "0.774010 (0.012472) with: {'criterion': 'gini', 'max_depth': 8, 'min_samples_leaf': 10, 'min_samples_split': 5, 'n_estimators': 50}\n",
            "0.764394 (0.009027) with: {'criterion': 'gini', 'max_depth': 8, 'min_samples_leaf': 10, 'min_samples_split': 5, 'n_estimators': 100}\n",
            "0.767706 (0.014538) with: {'criterion': 'gini', 'max_depth': 8, 'min_samples_leaf': 10, 'min_samples_split': 5, 'n_estimators': 200}\n",
            "0.763604 (0.008966) with: {'criterion': 'gini', 'max_depth': 8, 'min_samples_leaf': 10, 'min_samples_split': 10, 'n_estimators': 50}\n",
            "0.770337 (0.014017) with: {'criterion': 'gini', 'max_depth': 8, 'min_samples_leaf': 10, 'min_samples_split': 10, 'n_estimators': 100}\n",
            "0.767646 (0.009302) with: {'criterion': 'gini', 'max_depth': 8, 'min_samples_leaf': 10, 'min_samples_split': 10, 'n_estimators': 200}\n",
            "0.758877 (0.009945) with: {'criterion': 'gini', 'max_depth': 8, 'min_samples_leaf': 10, 'min_samples_split': 20, 'n_estimators': 50}\n",
            "0.765626 (0.008065) with: {'criterion': 'gini', 'max_depth': 8, 'min_samples_leaf': 10, 'min_samples_split': 20, 'n_estimators': 100}\n",
            "0.765952 (0.013732) with: {'criterion': 'gini', 'max_depth': 8, 'min_samples_leaf': 10, 'min_samples_split': 20, 'n_estimators': 200}\n",
            "0.798024 (0.013790) with: {'criterion': 'gini', 'max_depth': 16, 'min_samples_leaf': 4, 'min_samples_split': 5, 'n_estimators': 50}\n",
            "0.796432 (0.011182) with: {'criterion': 'gini', 'max_depth': 16, 'min_samples_leaf': 4, 'min_samples_split': 5, 'n_estimators': 100}\n",
            "0.802665 (0.009940) with: {'criterion': 'gini', 'max_depth': 16, 'min_samples_leaf': 4, 'min_samples_split': 5, 'n_estimators': 200}\n",
            "0.794256 (0.011558) with: {'criterion': 'gini', 'max_depth': 16, 'min_samples_leaf': 4, 'min_samples_split': 10, 'n_estimators': 50}\n",
            "0.803820 (0.003454) with: {'criterion': 'gini', 'max_depth': 16, 'min_samples_leaf': 4, 'min_samples_split': 10, 'n_estimators': 100}\n",
            "0.802274 (0.007008) with: {'criterion': 'gini', 'max_depth': 16, 'min_samples_leaf': 4, 'min_samples_split': 10, 'n_estimators': 200}\n",
            "0.781467 (0.013860) with: {'criterion': 'gini', 'max_depth': 16, 'min_samples_leaf': 4, 'min_samples_split': 20, 'n_estimators': 50}\n",
            "0.777830 (0.006266) with: {'criterion': 'gini', 'max_depth': 16, 'min_samples_leaf': 4, 'min_samples_split': 20, 'n_estimators': 100}\n",
            "0.785916 (0.013632) with: {'criterion': 'gini', 'max_depth': 16, 'min_samples_leaf': 4, 'min_samples_split': 20, 'n_estimators': 200}\n",
            "0.792315 (0.007848) with: {'criterion': 'gini', 'max_depth': 16, 'min_samples_leaf': 5, 'min_samples_split': 5, 'n_estimators': 50}\n",
            "0.797808 (0.003506) with: {'criterion': 'gini', 'max_depth': 16, 'min_samples_leaf': 5, 'min_samples_split': 5, 'n_estimators': 100}\n",
            "0.792123 (0.008385) with: {'criterion': 'gini', 'max_depth': 16, 'min_samples_leaf': 5, 'min_samples_split': 5, 'n_estimators': 200}\n",
            "0.796297 (0.005239) with: {'criterion': 'gini', 'max_depth': 16, 'min_samples_leaf': 5, 'min_samples_split': 10, 'n_estimators': 50}\n",
            "0.793575 (0.004953) with: {'criterion': 'gini', 'max_depth': 16, 'min_samples_leaf': 5, 'min_samples_split': 10, 'n_estimators': 100}\n",
            "0.793001 (0.007660) with: {'criterion': 'gini', 'max_depth': 16, 'min_samples_leaf': 5, 'min_samples_split': 10, 'n_estimators': 200}\n",
            "0.777553 (0.007535) with: {'criterion': 'gini', 'max_depth': 16, 'min_samples_leaf': 5, 'min_samples_split': 20, 'n_estimators': 50}\n",
            "0.778978 (0.014008) with: {'criterion': 'gini', 'max_depth': 16, 'min_samples_leaf': 5, 'min_samples_split': 20, 'n_estimators': 100}\n",
            "0.779672 (0.008628) with: {'criterion': 'gini', 'max_depth': 16, 'min_samples_leaf': 5, 'min_samples_split': 20, 'n_estimators': 200}\n",
            "0.765887 (0.012501) with: {'criterion': 'gini', 'max_depth': 16, 'min_samples_leaf': 10, 'min_samples_split': 5, 'n_estimators': 50}\n",
            "0.765775 (0.002820) with: {'criterion': 'gini', 'max_depth': 16, 'min_samples_leaf': 10, 'min_samples_split': 5, 'n_estimators': 100}\n",
            "0.768603 (0.003867) with: {'criterion': 'gini', 'max_depth': 16, 'min_samples_leaf': 10, 'min_samples_split': 5, 'n_estimators': 200}\n",
            "0.774231 (0.009961) with: {'criterion': 'gini', 'max_depth': 16, 'min_samples_leaf': 10, 'min_samples_split': 10, 'n_estimators': 50}\n",
            "0.769380 (0.011970) with: {'criterion': 'gini', 'max_depth': 16, 'min_samples_leaf': 10, 'min_samples_split': 10, 'n_estimators': 100}\n",
            "0.775341 (0.011431) with: {'criterion': 'gini', 'max_depth': 16, 'min_samples_leaf': 10, 'min_samples_split': 10, 'n_estimators': 200}\n",
            "0.775222 (0.011954) with: {'criterion': 'gini', 'max_depth': 16, 'min_samples_leaf': 10, 'min_samples_split': 20, 'n_estimators': 50}\n",
            "0.769234 (0.005531) with: {'criterion': 'gini', 'max_depth': 16, 'min_samples_leaf': 10, 'min_samples_split': 20, 'n_estimators': 100}\n",
            "0.780019 (0.010411) with: {'criterion': 'gini', 'max_depth': 16, 'min_samples_leaf': 10, 'min_samples_split': 20, 'n_estimators': 200}\n",
            "0.805242 (0.011199) with: {'criterion': 'gini', 'max_depth': 20, 'min_samples_leaf': 4, 'min_samples_split': 5, 'n_estimators': 50}\n",
            "0.796644 (0.010115) with: {'criterion': 'gini', 'max_depth': 20, 'min_samples_leaf': 4, 'min_samples_split': 5, 'n_estimators': 100}\n",
            "0.800870 (0.009440) with: {'criterion': 'gini', 'max_depth': 20, 'min_samples_leaf': 4, 'min_samples_split': 5, 'n_estimators': 200}\n",
            "0.796785 (0.009682) with: {'criterion': 'gini', 'max_depth': 20, 'min_samples_leaf': 4, 'min_samples_split': 10, 'n_estimators': 50}\n",
            "0.799256 (0.009521) with: {'criterion': 'gini', 'max_depth': 20, 'min_samples_leaf': 4, 'min_samples_split': 10, 'n_estimators': 100}\n",
            "0.793679 (0.012869) with: {'criterion': 'gini', 'max_depth': 20, 'min_samples_leaf': 4, 'min_samples_split': 10, 'n_estimators': 200}\n",
            "0.780848 (0.009990) with: {'criterion': 'gini', 'max_depth': 20, 'min_samples_leaf': 4, 'min_samples_split': 20, 'n_estimators': 50}\n",
            "0.788755 (0.006017) with: {'criterion': 'gini', 'max_depth': 20, 'min_samples_leaf': 4, 'min_samples_split': 20, 'n_estimators': 100}\n",
            "0.779395 (0.010620) with: {'criterion': 'gini', 'max_depth': 20, 'min_samples_leaf': 4, 'min_samples_split': 20, 'n_estimators': 200}\n",
            "0.793299 (0.008636) with: {'criterion': 'gini', 'max_depth': 20, 'min_samples_leaf': 5, 'min_samples_split': 5, 'n_estimators': 50}\n",
            "0.794829 (0.006154) with: {'criterion': 'gini', 'max_depth': 20, 'min_samples_leaf': 5, 'min_samples_split': 5, 'n_estimators': 100}\n",
            "0.800563 (0.007181) with: {'criterion': 'gini', 'max_depth': 20, 'min_samples_leaf': 5, 'min_samples_split': 5, 'n_estimators': 200}\n",
            "0.791004 (0.003922) with: {'criterion': 'gini', 'max_depth': 20, 'min_samples_leaf': 5, 'min_samples_split': 10, 'n_estimators': 50}\n",
            "0.791201 (0.006097) with: {'criterion': 'gini', 'max_depth': 20, 'min_samples_leaf': 5, 'min_samples_split': 10, 'n_estimators': 100}\n",
            "0.791525 (0.007789) with: {'criterion': 'gini', 'max_depth': 20, 'min_samples_leaf': 5, 'min_samples_split': 10, 'n_estimators': 200}\n",
            "0.775877 (0.006056) with: {'criterion': 'gini', 'max_depth': 20, 'min_samples_leaf': 5, 'min_samples_split': 20, 'n_estimators': 50}\n",
            "0.784750 (0.003900) with: {'criterion': 'gini', 'max_depth': 20, 'min_samples_leaf': 5, 'min_samples_split': 20, 'n_estimators': 100}\n",
            "0.782652 (0.008625) with: {'criterion': 'gini', 'max_depth': 20, 'min_samples_leaf': 5, 'min_samples_split': 20, 'n_estimators': 200}\n",
            "0.767271 (0.012812) with: {'criterion': 'gini', 'max_depth': 20, 'min_samples_leaf': 10, 'min_samples_split': 5, 'n_estimators': 50}\n",
            "0.774452 (0.006066) with: {'criterion': 'gini', 'max_depth': 20, 'min_samples_leaf': 10, 'min_samples_split': 5, 'n_estimators': 100}\n",
            "0.775496 (0.007972) with: {'criterion': 'gini', 'max_depth': 20, 'min_samples_leaf': 10, 'min_samples_split': 5, 'n_estimators': 200}\n",
            "0.770526 (0.008463) with: {'criterion': 'gini', 'max_depth': 20, 'min_samples_leaf': 10, 'min_samples_split': 10, 'n_estimators': 50}\n",
            "0.772479 (0.004224) with: {'criterion': 'gini', 'max_depth': 20, 'min_samples_leaf': 10, 'min_samples_split': 10, 'n_estimators': 100}\n",
            "0.769623 (0.013581) with: {'criterion': 'gini', 'max_depth': 20, 'min_samples_leaf': 10, 'min_samples_split': 10, 'n_estimators': 200}\n",
            "0.775028 (0.008284) with: {'criterion': 'gini', 'max_depth': 20, 'min_samples_leaf': 10, 'min_samples_split': 20, 'n_estimators': 50}\n",
            "0.769904 (0.005757) with: {'criterion': 'gini', 'max_depth': 20, 'min_samples_leaf': 10, 'min_samples_split': 20, 'n_estimators': 100}\n",
            "0.767914 (0.007011) with: {'criterion': 'gini', 'max_depth': 20, 'min_samples_leaf': 10, 'min_samples_split': 20, 'n_estimators': 200}\n"
          ]
        }
      ]
    },
    {
      "cell_type": "code",
      "source": [
        "#TEST ON YOUR TEST SET \n",
        "\n",
        "# Original model\n",
        "best_model = gs.best_estimator_\n",
        "y_pred = best_model.predict(X_test)\n",
        "\n",
        "y_pred_train = best_model.predict(X_train)\n",
        "\n",
        "# Oversampled model\n",
        "best_model_oversampled = gs_oversampled.best_estimator_\n",
        "y_pred_oversampled = best_model_oversampled.predict(X_test)\n",
        "y_pred_oversampled2 = best_model_oversampled.predict(X_oversampled_test)\n",
        "\n",
        "y_pred_oversampled_train = best_model_oversampled.predict(X_train)\n",
        "\n",
        "# Downsampled model\n",
        "best_model_downsampled = gs_downsampled.best_estimator_\n",
        "y_pred_downsampled = best_model_downsampled.predict(X_test)\n",
        "\n",
        "y_pred_downsampled_train = best_model_downsampled.predict(X_train)\n"
      ],
      "metadata": {
        "id": "Skzcolr9N02-"
      },
      "execution_count": 223,
      "outputs": []
    },
    {
      "cell_type": "code",
      "source": [
        "#EVALUATE YOUR PREDICTION\n",
        "from sklearn import metrics\n",
        "\n",
        "print('***RESULTS ORIGINAL MODEL***')\n",
        "print('***RESULTS ON TRAIN SET***')\n",
        "print(\"f1_score: \", metrics.f1_score(y_train, y_pred_train))\n",
        "print(\"--\")\n",
        "print('***RESULTS ON TEST SET***')\n",
        "print(\"f1_score: \", metrics.f1_score(y_test, y_pred))\n",
        "print(\" \")\n",
        "print(\" \")\n",
        "\n",
        "print('***RESULTS OVERSAMPLED MODEL***')\n",
        "print('***RESULTS ON TRAIN SET***')\n",
        "print(\"f1_score: \", metrics.f1_score(y_train, y_pred_oversampled_train))\n",
        "print(\"--\")\n",
        "print('***RESULTS ON TEST SET***')\n",
        "print(\"f1_score: \", metrics.f1_score(y_test, y_pred_oversampled))\n",
        "print(\"f1_score_oversampled: \", metrics.f1_score(y_oversampled_test, y_pred_oversampled2))\n",
        "print(\" \")\n",
        "print(\" \")\n",
        "\n",
        "\n",
        "\n",
        "\n",
        "\n",
        "\n",
        "print('***RESULTS DOWNSAMPLED MODEL***')\n",
        "print('***RESULTS ON TRAIN SET***')\n",
        "print(\"f1_score: \", metrics.f1_score(y_train, y_pred_downsampled_train))\n",
        "print(\"--\")\n",
        "print('***RESULTS ON TEST SET***')\n",
        "print(\"f1_score: \", metrics.f1_score(y_test, y_pred_downsampled))\n"
      ],
      "metadata": {
        "colab": {
          "base_uri": "https://localhost:8080/"
        },
        "id": "MjO9G4sykTTV",
        "outputId": "30079bd4-a518-4a3f-8e62-195861752d49"
      },
      "execution_count": 224,
      "outputs": [
        {
          "output_type": "stream",
          "name": "stdout",
          "text": [
            "***RESULTS ORIGINAL MODEL***\n",
            "***RESULTS ON TRAIN SET***\n",
            "f1_score:  0.8674698795180723\n",
            "--\n",
            "***RESULTS ON TEST SET***\n",
            "f1_score:  0.5572519083969467\n",
            " \n",
            " \n",
            "***RESULTS OVERSAMPLED MODEL***\n",
            "***RESULTS ON TRAIN SET***\n",
            "f1_score:  0.8954802259887006\n",
            "--\n",
            "***RESULTS ON TEST SET***\n",
            "f1_score:  0.7311522048364155\n",
            "f1_score_oversampled:  0.8222222222222221\n",
            " \n",
            " \n",
            "***RESULTS DOWNSAMPLED MODEL***\n",
            "***RESULTS ON TRAIN SET***\n",
            "f1_score:  0.7154471544715447\n",
            "--\n",
            "***RESULTS ON TEST SET***\n",
            "f1_score:  0.6521181001283697\n"
          ]
        }
      ]
    },
    {
      "cell_type": "code",
      "source": [
        "from sklearn.metrics import classification_report\n",
        "\n",
        "\n",
        "print('***RESULTS ORIGINAL MODEL***')\n",
        "print(classification_report(y_test, y_pred))\n",
        "print(\" \")\n",
        "print(\" \")\n",
        "\n",
        "print('***RESULTS OVERSAMPLED MODEL***')\n",
        "print(classification_report(y_test, y_pred_oversampled))\n",
        "print(\" \")\n",
        "print(\" \")\n",
        "\n",
        "print('***RESULTS DOWNSAMPLED MODEL***')\n",
        "print(classification_report(y_test, y_pred_downsampled))\n",
        "print(\" \")\n",
        "print(\" \")\n"
      ],
      "metadata": {
        "colab": {
          "base_uri": "https://localhost:8080/"
        },
        "id": "ymp6ZrG6N2pA",
        "outputId": "a7969ef4-aef2-4b60-956d-1f8cc2aff7aa"
      },
      "execution_count": 225,
      "outputs": [
        {
          "output_type": "stream",
          "name": "stdout",
          "text": [
            "***RESULTS ORIGINAL MODEL***\n",
            "              precision    recall  f1-score   support\n",
            "\n",
            "           0       0.77      0.87      0.82       598\n",
            "           1       0.66      0.48      0.56       302\n",
            "\n",
            "    accuracy                           0.74       900\n",
            "   macro avg       0.71      0.68      0.69       900\n",
            "weighted avg       0.73      0.74      0.73       900\n",
            "\n",
            " \n",
            " \n",
            "***RESULTS OVERSAMPLED MODEL***\n",
            "              precision    recall  f1-score   support\n",
            "\n",
            "           0       0.91      0.76      0.83       598\n",
            "           1       0.64      0.85      0.73       302\n",
            "\n",
            "    accuracy                           0.79       900\n",
            "   macro avg       0.78      0.81      0.78       900\n",
            "weighted avg       0.82      0.79      0.80       900\n",
            "\n",
            " \n",
            " \n",
            "***RESULTS DOWNSAMPLED MODEL***\n",
            "              precision    recall  f1-score   support\n",
            "\n",
            "           0       0.89      0.63      0.73       598\n",
            "           1       0.53      0.84      0.65       302\n",
            "\n",
            "    accuracy                           0.70       900\n",
            "   macro avg       0.71      0.73      0.69       900\n",
            "weighted avg       0.77      0.70      0.71       900\n",
            "\n",
            " \n",
            " \n"
          ]
        }
      ]
    },
    {
      "cell_type": "code",
      "source": [
        "# Plot confusion matrix\n",
        "from sklearn.metrics import confusion_matrix\n",
        "print('***ORIGINAL MODEL***')\n",
        "sns.heatmap(confusion_matrix(y_test, y_pred), annot=True, fmt='d', cmap=\"Reds\", cbar=False);"
      ],
      "metadata": {
        "colab": {
          "base_uri": "https://localhost:8080/",
          "height": 282
        },
        "id": "VceMgEpdN5AQ",
        "outputId": "397784f5-4d5a-4144-cef4-d35c838c46e9"
      },
      "execution_count": 226,
      "outputs": [
        {
          "output_type": "stream",
          "name": "stdout",
          "text": [
            "***ORIGINAL MODEL***\n"
          ]
        },
        {
          "output_type": "display_data",
          "data": {
            "text/plain": [
              "<Figure size 432x288 with 1 Axes>"
            ],
            "image/png": "[encoded data removed]"
          },
          "metadata": {}
        }
      ]
    },
    {
      "cell_type": "code",
      "source": [
        "print('***OVERSAMPLED MODEL***')\n",
        "sns.heatmap(confusion_matrix(y_test, y_pred_oversampled), annot=True, fmt='d', cmap=\"Reds\", cbar=False);"
      ],
      "metadata": {
        "colab": {
          "base_uri": "https://localhost:8080/",
          "height": 282
        },
        "id": "hfM7cPpWI_GO",
        "outputId": "0506038b-1708-4c49-9767-3d371794c15b"
      },
      "execution_count": 227,
      "outputs": [
        {
          "output_type": "stream",
          "name": "stdout",
          "text": [
            "***OVERSAMPLED MODEL***\n"
          ]
        },
        {
          "output_type": "display_data",
          "data": {
            "text/plain": [
              "<Figure size 432x288 with 1 Axes>"
            ],
            "image/png": "[encoded data removed]"
          },
          "metadata": {}
        }
      ]
    },
    {
      "cell_type": "code",
      "source": [
        "print('***DOWNSAMPLED MODEL***')\n",
        "sns.heatmap(confusion_matrix(y_test, y_pred_downsampled), annot=True, fmt='d', cmap=\"Reds\", cbar=False);"
      ],
      "metadata": {
        "colab": {
          "base_uri": "https://localhost:8080/",
          "height": 282
        },
        "id": "qsU-hYZPJA4K",
        "outputId": "2af3a533-72b6-44b5-d517-478431bef609"
      },
      "execution_count": 228,
      "outputs": [
        {
          "output_type": "stream",
          "name": "stdout",
          "text": [
            "***DOWNSAMPLED MODEL***\n"
          ]
        },
        {
          "output_type": "display_data",
          "data": {
            "text/plain": [
              "<Figure size 432x288 with 1 Axes>"
            ],
            "image/png": "[encoded data removed]"
          },
          "metadata": {}
        }
      ]
    },
    {
      "cell_type": "code",
      "source": [
        "# Now we try to optimize the parameters for just the oversampled fit model\n",
        "from sklearn.ensemble import RandomForestClassifier\n",
        "from sklearn.model_selection import GridSearchCV\n",
        "\n",
        "\n",
        "classifier= RandomForestClassifier()\n",
        "parameters = {'n_estimators' : [60, 70, 80],\n",
        "    'criterion' : ['entropy', 'gini'],\n",
        "             'max_depth' : [17,18,19], \n",
        "             'min_samples_split' : [2,3,4,5],\n",
        "              'min_samples_leaf' : [2,3,4]\n",
        "             }\n",
        "\n",
        "gs_bestparameters = GridSearchCV(classifier, parameters, cv=3, scoring = 'f1', verbose=10, n_jobs=-1, refit=True)"
      ],
      "metadata": {
        "id": "qYU562T9jnaC"
      },
      "execution_count": 229,
      "outputs": []
    },
    {
      "cell_type": "code",
      "source": [
        "gs_bestparameters.fit(X_oversampled_train,y_oversampled_train)"
      ],
      "metadata": {
        "colab": {
          "base_uri": "https://localhost:8080/"
        },
        "id": "6UYe2Ta7kDjQ",
        "outputId": "94f32cfb-2433-4e83-8a7b-5ea2d61e6638"
      },
      "execution_count": 230,
      "outputs": [
        {
          "output_type": "stream",
          "name": "stdout",
          "text": [
            "Fitting 3 folds for each of 216 candidates, totalling 648 fits\n"
          ]
        },
        {
          "output_type": "execute_result",
          "data": {
            "text/plain": [
              "GridSearchCV(cv=3, estimator=RandomForestClassifier(), n_jobs=-1,\n",
              "             param_grid={'criterion': ['entropy', 'gini'],\n",
              "                         'max_depth': [17, 18, 19],\n",
              "                         'min_samples_leaf': [2, 3, 4],\n",
              "                         'min_samples_split': [2, 3, 4, 5],\n",
              "                         'n_estimators': [60, 70, 80]},\n",
              "             scoring='f1', verbose=10)"
            ]
          },
          "metadata": {},
          "execution_count": 230
        }
      ]
    },
    {
      "cell_type": "code",
      "source": [
        "BestModel = gs_bestparameters.best_estimator_\n",
        "y_pred = BestModel.predict(X_test)\n",
        "\n",
        "y_pred_train = BestModel.predict(X_train)\n"
      ],
      "metadata": {
        "id": "MAdwPpo9kbU1"
      },
      "execution_count": 231,
      "outputs": []
    },
    {
      "cell_type": "code",
      "source": [
        "print('***RESULTS ON TRAIN SET***')\n",
        "print(\"f1_score: \", metrics.f1_score(y_train, y_pred_train))\n",
        "print(\"--\")\n",
        "print('***RESULTS ON TEST SET***')\n",
        "print(\"f1_score: \", metrics.f1_score(y_test, y_pred))"
      ],
      "metadata": {
        "colab": {
          "base_uri": "https://localhost:8080/"
        },
        "id": "mCBzUDSmk6Dw",
        "outputId": "439f6510-7995-42b9-ffd8-66cba1d4be48"
      },
      "execution_count": 232,
      "outputs": [
        {
          "output_type": "stream",
          "name": "stdout",
          "text": [
            "***RESULTS ON TRAIN SET***\n",
            "f1_score:  0.9449743213499632\n",
            "--\n",
            "***RESULTS ON TEST SET***\n",
            "f1_score:  0.7619047619047618\n"
          ]
        }
      ]
    },
    {
      "cell_type": "code",
      "source": [
        "print('***RESULTS BEST MODEL***')\n",
        "print(classification_report(y_test, y_pred))\n",
        "print(\" \")\n",
        "print(\" \")"
      ],
      "metadata": {
        "colab": {
          "base_uri": "https://localhost:8080/"
        },
        "id": "XXfNEvCnpx9S",
        "outputId": "496f8970-acd7-4ac0-8c85-48d36ea6e80b"
      },
      "execution_count": 233,
      "outputs": [
        {
          "output_type": "stream",
          "name": "stdout",
          "text": [
            "***RESULTS BEST MODEL***\n",
            "              precision    recall  f1-score   support\n",
            "\n",
            "           0       0.93      0.79      0.85       598\n",
            "           1       0.68      0.87      0.76       302\n",
            "\n",
            "    accuracy                           0.82       900\n",
            "   macro avg       0.80      0.83      0.81       900\n",
            "weighted avg       0.84      0.82      0.82       900\n",
            "\n",
            " \n",
            " \n"
          ]
        }
      ]
    },
    {
      "cell_type": "code",
      "source": [
        "from sklearn.ensemble import RandomForestClassifier\n",
        "\n",
        "# From changing the set of parameters for the gs, we have identified the parameters that give us the best result,\n",
        "# By assigning the parameters to the rand_forest we can now display the ROC curve\n",
        "\n",
        "\n",
        "rand_forest = RandomForestClassifier(n_estimators=80, criterion='entropy', max_depth=19, min_samples_split=5, min_samples_leaf=2)\n",
        "rand_forest.fit(X_oversampled_train, y_oversampled_train)\n",
        "\n",
        "y_pred = rand_forest.predict(X_test)"
      ],
      "metadata": {
        "id": "ccgvFXE9N6_c"
      },
      "execution_count": 234,
      "outputs": []
    },
    {
      "cell_type": "code",
      "source": [
        "# ROC curve\n",
        "\n",
        "from sklearn import metrics\n",
        "\n",
        "y_probs = rand_forest.predict_proba(X_test) #predict_proba gives the probabilities for the target (0 and 1 in your case) \n",
        "\n",
        "fpr, tpr, thresholds=metrics.roc_curve(y_test,  y_probs[:,1])\n",
        "\n",
        "import matplotlib.pyplot as plt\n",
        "plt.plot(fpr, tpr, label='ROC')\n",
        "plt.plot([0, 1], [0, 1], color='darkblue', linestyle='--')\n",
        "plt.xlabel('False Positive Rate')\n",
        "plt.ylabel('True Positive Rate')\n",
        "plt.title('Receiver Operating Characteristic (ROC) Curve')\n",
        "plt.legend()\n",
        "plt.show()\n",
        "\n",
        "auc = metrics.roc_auc_score(y_test, y_probs[:,1])\n",
        "print('AUC: %.2f' % auc)"
      ],
      "metadata": {
        "colab": {
          "base_uri": "https://localhost:8080/",
          "height": 316
        },
        "id": "ZO5Wk4VPN9Ta",
        "outputId": "27e780c6-3e50-453d-e65b-920f16d27d12"
      },
      "execution_count": 235,
      "outputs": [
        {
          "output_type": "display_data",
          "data": {
            "text/plain": [
              "<Figure size 432x288 with 1 Axes>"
            ],
            "image/png": "[encoded data removed]"
          },
          "metadata": {}
        },
        {
          "output_type": "stream",
          "name": "stdout",
          "text": [
            "AUC: 0.91\n"
          ]
        }
      ]
    },
    {
      "cell_type": "code",
      "source": [
        "sns.barplot(x=X_train.columns, y=rand_forest.feature_importances_, palette=\"Blues_d\")\n",
        "plt.xticks(rotation=90)"
      ],
      "metadata": {
        "colab": {
          "base_uri": "https://localhost:8080/",
          "height": 372
        },
        "id": "W2M1Z-eZN-5h",
        "outputId": "2656dceb-963e-4068-f03e-a0d23a6b7aa6"
      },
      "execution_count": 236,
      "outputs": [
        {
          "output_type": "execute_result",
          "data": {
            "text/plain": [
              "(array([ 0,  1,  2,  3,  4,  5,  6,  7,  8,  9, 10, 11, 12, 13]),\n",
              " <a list of 14 Text major ticklabel objects>)"
            ]
          },
          "metadata": {},
          "execution_count": 236
        },
        {
          "output_type": "display_data",
          "data": {
            "text/plain": [
              "<Figure size 432x288 with 1 Axes>"
            ],
            "image/png": "[encoded data removed]"
          },
          "metadata": {}
        }
      ]
    },
    {
      "cell_type": "markdown",
      "source": [
        "# Adaboost"
      ],
      "metadata": {
        "id": "DcZi3fIIQB30"
      }
    },
    {
      "cell_type": "code",
      "source": [
        "## from sklearn.model_selection import GridSearchCV\n",
        "from sklearn.model_selection import GridSearchCV\n",
        "from sklearn.ensemble import AdaBoostClassifier\n",
        "from sklearn.tree import DecisionTreeClassifier\n",
        "from sklearn import metrics\n",
        "\n",
        "classifier= AdaBoostClassifier()\n",
        "parameters = {'n_estimators' : [2000, 5000],\n",
        "    'learning_rate' : [0.0001, 0.01, 0.1, 1, 10]}\n",
        "\n",
        "gs = GridSearchCV(classifier, parameters, cv=3, scoring = 'f1', verbose=10, n_jobs=-1, refit=True)\n",
        "gs_oversampled = GridSearchCV(classifier, parameters, cv=3, scoring = 'f1', verbose=10, n_jobs=-1, refit=True)\n",
        "gs_downsampled = GridSearchCV(classifier, parameters, cv=3, scoring = 'f1', verbose=10, n_jobs=-1, refit=True)\n"
      ],
      "metadata": {
        "id": "ZOQ6gIwgQEeB"
      },
      "execution_count": 75,
      "outputs": []
    },
    {
      "cell_type": "code",
      "source": [
        "gs.fit(X_train,y_train)\n",
        "gs_oversampled.fit(X_oversampled_train,y_oversampled_train)\n",
        "gs_downsampled.fit(X_downsampled_train,y_downsampled_train)"
      ],
      "metadata": {
        "colab": {
          "base_uri": "https://localhost:8080/"
        },
        "id": "cajb-j9dQN1r",
        "outputId": "ab80fe9e-c881-4f9b-e2ea-6b6ff0ec04a6"
      },
      "execution_count": 76,
      "outputs": [
        {
          "output_type": "stream",
          "name": "stdout",
          "text": [
            "Fitting 3 folds for each of 10 candidates, totalling 30 fits\n",
            "Fitting 3 folds for each of 10 candidates, totalling 30 fits\n",
            "Fitting 3 folds for each of 10 candidates, totalling 30 fits\n"
          ]
        },
        {
          "output_type": "execute_result",
          "data": {
            "text/plain": [
              "GridSearchCV(cv=3, estimator=AdaBoostClassifier(), n_jobs=-1,\n",
              "             param_grid={'learning_rate': [0.0001, 0.01, 0.1, 1, 10],\n",
              "                         'n_estimators': [2000, 5000]},\n",
              "             scoring='f1', verbose=10)"
            ]
          },
          "metadata": {},
          "execution_count": 76
        }
      ]
    },
    {
      "cell_type": "code",
      "source": [
        "#summarize the results of your GRIDSEARCH\n",
        "print('***GRIDSEARCH RESULTS***')\n",
        "\n",
        "print(\"Best score: %f using %s\" % (gs.best_score_, gs.best_params_))\n",
        "means = gs.cv_results_['mean_test_score']\n",
        "stds = gs.cv_results_['std_test_score']\n",
        "params = gs.cv_results_['params']\n",
        "\n",
        "for mean, stdev, param in zip(means, stds, params):\n",
        "    print(\"%f (%f) with: %r\" % (mean, stdev, param))"
      ],
      "metadata": {
        "colab": {
          "base_uri": "https://localhost:8080/"
        },
        "id": "qb-zwQxMQPpD",
        "outputId": "8c2dd6da-58eb-4c18-c92b-5bc080cb67a3"
      },
      "execution_count": 77,
      "outputs": [
        {
          "output_type": "stream",
          "name": "stdout",
          "text": [
            "***GRIDSEARCH RESULTS***\n",
            "Best score: 0.576444 using {'learning_rate': 0.01, 'n_estimators': 2000}\n",
            "0.203035 (0.287135) with: {'learning_rate': 0.0001, 'n_estimators': 2000}\n",
            "0.467636 (0.088173) with: {'learning_rate': 0.0001, 'n_estimators': 5000}\n",
            "0.576444 (0.015281) with: {'learning_rate': 0.01, 'n_estimators': 2000}\n",
            "0.570937 (0.013494) with: {'learning_rate': 0.01, 'n_estimators': 5000}\n",
            "0.560230 (0.019323) with: {'learning_rate': 0.1, 'n_estimators': 2000}\n",
            "0.550699 (0.012534) with: {'learning_rate': 0.1, 'n_estimators': 5000}\n",
            "0.548400 (0.011710) with: {'learning_rate': 1, 'n_estimators': 2000}\n",
            "0.532411 (0.013088) with: {'learning_rate': 1, 'n_estimators': 5000}\n",
            "0.387452 (0.162948) with: {'learning_rate': 10, 'n_estimators': 2000}\n",
            "0.387452 (0.162948) with: {'learning_rate': 10, 'n_estimators': 5000}\n"
          ]
        }
      ]
    },
    {
      "cell_type": "code",
      "source": [
        "#TEST ON YOUR TEST SET \n",
        "\n",
        "# Original model\n",
        "best_model = gs.best_estimator_\n",
        "y_pred = best_model.predict(X_test)\n",
        "\n",
        "y_pred_train = best_model.predict(X_train)\n",
        "\n",
        "# Oversampled model\n",
        "best_model_oversampled = gs_oversampled.best_estimator_\n",
        "y_pred_oversampled = best_model_oversampled.predict(X_test)\n",
        "\n",
        "y_pred_oversampled_train = best_model_oversampled.predict(X_train)\n",
        "\n",
        "# Downsampled model\n",
        "best_model_downsampled = gs_downsampled.best_estimator_\n",
        "y_pred_downsampled = best_model_downsampled.predict(X_test)\n",
        "\n",
        "y_pred_downsampled_train = best_model_downsampled.predict(X_train)"
      ],
      "metadata": {
        "id": "3bhcbZkXQRPP"
      },
      "execution_count": 78,
      "outputs": []
    },
    {
      "cell_type": "code",
      "source": [
        "#EVALUATE YOUR PREDICTION\n",
        "from sklearn import metrics\n",
        "\n",
        "print('***RESULTS ORIGINAL MODEL***')\n",
        "print('***RESULTS ON TRAIN SET***')\n",
        "print(\"f1_score: \", metrics.f1_score(y_train, y_pred_train))\n",
        "print(\"--\")\n",
        "print('***RESULTS ON TEST SET***')\n",
        "print(\"f1_score: \", metrics.f1_score(y_test, y_pred))\n",
        "print(\" \")\n",
        "print(\" \")\n",
        "\n",
        "print('***RESULTS OVERSAMPLED MODEL***')\n",
        "print('***RESULTS ON TRAIN SET***')\n",
        "print(\"f1_score: \", metrics.f1_score(y_train, y_pred_oversampled_train))\n",
        "print(\"--\")\n",
        "print('***RESULTS ON TEST SET***')\n",
        "print(\"f1_score: \", metrics.f1_score(y_test, y_pred_oversampled))\n",
        "print(\" \")\n",
        "print(\" \")\n",
        "\n",
        "print('***RESULTS DOWNSAMPLED MODEL***')\n",
        "print('***RESULTS ON TRAIN SET***')\n",
        "print(\"f1_score: \", metrics.f1_score(y_train, y_pred_downsampled_train))\n",
        "print(\"--\")\n",
        "print('***RESULTS ON TEST SET***')\n",
        "print(\"f1_score: \", metrics.f1_score(y_test, y_pred_downsampled))\n"
      ],
      "metadata": {
        "colab": {
          "base_uri": "https://localhost:8080/"
        },
        "id": "sNaIl5eIOZDu",
        "outputId": "5dd1b603-96e4-4c94-f128-47776b5bb497"
      },
      "execution_count": 79,
      "outputs": [
        {
          "output_type": "stream",
          "name": "stdout",
          "text": [
            "***RESULTS ORIGINAL MODEL***\n",
            "***RESULTS ON TRAIN SET***\n",
            "f1_score:  0.6153846153846153\n",
            "--\n",
            "***RESULTS ON TEST SET***\n",
            "f1_score:  0.5541284403669725\n",
            " \n",
            " \n",
            "***RESULTS OVERSAMPLED MODEL***\n",
            "***RESULTS ON TRAIN SET***\n",
            "f1_score:  0.7983595352016405\n",
            "--\n",
            "***RESULTS ON TEST SET***\n",
            "f1_score:  0.6743515850144093\n",
            " \n",
            " \n",
            "***RESULTS DOWNSAMPLED MODEL***\n",
            "***RESULTS ON TRAIN SET***\n",
            "f1_score:  0.6218573627501283\n",
            "--\n",
            "***RESULTS ON TEST SET***\n",
            "f1_score:  0.6\n"
          ]
        }
      ]
    },
    {
      "cell_type": "code",
      "source": [
        "# Plot confusion matrix\n",
        "from sklearn.metrics import confusion_matrix\n",
        "print('***ORIGINAL MODEL***')\n",
        "sns.heatmap(confusion_matrix(y_test, y_pred), annot=True, fmt='d', cmap=\"Reds\", cbar=False);"
      ],
      "metadata": {
        "colab": {
          "base_uri": "https://localhost:8080/",
          "height": 282
        },
        "id": "cy5rymunQTFX",
        "outputId": "a3588ddb-e93d-4143-eead-38bd21cd9876"
      },
      "execution_count": 80,
      "outputs": [
        {
          "output_type": "stream",
          "name": "stdout",
          "text": [
            "***ORIGINAL MODEL***\n"
          ]
        },
        {
          "output_type": "display_data",
          "data": {
            "text/plain": [
              "<Figure size 432x288 with 1 Axes>"
            ],
            "image/png": "[encoded data removed]"
          },
          "metadata": {}
        }
      ]
    },
    {
      "cell_type": "code",
      "source": [
        "print('***OVERSAMPLED MODEL***')\n",
        "sns.heatmap(confusion_matrix(y_test, y_pred_oversampled), annot=True, fmt='d', cmap=\"Reds\", cbar=False);"
      ],
      "metadata": {
        "colab": {
          "base_uri": "https://localhost:8080/",
          "height": 282
        },
        "id": "PdLuL8HEOrlg",
        "outputId": "95137975-eb55-4993-9563-33e8422fd8aa"
      },
      "execution_count": 81,
      "outputs": [
        {
          "output_type": "stream",
          "name": "stdout",
          "text": [
            "***OVERSAMPLED MODEL***\n"
          ]
        },
        {
          "output_type": "display_data",
          "data": {
            "text/plain": [
              "<Figure size 432x288 with 1 Axes>"
            ],
            "image/png": "[encoded data removed]"
          },
          "metadata": {}
        }
      ]
    },
    {
      "cell_type": "code",
      "source": [
        "print('***DOWNSAMPLED MODEL***')\n",
        "sns.heatmap(confusion_matrix(y_test, y_pred_downsampled), annot=True, fmt='d', cmap=\"Reds\", cbar=False);"
      ],
      "metadata": {
        "colab": {
          "base_uri": "https://localhost:8080/",
          "height": 282
        },
        "id": "5ofLn8JFOtzp",
        "outputId": "fb41357a-648d-478a-81d1-e74992102568"
      },
      "execution_count": 82,
      "outputs": [
        {
          "output_type": "stream",
          "name": "stdout",
          "text": [
            "***DOWNSAMPLED MODEL***\n"
          ]
        },
        {
          "output_type": "display_data",
          "data": {
            "text/plain": [
              "<Figure size 432x288 with 1 Axes>"
            ],
            "image/png": "[encoded data removed]"
          },
          "metadata": {}
        }
      ]
    },
    {
      "cell_type": "code",
      "source": [
        "from sklearn.metrics import classification_report\n",
        "\n",
        "print(classification_report(y_test, y_pred))"
      ],
      "metadata": {
        "colab": {
          "base_uri": "https://localhost:8080/"
        },
        "id": "F2uPFnYbQUyz",
        "outputId": "ce9c264c-637c-4591-d5eb-581d5d9652db"
      },
      "execution_count": 83,
      "outputs": [
        {
          "output_type": "stream",
          "name": "stdout",
          "text": [
            "              precision    recall  f1-score   support\n",
            "\n",
            "           0       0.77      0.85      0.81       598\n",
            "           1       0.62      0.50      0.55       302\n",
            "\n",
            "    accuracy                           0.73       900\n",
            "   macro avg       0.70      0.67      0.68       900\n",
            "weighted avg       0.72      0.73      0.72       900\n",
            "\n"
          ]
        }
      ]
    },
    {
      "cell_type": "code",
      "source": [
        "adaboost = AdaBoostClassifier(n_estimators=1000, learning_rate=0.01)\n",
        "\n",
        "adaboost.fit(X_train,y_train)\n",
        "\n",
        "y_probs = adaboost.predict_proba(X_test) #predict_proba gives the probabilities for the target (0 and 1 in your case) \n",
        "\n",
        "fpr, tpr, thresholds=metrics.roc_curve(y_test,  y_probs[:,1])\n",
        "\n",
        "import matplotlib.pyplot as plt\n",
        "plt.plot(fpr, tpr, label='ROC')\n",
        "plt.plot([0, 1], [0, 1], color='darkblue', linestyle='--')\n",
        "plt.xlabel('False Positive Rate')\n",
        "plt.ylabel('True Positive Rate')\n",
        "plt.title('Receiver Operating Characteristic (ROC) Curve')\n",
        "plt.legend()\n",
        "plt.show()\n",
        "\n",
        "auc = metrics.roc_auc_score(y_test, y_probs[:,1])\n",
        "print('AUC: %.2f' % auc)"
      ],
      "metadata": {
        "colab": {
          "base_uri": "https://localhost:8080/",
          "height": 316
        },
        "id": "3w9WIkloQZ6V",
        "outputId": "eba1eddd-0878-4473-e033-494b9cf1d54c"
      },
      "execution_count": 84,
      "outputs": [
        {
          "output_type": "display_data",
          "data": {
            "text/plain": [
              "<Figure size 432x288 with 1 Axes>"
            ],
            "image/png": "[encoded data removed]"
          },
          "metadata": {}
        },
        {
          "output_type": "stream",
          "name": "stdout",
          "text": [
            "AUC: 0.79\n"
          ]
        }
      ]
    },
    {
      "cell_type": "markdown",
      "source": [
        "# Logistic Regression"
      ],
      "metadata": {
        "id": "_lkkh4hGQtVS"
      }
    },
    {
      "cell_type": "code",
      "source": [
        "from sklearn.linear_model import LogisticRegression\n",
        "from sklearn.model_selection import GridSearchCV\n",
        "\n",
        "classifier = LogisticRegression()\n",
        "parameters = {\"C\":[1e-2,1e-1,1],\"penalty\":['l2'] , \"max_iter\":[50000,10000]}\n",
        "\n",
        "gs = GridSearchCV(classifier, parameters, cv=3, scoring = 'recall', verbose=50, n_jobs=-1, refit=True)\n",
        "gs_oversampled = GridSearchCV(classifier, parameters, cv=3, scoring = 'recall', verbose=50, n_jobs=-1, refit=True)\n",
        "gs_downsampled = GridSearchCV(classifier, parameters, cv=3, scoring = 'recall', verbose=50, n_jobs=-1, refit=True)"
      ],
      "metadata": {
        "id": "mXChk8ZaQyHY"
      },
      "execution_count": 85,
      "outputs": []
    },
    {
      "cell_type": "code",
      "source": [
        "gs.fit(X_train,y_train)\n",
        "gs_oversampled.fit(X_oversampled_train,y_oversampled_train)\n",
        "gs_downsampled.fit(X_downsampled_train,y_downsampled_train)\n"
      ],
      "metadata": {
        "colab": {
          "base_uri": "https://localhost:8080/"
        },
        "id": "iJOluJWQRHhe",
        "outputId": "b87e073a-b3c0-4b7f-f745-530fde890ac1"
      },
      "execution_count": 86,
      "outputs": [
        {
          "output_type": "stream",
          "name": "stdout",
          "text": [
            "Fitting 3 folds for each of 6 candidates, totalling 18 fits\n",
            "Fitting 3 folds for each of 6 candidates, totalling 18 fits\n",
            "Fitting 3 folds for each of 6 candidates, totalling 18 fits\n"
          ]
        },
        {
          "output_type": "execute_result",
          "data": {
            "text/plain": [
              "GridSearchCV(cv=3, estimator=LogisticRegression(), n_jobs=-1,\n",
              "             param_grid={'C': [0.01, 0.1, 1], 'max_iter': [50000, 10000],\n",
              "                         'penalty': ['l2']},\n",
              "             scoring='recall', verbose=50)"
            ]
          },
          "metadata": {},
          "execution_count": 86
        }
      ]
    },
    {
      "cell_type": "code",
      "source": [
        "#TEST ON YOUR TEST SET \n",
        "\n",
        "# Original model\n",
        "best_model = gs.best_estimator_\n",
        "y_pred = best_model.predict(X_test)\n",
        "\n",
        "y_pred_train = best_model.predict(X_train)\n",
        "\n",
        "# Oversampled model\n",
        "best_model_oversampled = gs_oversampled.best_estimator_\n",
        "y_pred_oversampled = best_model_oversampled.predict(X_test)\n",
        "\n",
        "y_pred_oversampled_train = best_model_oversampled.predict(X_train)\n",
        "\n",
        "# Downsampled model\n",
        "best_model_downsampled = gs_downsampled.best_estimator_\n",
        "y_pred_downsampled = best_model_downsampled.predict(X_test)\n",
        "\n",
        "y_pred_downsampled_train = best_model_downsampled.predict(X_train)"
      ],
      "metadata": {
        "id": "INsFHJXWRuZi"
      },
      "execution_count": 87,
      "outputs": []
    },
    {
      "cell_type": "code",
      "source": [
        "#EVALUATE YOUR PREDICTION\n",
        "from sklearn import metrics\n",
        "\n",
        "print('***RESULTS ORIGINAL MODEL***')\n",
        "print('***RESULTS ON TRAIN SET***')\n",
        "print(\"f1_score: \", metrics.f1_score(y_train, y_pred_train))\n",
        "print(\"--\")\n",
        "print('***RESULTS ON TEST SET***')\n",
        "print(\"f1_score: \", metrics.f1_score(y_test, y_pred))\n",
        "print(\" \")\n",
        "print(\" \")\n",
        "\n",
        "print('***RESULTS OVERSAMPLED MODEL***')\n",
        "print('***RESULTS ON TRAIN SET***')\n",
        "print(\"f1_score: \", metrics.f1_score(y_train, y_pred_oversampled_train))\n",
        "print(\"--\")\n",
        "print('***RESULTS ON TEST SET***')\n",
        "print(\"f1_score: \", metrics.f1_score(y_test, y_pred_oversampled))\n",
        "print(\" \")\n",
        "print(\" \")\n",
        "\n",
        "print('***RESULTS DOWNSAMPLED MODEL***')\n",
        "print('***RESULTS ON TRAIN SET***')\n",
        "print(\"f1_score: \", metrics.f1_score(y_train, y_pred_downsampled_train))\n",
        "print(\"--\")\n",
        "print('***RESULTS ON TEST SET***')\n",
        "print(\"f1_score: \", metrics.f1_score(y_test, y_pred_downsampled))\n"
      ],
      "metadata": {
        "colab": {
          "base_uri": "https://localhost:8080/"
        },
        "id": "Z2AsjQ0SRyJ6",
        "outputId": "4e7d4c55-1691-40c7-920b-42857ab01646"
      },
      "execution_count": 88,
      "outputs": [
        {
          "output_type": "stream",
          "name": "stdout",
          "text": [
            "***RESULTS ORIGINAL MODEL***\n",
            "***RESULTS ON TRAIN SET***\n",
            "f1_score:  0.5622950819672131\n",
            "--\n",
            "***RESULTS ON TEST SET***\n",
            "f1_score:  0.5371428571428571\n",
            " \n",
            " \n",
            "***RESULTS OVERSAMPLED MODEL***\n",
            "***RESULTS ON TRAIN SET***\n",
            "f1_score:  0.6425061425061426\n",
            "--\n",
            "***RESULTS ON TEST SET***\n",
            "f1_score:  0.6075949367088609\n",
            " \n",
            " \n",
            "***RESULTS DOWNSAMPLED MODEL***\n",
            "***RESULTS ON TRAIN SET***\n",
            "f1_score:  0.6474908200734395\n",
            "--\n",
            "***RESULTS ON TEST SET***\n",
            "f1_score:  0.6201117318435754\n"
          ]
        }
      ]
    },
    {
      "cell_type": "code",
      "source": [
        "# Plot confusion matrix\n",
        "from sklearn.metrics import confusion_matrix\n",
        "print('***ORIGINAL MODEL***')\n",
        "sns.heatmap(confusion_matrix(y_test, y_pred), annot=True, fmt='d', cmap=\"Reds\", cbar=False);"
      ],
      "metadata": {
        "colab": {
          "base_uri": "https://localhost:8080/",
          "height": 282
        },
        "id": "Xk_IYfSlR1O-",
        "outputId": "cf277bdb-f2c8-452b-df5d-1a0b8075c335"
      },
      "execution_count": 89,
      "outputs": [
        {
          "output_type": "stream",
          "name": "stdout",
          "text": [
            "***ORIGINAL MODEL***\n"
          ]
        },
        {
          "output_type": "display_data",
          "data": {
            "text/plain": [
              "<Figure size 432x288 with 1 Axes>"
            ],
            "image/png": "[encoded data removed]"
          },
          "metadata": {}
        }
      ]
    },
    {
      "cell_type": "code",
      "source": [
        "print('***OVERSAMPLED MODEL***')\n",
        "sns.heatmap(confusion_matrix(y_test, y_pred_oversampled), annot=True, fmt='d', cmap=\"Reds\", cbar=False);"
      ],
      "metadata": {
        "colab": {
          "base_uri": "https://localhost:8080/",
          "height": 282
        },
        "id": "WTRm_TySR4iw",
        "outputId": "0f02047d-ab6d-4c7a-a7cb-c087c609305d"
      },
      "execution_count": 90,
      "outputs": [
        {
          "output_type": "stream",
          "name": "stdout",
          "text": [
            "***OVERSAMPLED MODEL***\n"
          ]
        },
        {
          "output_type": "display_data",
          "data": {
            "text/plain": [
              "<Figure size 432x288 with 1 Axes>"
            ],
            "image/png": "[encoded data removed]"
          },
          "metadata": {}
        }
      ]
    },
    {
      "cell_type": "code",
      "source": [
        "print('***DOWNSAMPLED MODEL***')\n",
        "sns.heatmap(confusion_matrix(y_test, y_pred_downsampled), annot=True, fmt='d', cmap=\"Reds\", cbar=False);"
      ],
      "metadata": {
        "colab": {
          "base_uri": "https://localhost:8080/",
          "height": 282
        },
        "id": "tpQg_eiwR7yU",
        "outputId": "fdf164d5-1f01-4c85-fe99-49a1dd998de8"
      },
      "execution_count": 91,
      "outputs": [
        {
          "output_type": "stream",
          "name": "stdout",
          "text": [
            "***DOWNSAMPLED MODEL***\n"
          ]
        },
        {
          "output_type": "display_data",
          "data": {
            "text/plain": [
              "<Figure size 432x288 with 1 Axes>"
            ],
            "image/png": "[encoded data removed]"
          },
          "metadata": {}
        }
      ]
    },
    {
      "cell_type": "markdown",
      "source": [
        "#SVM"
      ],
      "metadata": {
        "id": "WERj0ZiIT0g2"
      }
    },
    {
      "cell_type": "code",
      "source": [
        "from sklearn.svm import SVC\n",
        "from sklearn.model_selection import GridSearchCV\n",
        "\n",
        "#{'C': 10, 'degree': 2, 'gamma': 1, 'kernel': 'rbf'}\n",
        "\n",
        "classifier = SVC()\n",
        "parameters = {\"kernel\":['linear','rbf','polinomial'], \"C\":[0.1,1,10],\"gamma\":[1], \"degree\":[2,3,4]}\n",
        "\n",
        "gs = GridSearchCV(classifier, parameters, cv=3, scoring = 'f1', verbose=50, n_jobs=-1, refit=True)\n",
        "gs_oversampled = GridSearchCV(classifier, parameters, cv=3, scoring = 'f1', verbose=50, n_jobs=-1, refit=True)\n",
        "gs_downsampled = GridSearchCV(classifier, parameters, cv=3, scoring = 'f1', verbose=50, n_jobs=-1, refit=True)\n"
      ],
      "metadata": {
        "id": "6U7hPuxuVAiT"
      },
      "execution_count": 153,
      "outputs": []
    },
    {
      "cell_type": "code",
      "source": [
        "gs.fit(X_train,y_train)\n",
        "gs_oversampled.fit(X_oversampled_train,y_oversampled_train)\n",
        "gs_downsampled.fit(X_downsampled_train,y_downsampled_train)"
      ],
      "metadata": {
        "colab": {
          "base_uri": "https://localhost:8080/"
        },
        "id": "e_FyUZIeVY3d",
        "outputId": "5f5cc842-d362-4b8e-99a2-128cff970740"
      },
      "execution_count": 154,
      "outputs": [
        {
          "output_type": "stream",
          "name": "stdout",
          "text": [
            "Fitting 3 folds for each of 27 candidates, totalling 81 fits\n"
          ]
        },
        {
          "output_type": "stream",
          "name": "stderr",
          "text": [
            "/usr/local/lib/python3.8/dist-packages/sklearn/model_selection/_validation.py:372: FitFailedWarning: \n",
            "27 fits failed out of a total of 81.\n",
            "The score on these train-test partitions for these parameters will be set to nan.\n",
            "If these failures are not expected, you can try to debug them by setting error_score='raise'.\n",
            "\n",
            "Below are more details about the failures:\n",
            "--------------------------------------------------------------------------------\n",
            "27 fits failed with the following error:\n",
            "Traceback (most recent call last):\n",
            "  File \"/usr/local/lib/python3.8/dist-packages/sklearn/model_selection/_validation.py\", line 680, in _fit_and_score\n",
            "    estimator.fit(X_train, y_train, **fit_params)\n",
            "  File \"/usr/local/lib/python3.8/dist-packages/sklearn/svm/_base.py\", line 255, in fit\n",
            "    fit(X, y, sample_weight, solver_type, kernel, random_seed=seed)\n",
            "  File \"/usr/local/lib/python3.8/dist-packages/sklearn/svm/_base.py\", line 315, in _dense_fit\n",
            "    ) = libsvm.fit(\n",
            "  File \"sklearn/svm/_libsvm.pyx\", line 173, in sklearn.svm._libsvm.fit\n",
            "ValueError: 'polinomial' is not in list\n",
            "\n",
            "  warnings.warn(some_fits_failed_message, FitFailedWarning)\n",
            "/usr/local/lib/python3.8/dist-packages/sklearn/model_selection/_search.py:969: UserWarning: One or more of the test scores are non-finite: [0.51843773 0.                nan 0.51843773 0.                nan\n",
            " 0.51843773 0.                nan 0.54464726 0.38809748        nan\n",
            " 0.54464726 0.38809748        nan 0.54464726 0.38809748        nan\n",
            " 0.5598556  0.4753785         nan 0.5598556  0.4753785         nan\n",
            " 0.5598556  0.4753785         nan]\n",
            "  warnings.warn(\n"
          ]
        },
        {
          "output_type": "stream",
          "name": "stdout",
          "text": [
            "Fitting 3 folds for each of 27 candidates, totalling 81 fits\n"
          ]
        },
        {
          "output_type": "stream",
          "name": "stderr",
          "text": [
            "/usr/local/lib/python3.8/dist-packages/sklearn/model_selection/_validation.py:372: FitFailedWarning: \n",
            "27 fits failed out of a total of 81.\n",
            "The score on these train-test partitions for these parameters will be set to nan.\n",
            "If these failures are not expected, you can try to debug them by setting error_score='raise'.\n",
            "\n",
            "Below are more details about the failures:\n",
            "--------------------------------------------------------------------------------\n",
            "27 fits failed with the following error:\n",
            "Traceback (most recent call last):\n",
            "  File \"/usr/local/lib/python3.8/dist-packages/sklearn/model_selection/_validation.py\", line 680, in _fit_and_score\n",
            "    estimator.fit(X_train, y_train, **fit_params)\n",
            "  File \"/usr/local/lib/python3.8/dist-packages/sklearn/svm/_base.py\", line 255, in fit\n",
            "    fit(X, y, sample_weight, solver_type, kernel, random_seed=seed)\n",
            "  File \"/usr/local/lib/python3.8/dist-packages/sklearn/svm/_base.py\", line 315, in _dense_fit\n",
            "    ) = libsvm.fit(\n",
            "  File \"sklearn/svm/_libsvm.pyx\", line 173, in sklearn.svm._libsvm.fit\n",
            "ValueError: 'polinomial' is not in list\n",
            "\n",
            "  warnings.warn(some_fits_failed_message, FitFailedWarning)\n",
            "/usr/local/lib/python3.8/dist-packages/sklearn/model_selection/_search.py:969: UserWarning: One or more of the test scores are non-finite: [0.72994745 0.7304261         nan 0.72994745 0.7304261         nan\n",
            " 0.72994745 0.7304261         nan 0.73169014 0.76181018        nan\n",
            " 0.73169014 0.76181018        nan 0.73169014 0.76181018        nan\n",
            " 0.73309203 0.77445909        nan 0.73309203 0.77445909        nan\n",
            " 0.73309203 0.77445909        nan]\n",
            "  warnings.warn(\n"
          ]
        },
        {
          "output_type": "stream",
          "name": "stdout",
          "text": [
            "Fitting 3 folds for each of 27 candidates, totalling 81 fits\n"
          ]
        },
        {
          "output_type": "stream",
          "name": "stderr",
          "text": [
            "/usr/local/lib/python3.8/dist-packages/sklearn/model_selection/_validation.py:372: FitFailedWarning: \n",
            "27 fits failed out of a total of 81.\n",
            "The score on these train-test partitions for these parameters will be set to nan.\n",
            "If these failures are not expected, you can try to debug them by setting error_score='raise'.\n",
            "\n",
            "Below are more details about the failures:\n",
            "--------------------------------------------------------------------------------\n",
            "27 fits failed with the following error:\n",
            "Traceback (most recent call last):\n",
            "  File \"/usr/local/lib/python3.8/dist-packages/sklearn/model_selection/_validation.py\", line 680, in _fit_and_score\n",
            "    estimator.fit(X_train, y_train, **fit_params)\n",
            "  File \"/usr/local/lib/python3.8/dist-packages/sklearn/svm/_base.py\", line 255, in fit\n",
            "    fit(X, y, sample_weight, solver_type, kernel, random_seed=seed)\n",
            "  File \"/usr/local/lib/python3.8/dist-packages/sklearn/svm/_base.py\", line 315, in _dense_fit\n",
            "    ) = libsvm.fit(\n",
            "  File \"sklearn/svm/_libsvm.pyx\", line 173, in sklearn.svm._libsvm.fit\n",
            "ValueError: 'polinomial' is not in list\n",
            "\n",
            "  warnings.warn(some_fits_failed_message, FitFailedWarning)\n",
            "/usr/local/lib/python3.8/dist-packages/sklearn/model_selection/_search.py:969: UserWarning: One or more of the test scores are non-finite: [0.73391598 0.73507632        nan 0.73391598 0.73507632        nan\n",
            " 0.73391598 0.73507632        nan 0.73932045 0.69993403        nan\n",
            " 0.73932045 0.69993403        nan 0.73932045 0.69993403        nan\n",
            " 0.74188241 0.68421524        nan 0.74188241 0.68421524        nan\n",
            " 0.74188241 0.68421524        nan]\n",
            "  warnings.warn(\n"
          ]
        },
        {
          "output_type": "execute_result",
          "data": {
            "text/plain": [
              "GridSearchCV(cv=3, estimator=SVC(), n_jobs=-1,\n",
              "             param_grid={'C': [0.1, 1, 10], 'degree': [2, 3, 4], 'gamma': [1],\n",
              "                         'kernel': ['linear', 'rbf', 'polinomial']},\n",
              "             scoring='f1', verbose=50)"
            ]
          },
          "metadata": {},
          "execution_count": 154
        }
      ]
    },
    {
      "cell_type": "code",
      "source": [
        "#summarize the results of your GRIDSEARCH\n",
        "print('***GRIDSEARCH RESULTS***')\n",
        "\n",
        "print(\"Best score: %f using %s\" % (gs_oversampled.best_score_, gs_oversampled.best_params_))\n",
        "means = gs_oversampled.cv_results_['mean_test_score']\n",
        "stds = gs_oversampled.cv_results_['std_test_score']\n",
        "params = gs_oversampled.cv_results_['params']\n",
        "\n",
        "for mean, stdev, param in zip(means, stds, params):\n",
        "    print(\"%f (%f) with: %r\" % (mean, stdev, param))"
      ],
      "metadata": {
        "colab": {
          "base_uri": "https://localhost:8080/"
        },
        "id": "UYhTjEWzmFxS",
        "outputId": "ceac141e-7bed-4c40-b221-12a845cd0ea9"
      },
      "execution_count": 155,
      "outputs": [
        {
          "output_type": "stream",
          "name": "stdout",
          "text": [
            "***GRIDSEARCH RESULTS***\n",
            "Best score: 0.774459 using {'C': 10, 'degree': 2, 'gamma': 1, 'kernel': 'rbf'}\n",
            "0.729947 (0.014456) with: {'C': 0.1, 'degree': 2, 'gamma': 1, 'kernel': 'linear'}\n",
            "0.730426 (0.002987) with: {'C': 0.1, 'degree': 2, 'gamma': 1, 'kernel': 'rbf'}\n",
            "nan (nan) with: {'C': 0.1, 'degree': 2, 'gamma': 1, 'kernel': 'polinomial'}\n",
            "0.729947 (0.014456) with: {'C': 0.1, 'degree': 3, 'gamma': 1, 'kernel': 'linear'}\n",
            "0.730426 (0.002987) with: {'C': 0.1, 'degree': 3, 'gamma': 1, 'kernel': 'rbf'}\n",
            "nan (nan) with: {'C': 0.1, 'degree': 3, 'gamma': 1, 'kernel': 'polinomial'}\n",
            "0.729947 (0.014456) with: {'C': 0.1, 'degree': 4, 'gamma': 1, 'kernel': 'linear'}\n",
            "0.730426 (0.002987) with: {'C': 0.1, 'degree': 4, 'gamma': 1, 'kernel': 'rbf'}\n",
            "nan (nan) with: {'C': 0.1, 'degree': 4, 'gamma': 1, 'kernel': 'polinomial'}\n",
            "0.731690 (0.012268) with: {'C': 1, 'degree': 2, 'gamma': 1, 'kernel': 'linear'}\n",
            "0.761810 (0.011935) with: {'C': 1, 'degree': 2, 'gamma': 1, 'kernel': 'rbf'}\n",
            "nan (nan) with: {'C': 1, 'degree': 2, 'gamma': 1, 'kernel': 'polinomial'}\n",
            "0.731690 (0.012268) with: {'C': 1, 'degree': 3, 'gamma': 1, 'kernel': 'linear'}\n",
            "0.761810 (0.011935) with: {'C': 1, 'degree': 3, 'gamma': 1, 'kernel': 'rbf'}\n",
            "nan (nan) with: {'C': 1, 'degree': 3, 'gamma': 1, 'kernel': 'polinomial'}\n",
            "0.731690 (0.012268) with: {'C': 1, 'degree': 4, 'gamma': 1, 'kernel': 'linear'}\n",
            "0.761810 (0.011935) with: {'C': 1, 'degree': 4, 'gamma': 1, 'kernel': 'rbf'}\n",
            "nan (nan) with: {'C': 1, 'degree': 4, 'gamma': 1, 'kernel': 'polinomial'}\n",
            "0.733092 (0.011413) with: {'C': 10, 'degree': 2, 'gamma': 1, 'kernel': 'linear'}\n",
            "0.774459 (0.011754) with: {'C': 10, 'degree': 2, 'gamma': 1, 'kernel': 'rbf'}\n",
            "nan (nan) with: {'C': 10, 'degree': 2, 'gamma': 1, 'kernel': 'polinomial'}\n",
            "0.733092 (0.011413) with: {'C': 10, 'degree': 3, 'gamma': 1, 'kernel': 'linear'}\n",
            "0.774459 (0.011754) with: {'C': 10, 'degree': 3, 'gamma': 1, 'kernel': 'rbf'}\n",
            "nan (nan) with: {'C': 10, 'degree': 3, 'gamma': 1, 'kernel': 'polinomial'}\n",
            "0.733092 (0.011413) with: {'C': 10, 'degree': 4, 'gamma': 1, 'kernel': 'linear'}\n",
            "0.774459 (0.011754) with: {'C': 10, 'degree': 4, 'gamma': 1, 'kernel': 'rbf'}\n",
            "nan (nan) with: {'C': 10, 'degree': 4, 'gamma': 1, 'kernel': 'polinomial'}\n"
          ]
        }
      ]
    },
    {
      "cell_type": "code",
      "source": [
        "#TEST ON YOUR TEST SET \n",
        "\n",
        "# Original model\n",
        "best_model = gs.best_estimator_\n",
        "y_pred = best_model.predict(X_test)\n",
        "\n",
        "y_pred_train = best_model.predict(X_train)\n",
        "\n",
        "# Oversampled model\n",
        "best_model_oversampled = gs_oversampled.best_estimator_\n",
        "y_pred_oversampled = best_model_oversampled.predict(X_test)\n",
        "y_pred_oversampled2 = best_model_oversampled.predict(X_oversampled_test)\n",
        "\n",
        "y_pred_oversampled_train = best_model_oversampled.predict(X_train)\n",
        "\n",
        "# Downsampled model\n",
        "best_model_downsampled = gs_downsampled.best_estimator_\n",
        "y_pred_downsampled = best_model_downsampled.predict(X_test)\n",
        "\n",
        "y_pred_downsampled_train = best_model_downsampled.predict(X_train)"
      ],
      "metadata": {
        "id": "bS9c6hCAVb5a"
      },
      "execution_count": 156,
      "outputs": []
    },
    {
      "cell_type": "code",
      "source": [
        "#EVALUATE YOUR PREDICTION\n",
        "from sklearn import metrics\n",
        "\n",
        "print('***RESULTS ORIGINAL MODEL***')\n",
        "print('***RESULTS ON TRAIN SET***')\n",
        "print(\"f1_score: \", metrics.f1_score(y_train, y_pred_train))\n",
        "print(\"--\")\n",
        "print('***RESULTS ON TEST SET***')\n",
        "print(\"f1_score: \", metrics.f1_score(y_test, y_pred))\n",
        "print(\" \")\n",
        "print(\" \")\n",
        "\n",
        "print('***RESULTS OVERSAMPLED MODEL***')\n",
        "print('***RESULTS ON TRAIN SET***')\n",
        "print(\"f1_score: \", metrics.f1_score(y_train, y_pred_oversampled_train))\n",
        "print(\"--\")\n",
        "print('***RESULTS ON TEST SET***')\n",
        "print(\"f1_score: \", metrics.f1_score(y_test, y_pred_oversampled))\n",
        "print(\"f1_score_oversampled: \", metrics.f1_score(y_oversampled_test, y_pred_oversampled2))\n",
        "print(\" \")\n",
        "print(\" \")\n",
        "\n",
        "print('***RESULTS DOWNSAMPLED MODEL***')\n",
        "print('***RESULTS ON TRAIN SET***')\n",
        "print(\"f1_score: \", metrics.f1_score(y_train, y_pred_downsampled_train))\n",
        "print(\"--\")\n",
        "print('***RESULTS ON TEST SET***')\n",
        "print(\"f1_score: \", metrics.f1_score(y_test, y_pred_downsampled))\n"
      ],
      "metadata": {
        "colab": {
          "base_uri": "https://localhost:8080/"
        },
        "id": "cCtxoE7IVe5z",
        "outputId": "6e76047b-871f-4a03-e25b-9d646a266db4"
      },
      "execution_count": 157,
      "outputs": [
        {
          "output_type": "stream",
          "name": "stdout",
          "text": [
            "***RESULTS ORIGINAL MODEL***\n",
            "***RESULTS ON TRAIN SET***\n",
            "f1_score:  0.5590277777777777\n",
            "--\n",
            "***RESULTS ON TEST SET***\n",
            "f1_score:  0.5271629778672032\n",
            " \n",
            " \n",
            "***RESULTS OVERSAMPLED MODEL***\n",
            "***RESULTS ON TRAIN SET***\n",
            "f1_score:  0.9278663629460897\n",
            "--\n",
            "***RESULTS ON TEST SET***\n",
            "f1_score:  0.7485207100591715\n",
            "f1_score_oversampled:  0.8164609053497942\n",
            " \n",
            " \n",
            "***RESULTS DOWNSAMPLED MODEL***\n",
            "***RESULTS ON TRAIN SET***\n",
            "f1_score:  0.6558516801853997\n",
            "--\n",
            "***RESULTS ON TEST SET***\n",
            "f1_score:  0.6295793758480326\n"
          ]
        }
      ]
    },
    {
      "cell_type": "code",
      "source": [
        "from sklearn.metrics import classification_report\n",
        "\n",
        "\n",
        "print('***RESULTS ORIGINAL MODEL***')\n",
        "print(classification_report(y_test, y_pred))\n",
        "print(\" \")\n",
        "print(\" \")\n",
        "\n",
        "print('***RESULTS OVERSAMPLED MODEL***')\n",
        "print(classification_report(y_test, y_pred_oversampled))\n",
        "print(\" \")\n",
        "print(\" \")\n",
        "\n",
        "print('***RESULTS DOWNSAMPLED MODEL***')\n",
        "print(classification_report(y_test, y_pred_downsampled))\n",
        "print(\" \")\n",
        "print(\" \")"
      ],
      "metadata": {
        "colab": {
          "base_uri": "https://localhost:8080/"
        },
        "id": "8qqwlR_eaQTx",
        "outputId": "be44a054-3304-4d70-edf0-fa94f71272ce"
      },
      "execution_count": 158,
      "outputs": [
        {
          "output_type": "stream",
          "name": "stdout",
          "text": [
            "***RESULTS ORIGINAL MODEL***\n",
            "              precision    recall  f1-score   support\n",
            "\n",
            "           0       0.76      0.89      0.82       598\n",
            "           1       0.67      0.43      0.53       302\n",
            "\n",
            "    accuracy                           0.74       900\n",
            "   macro avg       0.71      0.66      0.67       900\n",
            "weighted avg       0.73      0.74      0.72       900\n",
            "\n",
            " \n",
            " \n",
            "***RESULTS OVERSAMPLED MODEL***\n",
            "              precision    recall  f1-score   support\n",
            "\n",
            "           0       0.91      0.80      0.85       598\n",
            "           1       0.68      0.84      0.75       302\n",
            "\n",
            "    accuracy                           0.81       900\n",
            "   macro avg       0.79      0.82      0.80       900\n",
            "weighted avg       0.83      0.81      0.82       900\n",
            "\n",
            " \n",
            " \n",
            "***RESULTS DOWNSAMPLED MODEL***\n",
            "              precision    recall  f1-score   support\n",
            "\n",
            "           0       0.85      0.66      0.74       598\n",
            "           1       0.53      0.77      0.63       302\n",
            "\n",
            "    accuracy                           0.70       900\n",
            "   macro avg       0.69      0.71      0.69       900\n",
            "weighted avg       0.74      0.70      0.71       900\n",
            "\n",
            " \n",
            " \n"
          ]
        }
      ]
    },
    {
      "cell_type": "code",
      "source": [
        "# Plot confusion matrix\n",
        "from sklearn.metrics import confusion_matrix\n",
        "print('***ORIGINAL MODEL***')\n",
        "sns.heatmap(confusion_matrix(y_test, y_pred), annot=True, fmt='d', cmap=\"Reds\", cbar=False);"
      ],
      "metadata": {
        "colab": {
          "base_uri": "https://localhost:8080/",
          "height": 282
        },
        "id": "EAYRfm8_VksW",
        "outputId": "d511664d-0a40-45a0-84ea-39d89cfe4afd"
      },
      "execution_count": 159,
      "outputs": [
        {
          "output_type": "stream",
          "name": "stdout",
          "text": [
            "***ORIGINAL MODEL***\n"
          ]
        },
        {
          "output_type": "display_data",
          "data": {
            "text/plain": [
              "<Figure size 432x288 with 1 Axes>"
            ],
            "image/png": "[encoded data removed]"
          },
          "metadata": {}
        }
      ]
    },
    {
      "cell_type": "code",
      "source": [
        "print('***OVERSAMPLED MODEL***')\n",
        "sns.heatmap(confusion_matrix(y_test, y_pred_oversampled), annot=True, fmt='d', cmap=\"Reds\", cbar=False);"
      ],
      "metadata": {
        "colab": {
          "base_uri": "https://localhost:8080/",
          "height": 282
        },
        "id": "UntuPXWoVm__",
        "outputId": "beb019be-ed5f-4734-cfa5-88faf48e4330"
      },
      "execution_count": 160,
      "outputs": [
        {
          "output_type": "stream",
          "name": "stdout",
          "text": [
            "***OVERSAMPLED MODEL***\n"
          ]
        },
        {
          "output_type": "display_data",
          "data": {
            "text/plain": [
              "<Figure size 432x288 with 1 Axes>"
            ],
            "image/png": "[encoded data removed]"
          },
          "metadata": {}
        }
      ]
    },
    {
      "cell_type": "code",
      "source": [
        "print('***DOWNSAMPLED MODEL***')\n",
        "sns.heatmap(confusion_matrix(y_test, y_pred_downsampled), annot=True, fmt='d', cmap=\"Reds\", cbar=False);"
      ],
      "metadata": {
        "colab": {
          "base_uri": "https://localhost:8080/",
          "height": 282
        },
        "id": "sFU-pnVgVpDf",
        "outputId": "a71e1122-b4e3-4819-a6af-0c2d67e73f6f"
      },
      "execution_count": 161,
      "outputs": [
        {
          "output_type": "stream",
          "name": "stdout",
          "text": [
            "***DOWNSAMPLED MODEL***\n"
          ]
        },
        {
          "output_type": "display_data",
          "data": {
            "text/plain": [
              "<Figure size 432x288 with 1 Axes>"
            ],
            "image/png": "[encoded data removed]"
          },
          "metadata": {}
        }
      ]
    },
    {
      "cell_type": "code",
      "source": [
        "from sklearn import metrics\n",
        "#{'C': 10, 'degree': 2, 'gamma': 1, 'kernel': 'rbf'}\n",
        "model = SVC(C=10, gamma= 1, kernel='rbf', degree = 2,probability=True)\n",
        "\n",
        "model.fit(X_oversampled_train, y_oversampled_train)\n",
        "y_pred = model.predict(X_test)\n",
        "\n",
        "y_probs = model.predict_proba(X_test) #predict_proba gives the probabilities for the target (0 and 1 in your case) \n",
        "\n",
        "fpr, tpr, thresholds=metrics.roc_curve(y_test,  y_probs[:,1])\n",
        "\n",
        "import matplotlib.pyplot as plt\n",
        "plt.plot(fpr, tpr, label='ROC')\n",
        "plt.plot([0, 1], [0, 1], color='darkblue', linestyle='--')\n",
        "plt.xlabel('False Positive Rate')\n",
        "plt.ylabel('True Positive Rate')\n",
        "plt.title('Receiver Operating Characteristic (ROC) Curve')\n",
        "plt.legend()\n",
        "plt.show()\n",
        "\n",
        "auc = metrics.roc_auc_score(y_test, y_probs[:,1])\n",
        "print('AUC: %.2f' % auc)"
      ],
      "metadata": {
        "colab": {
          "base_uri": "https://localhost:8080/",
          "height": 316
        },
        "id": "FpGz5dw1fWAf",
        "outputId": "a73e4f47-20ae-4a59-b13e-74035c6b8ef5"
      },
      "execution_count": 162,
      "outputs": [
        {
          "output_type": "display_data",
          "data": {
            "text/plain": [
              "<Figure size 432x288 with 1 Axes>"
            ],
            "image/png": "[encoded data removed]"
          },
          "metadata": {}
        },
        {
          "output_type": "stream",
          "name": "stdout",
          "text": [
            "AUC: 0.92\n"
          ]
        }
      ]
    },
    {
      "cell_type": "markdown",
      "source": [
        "# Multi-layer Perceptron Classifier"
      ],
      "metadata": {
        "id": "2AiZ7WYPbnjF"
      }
    },
    {
      "cell_type": "code",
      "source": [
        "from sklearn.model_selection import GridSearchCV\n",
        "from sklearn.neural_network import MLPClassifier\n",
        "\n",
        "classifier = MLPClassifier()\n",
        "parameters = {\"hidden_layer_sizes\":[(20,5),(6,2), (25)],  \"max_iter\": [1000, 5000, 100000], \"alpha\": [0.001, 0.01]}\n",
        "\n",
        "gs = GridSearchCV(classifier, parameters, cv=3, scoring = 'f1', verbose=50, n_jobs=-1, refit=True)\n",
        "gs_oversampled = GridSearchCV(classifier, parameters, cv=3, scoring = 'f1', verbose=50, n_jobs=-1, refit=True)\n",
        "gs_downsampled = GridSearchCV(classifier, parameters, cv=3, scoring = 'f1', verbose=50, n_jobs=-1, refit=True)\n",
        "\n"
      ],
      "metadata": {
        "id": "rdb8nZXWbfZn"
      },
      "execution_count": 102,
      "outputs": []
    },
    {
      "cell_type": "code",
      "source": [
        "gs.fit(X_train,y_train)\n",
        "gs_oversampled.fit(X_oversampled_train,y_oversampled_train)\n",
        "gs_downsampled.fit(X_downsampled_train,y_downsampled_train)"
      ],
      "metadata": {
        "colab": {
          "base_uri": "https://localhost:8080/"
        },
        "id": "rJT9ii3acsa1",
        "outputId": "1bc7bc2a-d0f5-46d6-ef00-ace9c21e44f3"
      },
      "execution_count": 103,
      "outputs": [
        {
          "output_type": "stream",
          "name": "stdout",
          "text": [
            "Fitting 3 folds for each of 18 candidates, totalling 54 fits\n",
            "Fitting 3 folds for each of 18 candidates, totalling 54 fits\n",
            "Fitting 3 folds for each of 18 candidates, totalling 54 fits\n"
          ]
        },
        {
          "output_type": "execute_result",
          "data": {
            "text/plain": [
              "GridSearchCV(cv=3, estimator=MLPClassifier(), n_jobs=-1,\n",
              "             param_grid={'alpha': [0.001, 0.01],\n",
              "                         'hidden_layer_sizes': [(20, 5), (6, 2), 25],\n",
              "                         'max_iter': [1000, 5000, 100000]},\n",
              "             scoring='f1', verbose=50)"
            ]
          },
          "metadata": {},
          "execution_count": 103
        }
      ]
    },
    {
      "cell_type": "code",
      "source": [
        "#TEST ON YOUR TEST SET \n",
        "\n",
        "# Original model\n",
        "best_model = gs.best_estimator_\n",
        "y_pred = best_model.predict(X_test)\n",
        "\n",
        "y_pred_train = best_model.predict(X_train)\n",
        "\n",
        "# Oversampled model\n",
        "best_model_oversampled = gs_oversampled.best_estimator_\n",
        "y_pred_oversampled = best_model_oversampled.predict(X_test)\n",
        "\n",
        "y_pred_oversampled_train = best_model_oversampled.predict(X_train)\n",
        "\n",
        "# Downsampled model\n",
        "best_model_downsampled = gs_downsampled.best_estimator_\n",
        "y_pred_downsampled = best_model_downsampled.predict(X_test)\n",
        "\n",
        "y_pred_downsampled_train = best_model_downsampled.predict(X_train)"
      ],
      "metadata": {
        "id": "riFuQGVScs_R"
      },
      "execution_count": 104,
      "outputs": []
    },
    {
      "cell_type": "code",
      "source": [
        "#EVALUATE YOUR PREDICTION\n",
        "from sklearn import metrics\n",
        "\n",
        "print('***RESULTS ORIGINAL MODEL***')\n",
        "print('***RESULTS ON TRAIN SET***')\n",
        "print(\"f1_score: \", metrics.f1_score(y_train, y_pred_train))\n",
        "print(\"--\")\n",
        "print('***RESULTS ON TEST SET***')\n",
        "print(\"f1_score: \", metrics.f1_score(y_test, y_pred))\n",
        "print(\" \")\n",
        "print(\" \")\n",
        "\n",
        "print('***RESULTS OVERSAMPLED MODEL***')\n",
        "print('***RESULTS ON TRAIN SET***')\n",
        "print(\"f1_score: \", metrics.f1_score(y_train, y_pred_oversampled_train))\n",
        "print(\"--\")\n",
        "print('***RESULTS ON TEST SET***')\n",
        "print(\"f1_score: \", metrics.f1_score(y_test, y_pred_oversampled))\n",
        "print(\" \")\n",
        "print(\" \")\n",
        "\n",
        "print('***RESULTS DOWNSAMPLED MODEL***')\n",
        "print('***RESULTS ON TRAIN SET***')\n",
        "print(\"f1_score: \", metrics.f1_score(y_train, y_pred_downsampled_train))\n",
        "print(\"--\")\n",
        "print('***RESULTS ON TEST SET***')\n",
        "print(\"f1_score: \", metrics.f1_score(y_test, y_pred_downsampled))"
      ],
      "metadata": {
        "colab": {
          "base_uri": "https://localhost:8080/"
        },
        "id": "kE893Pvocwld",
        "outputId": "68bc7da8-92cd-4676-dfc3-780658eb781e"
      },
      "execution_count": 105,
      "outputs": [
        {
          "output_type": "stream",
          "name": "stdout",
          "text": [
            "***RESULTS ORIGINAL MODEL***\n",
            "***RESULTS ON TRAIN SET***\n",
            "f1_score:  0.6558641975308642\n",
            "--\n",
            "***RESULTS ON TEST SET***\n",
            "f1_score:  0.5418181818181819\n",
            " \n",
            " \n",
            "***RESULTS OVERSAMPLED MODEL***\n",
            "***RESULTS ON TRAIN SET***\n",
            "f1_score:  0.6891891891891891\n",
            "--\n",
            "***RESULTS ON TEST SET***\n",
            "f1_score:  0.6199158485273492\n",
            " \n",
            " \n",
            "***RESULTS DOWNSAMPLED MODEL***\n",
            "***RESULTS ON TRAIN SET***\n",
            "f1_score:  0.6562318840579711\n",
            "--\n",
            "***RESULTS ON TEST SET***\n",
            "f1_score:  0.6367346938775511\n"
          ]
        }
      ]
    },
    {
      "cell_type": "code",
      "source": [
        "from sklearn.metrics import classification_report\n",
        "\n",
        "\n",
        "print('***RESULTS ORIGINAL MODEL***')\n",
        "print(classification_report(y_test, y_pred))\n",
        "print(\" \")\n",
        "print(\" \")\n",
        "\n",
        "print('***RESULTS OVERSAMPLED MODEL***')\n",
        "print(classification_report(y_test, y_pred_oversampled))\n",
        "print(\" \")\n",
        "print(\" \")\n",
        "\n",
        "print('***RESULTS DOWNSAMPLED MODEL***')\n",
        "print(classification_report(y_test, y_pred_downsampled))\n",
        "print(\" \")\n",
        "print(\" \")"
      ],
      "metadata": {
        "colab": {
          "base_uri": "https://localhost:8080/"
        },
        "id": "PXEokbh3c0KF",
        "outputId": "77720730-f047-461e-fc57-ed0c97e18ecc"
      },
      "execution_count": 106,
      "outputs": [
        {
          "output_type": "stream",
          "name": "stdout",
          "text": [
            "***RESULTS ORIGINAL MODEL***\n",
            "              precision    recall  f1-score   support\n",
            "\n",
            "           0       0.77      0.83      0.80       598\n",
            "           1       0.60      0.49      0.54       302\n",
            "\n",
            "    accuracy                           0.72       900\n",
            "   macro avg       0.68      0.66      0.67       900\n",
            "weighted avg       0.71      0.72      0.71       900\n",
            "\n",
            " \n",
            " \n",
            "***RESULTS OVERSAMPLED MODEL***\n",
            "              precision    recall  f1-score   support\n",
            "\n",
            "           0       0.83      0.68      0.75       598\n",
            "           1       0.54      0.73      0.62       302\n",
            "\n",
            "    accuracy                           0.70       900\n",
            "   macro avg       0.69      0.71      0.69       900\n",
            "weighted avg       0.73      0.70      0.71       900\n",
            "\n",
            " \n",
            " \n",
            "***RESULTS DOWNSAMPLED MODEL***\n",
            "              precision    recall  f1-score   support\n",
            "\n",
            "           0       0.85      0.67      0.75       598\n",
            "           1       0.54      0.77      0.64       302\n",
            "\n",
            "    accuracy                           0.70       900\n",
            "   macro avg       0.70      0.72      0.69       900\n",
            "weighted avg       0.75      0.70      0.71       900\n",
            "\n",
            " \n",
            " \n"
          ]
        }
      ]
    },
    {
      "cell_type": "code",
      "source": [
        "# Plot confusion matrix\n",
        "from sklearn.metrics import confusion_matrix\n",
        "print('***ORIGINAL MODEL***')\n",
        "sns.heatmap(confusion_matrix(y_test, y_pred), annot=True, fmt='d', cmap=\"Reds\", cbar=False);"
      ],
      "metadata": {
        "colab": {
          "base_uri": "https://localhost:8080/",
          "height": 282
        },
        "id": "8WMUZC-xc3G1",
        "outputId": "a91554ac-f4db-438a-a2db-ba56b84a2933"
      },
      "execution_count": 107,
      "outputs": [
        {
          "output_type": "stream",
          "name": "stdout",
          "text": [
            "***ORIGINAL MODEL***\n"
          ]
        },
        {
          "output_type": "display_data",
          "data": {
            "text/plain": [
              "<Figure size 432x288 with 1 Axes>"
            ],
            "image/png": "[encoded data removed]"
          },
          "metadata": {}
        }
      ]
    },
    {
      "cell_type": "code",
      "source": [
        "print('***OVERSAMPLED MODEL***')\n",
        "sns.heatmap(confusion_matrix(y_test, y_pred_oversampled), annot=True, fmt='d', cmap=\"Reds\", cbar=False);"
      ],
      "metadata": {
        "colab": {
          "base_uri": "https://localhost:8080/",
          "height": 282
        },
        "id": "-QisBdSSc6lU",
        "outputId": "d85bc1e8-e1f8-4e2f-a55a-ed5952a13abe"
      },
      "execution_count": 108,
      "outputs": [
        {
          "output_type": "stream",
          "name": "stdout",
          "text": [
            "***OVERSAMPLED MODEL***\n"
          ]
        },
        {
          "output_type": "display_data",
          "data": {
            "text/plain": [
              "<Figure size 432x288 with 1 Axes>"
            ],
            "image/png": "[encoded data removed]"
          },
          "metadata": {}
        }
      ]
    },
    {
      "cell_type": "code",
      "source": [
        "print('***DOWNSAMPLED MODEL***')\n",
        "sns.heatmap(confusion_matrix(y_test, y_pred_downsampled), annot=True, fmt='d', cmap=\"Reds\", cbar=False);"
      ],
      "metadata": {
        "colab": {
          "base_uri": "https://localhost:8080/",
          "height": 282
        },
        "id": "7c1ZT3GTc9Z5",
        "outputId": "17e6a6bb-e57d-4b11-8326-433515e12d43"
      },
      "execution_count": 109,
      "outputs": [
        {
          "output_type": "stream",
          "name": "stdout",
          "text": [
            "***DOWNSAMPLED MODEL***\n"
          ]
        },
        {
          "output_type": "display_data",
          "data": {
            "text/plain": [
              "<Figure size 432x288 with 1 Axes>"
            ],
            "image/png": "[encoded data removed]"
          },
          "metadata": {}
        }
      ]
    },
    {
      "cell_type": "markdown",
      "source": [
        "# Naive Bayes"
      ],
      "metadata": {
        "id": "honXdho2n9g1"
      }
    },
    {
      "cell_type": "code",
      "source": [
        "from sklearn.naive_bayes import GaussianNB #or alternative NB implementations\n",
        "\n",
        "model = GaussianNB()\n",
        "model_downsampled = GaussianNB()\n",
        "model_oversampled = GaussianNB()\n",
        "\n",
        "model.fit(X_train, y_train)\n",
        "y_pred=model.predict(X_test)\n",
        "y_pred_train=model.predict(X_train)\n",
        "\n",
        "model_oversampled.fit(X_oversampled_train, y_oversampled_train)\n",
        "y_pred_oversampled=model_oversampled.predict(X_test)\n",
        "y_pred_oversampled_train=model_oversampled.predict(X_train)\n",
        "\n",
        "model_downsampled.fit(X_downsampled_train, y_downsampled_train)\n",
        "y_pred_downsampled=model_downsampled.predict(X_test)\n",
        "y_pred_downsampled_train=model_downsampled.predict(X_train)\n"
      ],
      "metadata": {
        "id": "e315hJDnn-oj"
      },
      "execution_count": 110,
      "outputs": []
    },
    {
      "cell_type": "code",
      "source": [
        "#EVALUATE YOUR PREDICTION\n",
        "from sklearn import metrics\n",
        "\n",
        "print('***RESULTS ORIGINAL MODEL***')\n",
        "print('***RESULTS ON TRAIN SET***')\n",
        "print(\"f1_score: \", metrics.f1_score(y_train, y_pred_train))\n",
        "print(\"--\")\n",
        "print('***RESULTS ON TEST SET***')\n",
        "print(\"f1_score: \", metrics.f1_score(y_test, y_pred))\n",
        "print(\" \")\n",
        "print(\" \")\n",
        "\n",
        "print('***RESULTS OVERSAMPLED MODEL***')\n",
        "print('***RESULTS ON TRAIN SET***')\n",
        "print(\"f1_score: \", metrics.f1_score(y_train, y_pred_oversampled_train))\n",
        "print(\"--\")\n",
        "print('***RESULTS ON TEST SET***')\n",
        "print(\"f1_score: \", metrics.f1_score(y_test, y_pred_oversampled))\n",
        "print(\" \")\n",
        "print(\" \")\n",
        "\n",
        "print('***RESULTS DOWNSAMPLED MODEL***')\n",
        "print('***RESULTS ON TRAIN SET***')\n",
        "print(\"f1_score: \", metrics.f1_score(y_train, y_pred_downsampled_train))\n",
        "print(\"--\")\n",
        "print('***RESULTS ON TEST SET***')\n",
        "print(\"f1_score: \", metrics.f1_score(y_test, y_pred_downsampled))\n"
      ],
      "metadata": {
        "colab": {
          "base_uri": "https://localhost:8080/"
        },
        "id": "i3UgCYiCpIiL",
        "outputId": "1c6570e7-f437-4544-f20c-e5f406bc9d0a"
      },
      "execution_count": 111,
      "outputs": [
        {
          "output_type": "stream",
          "name": "stdout",
          "text": [
            "***RESULTS ORIGINAL MODEL***\n",
            "***RESULTS ON TRAIN SET***\n",
            "f1_score:  0.5903698534542917\n",
            "--\n",
            "***RESULTS ON TEST SET***\n",
            "f1_score:  0.5601317957166392\n",
            " \n",
            " \n",
            "***RESULTS OVERSAMPLED MODEL***\n",
            "***RESULTS ON TRAIN SET***\n",
            "f1_score:  0.5906610066707095\n",
            "--\n",
            "***RESULTS ON TEST SET***\n",
            "f1_score:  0.5706214689265536\n",
            " \n",
            " \n",
            "***RESULTS DOWNSAMPLED MODEL***\n",
            "***RESULTS ON TRAIN SET***\n",
            "f1_score:  0.5994134897360704\n",
            "--\n",
            "***RESULTS ON TEST SET***\n",
            "f1_score:  0.5718157181571816\n"
          ]
        }
      ]
    },
    {
      "cell_type": "markdown",
      "source": [
        "# PREDICTION"
      ],
      "metadata": {
        "id": "XaqaW4eDKyOM"
      }
    },
    {
      "cell_type": "code",
      "source": [
        "# import the libraries\n",
        "\n",
        "import numpy as np\n",
        "import pandas as pd\n",
        "\n",
        "# import the dataset\n",
        "\n",
        "prediction = pd.read_csv(\"tyres_prediction.csv\", sep = \",\")\n",
        "prediction"
      ],
      "metadata": {
        "colab": {
          "base_uri": "https://localhost:8080/",
          "height": 488
        },
        "id": "p-uqrcIsK2oB",
        "outputId": "8ebd136d-efef-4284-fed5-ee33d86cd529"
      },
      "execution_count": 216,
      "outputs": [
        {
          "output_type": "execute_result",
          "data": {
            "text/plain": [
              "        vulc  perc_nat_rubber  wiring_strength  weather  perc_imp  \\\n",
              "0     17.180               30                1     0.21      0.00   \n",
              "1     17.744               24                1     0.16      0.01   \n",
              "2     16.930               34                0     0.27      0.01   \n",
              "3     22.428               34                1     0.03      0.00   \n",
              "4     16.818               29                1     0.06      0.00   \n",
              "...      ...              ...              ...      ...       ...   \n",
              "7979  20.060               31                1     0.29      0.01   \n",
              "7980  17.718               21                1     0.16      0.01   \n",
              "7981  17.908               23                1     0.16      0.01   \n",
              "7982  17.916               28                1     0.16      0.01   \n",
              "7983  21.806               32                1     0.16      0.01   \n",
              "\n",
              "      temperature  tread_type  tyre_season  elevation  month  tread_depth  \\\n",
              "0           -9.24           0            1      460.5      4            3   \n",
              "1           -9.12           0            1      278.5      8            0   \n",
              "2            3.64           2            0      733.5     11            2   \n",
              "3            0.56           3            0      235.5      9            3   \n",
              "4           -0.96           3            0      461.0      9            0   \n",
              "...           ...         ...          ...        ...    ...          ...   \n",
              "7979         0.40           4            1      361.5      6            2   \n",
              "7980        -8.68           0            1      409.5      8            0   \n",
              "7981        -6.92           0            1      266.0      8            0   \n",
              "7982        -7.92           0            1      301.0      8            0   \n",
              "7983        -6.48           1            1      313.0      5            0   \n",
              "\n",
              "      tyre_quality  perc_exp_comp  diameter  add_layers  \n",
              "0                0           5.54        74           1  \n",
              "1                1           5.01        79           1  \n",
              "2                0           6.41        94           1  \n",
              "3                0           5.95        93           1  \n",
              "4                1           5.97        88           1  \n",
              "...            ...            ...       ...         ...  \n",
              "7979             1           5.89        85           1  \n",
              "7980             1           5.56        54           1  \n",
              "7981             1           5.20        62           1  \n",
              "7982             1           5.76        90           1  \n",
              "7983             1           5.26        91           1  \n",
              "\n",
              "[7984 rows x 15 columns]"
            ],
            "text/html": [
              "\n",
              "  <div id=\"df-f8a1bd7d-9384-4ec0-8e9c-56d5b72605c2\">\n",
              "    <div class=\"colab-df-container\">\n",
              "      <div>\n",
              "<style scoped>\n",
              "    .dataframe tbody tr th:only-of-type {\n",
              "        vertical-align: middle;\n",
              "    }\n",
              "\n",
              "    .dataframe tbody tr th {\n",
              "        vertical-align: top;\n",
              "    }\n",
              "\n",
              "    .dataframe thead th {\n",
              "        text-align: right;\n",
              "    }\n",
              "</style>\n",
              "<table border=\"1\" class=\"dataframe\">\n",
              "  <thead>\n",
              "    <tr style=\"text-align: right;\">\n",
              "      <th></th>\n",
              "      <th>vulc</th>\n",
              "      <th>perc_nat_rubber</th>\n",
              "      <th>wiring_strength</th>\n",
              "      <th>weather</th>\n",
              "      <th>perc_imp</th>\n",
              "      <th>temperature</th>\n",
              "      <th>tread_type</th>\n",
              "      <th>tyre_season</th>\n",
              "      <th>elevation</th>\n",
              "      <th>month</th>\n",
              "      <th>tread_depth</th>\n",
              "      <th>tyre_quality</th>\n",
              "      <th>perc_exp_comp</th>\n",
              "      <th>diameter</th>\n",
              "      <th>add_layers</th>\n",
              "    </tr>\n",
              "  </thead>\n",
              "  <tbody>\n",
              "    <tr>\n",
              "      <th>0</th>\n",
              "      <td>17.180</td>\n",
              "      <td>30</td>\n",
              "      <td>1</td>\n",
              "      <td>0.21</td>\n",
              "      <td>0.00</td>\n",
              "      <td>-9.24</td>\n",
              "      <td>0</td>\n",
              "      <td>1</td>\n",
              "      <td>460.5</td>\n",
              "      <td>4</td>\n",
              "      <td>3</td>\n",
              "      <td>0</td>\n",
              "      <td>5.54</td>\n",
              "      <td>74</td>\n",
              "      <td>1</td>\n",
              "    </tr>\n",
              "    <tr>\n",
              "      <th>1</th>\n",
              "      <td>17.744</td>\n",
              "      <td>24</td>\n",
              "      <td>1</td>\n",
              "      <td>0.16</td>\n",
              "      <td>0.01</td>\n",
              "      <td>-9.12</td>\n",
              "      <td>0</td>\n",
              "      <td>1</td>\n",
              "      <td>278.5</td>\n",
              "      <td>8</td>\n",
              "      <td>0</td>\n",
              "      <td>1</td>\n",
              "      <td>5.01</td>\n",
              "      <td>79</td>\n",
              "      <td>1</td>\n",
              "    </tr>\n",
              "    <tr>\n",
              "      <th>2</th>\n",
              "      <td>16.930</td>\n",
              "      <td>34</td>\n",
              "      <td>0</td>\n",
              "      <td>0.27</td>\n",
              "      <td>0.01</td>\n",
              "      <td>3.64</td>\n",
              "      <td>2</td>\n",
              "      <td>0</td>\n",
              "      <td>733.5</td>\n",
              "      <td>11</td>\n",
              "      <td>2</td>\n",
              "      <td>0</td>\n",
              "      <td>6.41</td>\n",
              "      <td>94</td>\n",
              "      <td>1</td>\n",
              "    </tr>\n",
              "    <tr>\n",
              "      <th>3</th>\n",
              "      <td>22.428</td>\n",
              "      <td>34</td>\n",
              "      <td>1</td>\n",
              "      <td>0.03</td>\n",
              "      <td>0.00</td>\n",
              "      <td>0.56</td>\n",
              "      <td>3</td>\n",
              "      <td>0</td>\n",
              "      <td>235.5</td>\n",
              "      <td>9</td>\n",
              "      <td>3</td>\n",
              "      <td>0</td>\n",
              "      <td>5.95</td>\n",
              "      <td>93</td>\n",
              "      <td>1</td>\n",
              "    </tr>\n",
              "    <tr>\n",
              "      <th>4</th>\n",
              "      <td>16.818</td>\n",
              "      <td>29</td>\n",
              "      <td>1</td>\n",
              "      <td>0.06</td>\n",
              "      <td>0.00</td>\n",
              "      <td>-0.96</td>\n",
              "      <td>3</td>\n",
              "      <td>0</td>\n",
              "      <td>461.0</td>\n",
              "      <td>9</td>\n",
              "      <td>0</td>\n",
              "      <td>1</td>\n",
              "      <td>5.97</td>\n",
              "      <td>88</td>\n",
              "      <td>1</td>\n",
              "    </tr>\n",
              "    <tr>\n",
              "      <th>...</th>\n",
              "      <td>...</td>\n",
              "      <td>...</td>\n",
              "      <td>...</td>\n",
              "      <td>...</td>\n",
              "      <td>...</td>\n",
              "      <td>...</td>\n",
              "      <td>...</td>\n",
              "      <td>...</td>\n",
              "      <td>...</td>\n",
              "      <td>...</td>\n",
              "      <td>...</td>\n",
              "      <td>...</td>\n",
              "      <td>...</td>\n",
              "      <td>...</td>\n",
              "      <td>...</td>\n",
              "    </tr>\n",
              "    <tr>\n",
              "      <th>7979</th>\n",
              "      <td>20.060</td>\n",
              "      <td>31</td>\n",
              "      <td>1</td>\n",
              "      <td>0.29</td>\n",
              "      <td>0.01</td>\n",
              "      <td>0.40</td>\n",
              "      <td>4</td>\n",
              "      <td>1</td>\n",
              "      <td>361.5</td>\n",
              "      <td>6</td>\n",
              "      <td>2</td>\n",
              "      <td>1</td>\n",
              "      <td>5.89</td>\n",
              "      <td>85</td>\n",
              "      <td>1</td>\n",
              "    </tr>\n",
              "    <tr>\n",
              "      <th>7980</th>\n",
              "      <td>17.718</td>\n",
              "      <td>21</td>\n",
              "      <td>1</td>\n",
              "      <td>0.16</td>\n",
              "      <td>0.01</td>\n",
              "      <td>-8.68</td>\n",
              "      <td>0</td>\n",
              "      <td>1</td>\n",
              "      <td>409.5</td>\n",
              "      <td>8</td>\n",
              "      <td>0</td>\n",
              "      <td>1</td>\n",
              "      <td>5.56</td>\n",
              "      <td>54</td>\n",
              "      <td>1</td>\n",
              "    </tr>\n",
              "    <tr>\n",
              "      <th>7981</th>\n",
              "      <td>17.908</td>\n",
              "      <td>23</td>\n",
              "      <td>1</td>\n",
              "      <td>0.16</td>\n",
              "      <td>0.01</td>\n",
              "      <td>-6.92</td>\n",
              "      <td>0</td>\n",
              "      <td>1</td>\n",
              "      <td>266.0</td>\n",
              "      <td>8</td>\n",
              "      <td>0</td>\n",
              "      <td>1</td>\n",
              "      <td>5.20</td>\n",
              "      <td>62</td>\n",
              "      <td>1</td>\n",
              "    </tr>\n",
              "    <tr>\n",
              "      <th>7982</th>\n",
              "      <td>17.916</td>\n",
              "      <td>28</td>\n",
              "      <td>1</td>\n",
              "      <td>0.16</td>\n",
              "      <td>0.01</td>\n",
              "      <td>-7.92</td>\n",
              "      <td>0</td>\n",
              "      <td>1</td>\n",
              "      <td>301.0</td>\n",
              "      <td>8</td>\n",
              "      <td>0</td>\n",
              "      <td>1</td>\n",
              "      <td>5.76</td>\n",
              "      <td>90</td>\n",
              "      <td>1</td>\n",
              "    </tr>\n",
              "    <tr>\n",
              "      <th>7983</th>\n",
              "      <td>21.806</td>\n",
              "      <td>32</td>\n",
              "      <td>1</td>\n",
              "      <td>0.16</td>\n",
              "      <td>0.01</td>\n",
              "      <td>-6.48</td>\n",
              "      <td>1</td>\n",
              "      <td>1</td>\n",
              "      <td>313.0</td>\n",
              "      <td>5</td>\n",
              "      <td>0</td>\n",
              "      <td>1</td>\n",
              "      <td>5.26</td>\n",
              "      <td>91</td>\n",
              "      <td>1</td>\n",
              "    </tr>\n",
              "  </tbody>\n",
              "</table>\n",
              "<p>7984 rows × 15 columns</p>\n",
              "</div>\n",
              "      <button class=\"colab-df-convert\" onclick=\"convertToInteractive('df-f8a1bd7d-9384-4ec0-8e9c-56d5b72605c2')\"\n",
              "              title=\"Convert this dataframe to an interactive table.\"\n",
              "              style=\"display:none;\">\n",
              "        \n",
              "  <svg xmlns=\"http://www.w3.org/2000/svg\" height=\"24px\"viewBox=\"0 0 24 24\"\n",
              "       width=\"24px\">\n",
              "    <path d=\"M0 0h24v24H0V0z\" fill=\"none\"/>\n",
              "    <path d=\"M18.56 5.44l.94 2.06.94-2.06 2.06-.94-2.06-.94-.94-2.06-.94 2.06-2.06.94zm-11 1L8.5 8.5l.94-2.06 2.06-.94-2.06-.94L8.5 2.5l-.94 2.06-2.06.94zm10 10l.94 2.06.94-2.06 2.06-.94-2.06-.94-.94-2.06-.94 2.06-2.06.94z\"/><path d=\"M17.41 7.96l-1.37-1.37c-.4-.4-.92-.59-1.43-.59-.52 0-1.04.2-1.43.59L10.3 9.45l-7.72 7.72c-.78.78-.78 2.05 0 2.83L4 21.41c.39.39.9.59 1.41.59.51 0 1.02-.2 1.41-.59l7.78-7.78 2.81-2.81c.8-.78.8-2.07 0-2.86zM5.41 20L4 18.59l7.72-7.72 1.47 1.35L5.41 20z\"/>\n",
              "  </svg>\n",
              "      </button>\n",
              "      \n",
              "  <style>\n",
              "    .colab-df-container {\n",
              "      display:flex;\n",
              "      flex-wrap:wrap;\n",
              "      gap: 12px;\n",
              "    }\n",
              "\n",
              "    .colab-df-convert {\n",
              "      background-color: #E8F0FE;\n",
              "      border: none;\n",
              "      border-radius: 50%;\n",
              "      cursor: pointer;\n",
              "      display: none;\n",
              "      fill: #1967D2;\n",
              "      height: 32px;\n",
              "      padding: 0 0 0 0;\n",
              "      width: 32px;\n",
              "    }\n",
              "\n",
              "    .colab-df-convert:hover {\n",
              "      background-color: #E2EBFA;\n",
              "      box-shadow: 0px 1px 2px rgba(60, 64, 67, 0.3), 0px 1px 3px 1px rgba(60, 64, 67, 0.15);\n",
              "      fill: #174EA6;\n",
              "    }\n",
              "\n",
              "    [theme=dark] .colab-df-convert {\n",
              "      background-color: #3B4455;\n",
              "      fill: #D2E3FC;\n",
              "    }\n",
              "\n",
              "    [theme=dark] .colab-df-convert:hover {\n",
              "      background-color: #434B5C;\n",
              "      box-shadow: 0px 1px 3px 1px rgba(0, 0, 0, 0.15);\n",
              "      filter: drop-shadow(0px 1px 2px rgba(0, 0, 0, 0.3));\n",
              "      fill: #FFFFFF;\n",
              "    }\n",
              "  </style>\n",
              "\n",
              "      <script>\n",
              "        const buttonEl =\n",
              "          document.querySelector('#df-f8a1bd7d-9384-4ec0-8e9c-56d5b72605c2 button.colab-df-convert');\n",
              "        buttonEl.style.display =\n",
              "          google.colab.kernel.accessAllowed ? 'block' : 'none';\n",
              "\n",
              "        async function convertToInteractive(key) {\n",
              "          const element = document.querySelector('#df-f8a1bd7d-9384-4ec0-8e9c-56d5b72605c2');\n",
              "          const dataTable =\n",
              "            await google.colab.kernel.invokeFunction('convertToInteractive',\n",
              "                                                     [key], {});\n",
              "          if (!dataTable) return;\n",
              "\n",
              "          const docLinkHtml = 'Like what you see? Visit the ' +\n",
              "            '<a target=\"_blank\" href=https://colab.research.google.com/notebooks/data_table.ipynb>data table notebook</a>'\n",
              "            + ' to learn more about interactive tables.';\n",
              "          element.innerHTML = '';\n",
              "          dataTable['output_type'] = 'display_data';\n",
              "          await google.colab.output.renderOutput(dataTable, element);\n",
              "          const docLink = document.createElement('div');\n",
              "          docLink.innerHTML = docLinkHtml;\n",
              "          element.appendChild(docLink);\n",
              "        }\n",
              "      </script>\n",
              "    </div>\n",
              "  </div>\n",
              "  "
            ]
          },
          "metadata": {},
          "execution_count": 216
        }
      ]
    },
    {
      "cell_type": "code",
      "source": [
        "prediction.isna().any()"
      ],
      "metadata": {
        "colab": {
          "base_uri": "https://localhost:8080/"
        },
        "id": "ARR7_7kBLWgl",
        "outputId": "f4c695c8-3702-4bb7-86fd-1bb5b5d659c8"
      },
      "execution_count": 219,
      "outputs": [
        {
          "output_type": "execute_result",
          "data": {
            "text/plain": [
              "vulc               False\n",
              "perc_nat_rubber    False\n",
              "wiring_strength    False\n",
              "weather            False\n",
              "perc_imp           False\n",
              "temperature        False\n",
              "tread_type         False\n",
              "tyre_season        False\n",
              "elevation          False\n",
              "month              False\n",
              "tread_depth        False\n",
              "tyre_quality       False\n",
              "perc_exp_comp      False\n",
              "diameter           False\n",
              "add_layers         False\n",
              "dtype: bool"
            ]
          },
          "metadata": {},
          "execution_count": 219
        }
      ]
    },
    {
      "cell_type": "code",
      "source": [
        "# lets drop the diamater\n",
        "prediction = prediction.drop('diameter', axis=1)\n",
        "prediction"
      ],
      "metadata": {
        "colab": {
          "base_uri": "https://localhost:8080/",
          "height": 488
        },
        "id": "1VHbNWUjLtN6",
        "outputId": "354f60b5-472c-498f-c3cf-5cca3b6417d8"
      },
      "execution_count": 237,
      "outputs": [
        {
          "output_type": "execute_result",
          "data": {
            "text/plain": [
              "        vulc  perc_nat_rubber  wiring_strength  weather  perc_imp  \\\n",
              "0     17.180               30                1     0.21      0.00   \n",
              "1     17.744               24                1     0.16      0.01   \n",
              "2     16.930               34                0     0.27      0.01   \n",
              "3     22.428               34                1     0.03      0.00   \n",
              "4     16.818               29                1     0.06      0.00   \n",
              "...      ...              ...              ...      ...       ...   \n",
              "7979  20.060               31                1     0.29      0.01   \n",
              "7980  17.718               21                1     0.16      0.01   \n",
              "7981  17.908               23                1     0.16      0.01   \n",
              "7982  17.916               28                1     0.16      0.01   \n",
              "7983  21.806               32                1     0.16      0.01   \n",
              "\n",
              "      temperature  tread_type  tyre_season  elevation  month  tread_depth  \\\n",
              "0           -9.24           0            1      460.5      4            3   \n",
              "1           -9.12           0            1      278.5      8            0   \n",
              "2            3.64           2            0      733.5     11            2   \n",
              "3            0.56           3            0      235.5      9            3   \n",
              "4           -0.96           3            0      461.0      9            0   \n",
              "...           ...         ...          ...        ...    ...          ...   \n",
              "7979         0.40           4            1      361.5      6            2   \n",
              "7980        -8.68           0            1      409.5      8            0   \n",
              "7981        -6.92           0            1      266.0      8            0   \n",
              "7982        -7.92           0            1      301.0      8            0   \n",
              "7983        -6.48           1            1      313.0      5            0   \n",
              "\n",
              "      tyre_quality  perc_exp_comp  add_layers  \n",
              "0                0           5.54           1  \n",
              "1                1           5.01           1  \n",
              "2                0           6.41           1  \n",
              "3                0           5.95           1  \n",
              "4                1           5.97           1  \n",
              "...            ...            ...         ...  \n",
              "7979             1           5.89           1  \n",
              "7980             1           5.56           1  \n",
              "7981             1           5.20           1  \n",
              "7982             1           5.76           1  \n",
              "7983             1           5.26           1  \n",
              "\n",
              "[7984 rows x 14 columns]"
            ],
            "text/html": [
              "\n",
              "  <div id=\"df-f7b88750-51b7-4bcd-a3c3-04c3ce468995\">\n",
              "    <div class=\"colab-df-container\">\n",
              "      <div>\n",
              "<style scoped>\n",
              "    .dataframe tbody tr th:only-of-type {\n",
              "        vertical-align: middle;\n",
              "    }\n",
              "\n",
              "    .dataframe tbody tr th {\n",
              "        vertical-align: top;\n",
              "    }\n",
              "\n",
              "    .dataframe thead th {\n",
              "        text-align: right;\n",
              "    }\n",
              "</style>\n",
              "<table border=\"1\" class=\"dataframe\">\n",
              "  <thead>\n",
              "    <tr style=\"text-align: right;\">\n",
              "      <th></th>\n",
              "      <th>vulc</th>\n",
              "      <th>perc_nat_rubber</th>\n",
              "      <th>wiring_strength</th>\n",
              "      <th>weather</th>\n",
              "      <th>perc_imp</th>\n",
              "      <th>temperature</th>\n",
              "      <th>tread_type</th>\n",
              "      <th>tyre_season</th>\n",
              "      <th>elevation</th>\n",
              "      <th>month</th>\n",
              "      <th>tread_depth</th>\n",
              "      <th>tyre_quality</th>\n",
              "      <th>perc_exp_comp</th>\n",
              "      <th>add_layers</th>\n",
              "    </tr>\n",
              "  </thead>\n",
              "  <tbody>\n",
              "    <tr>\n",
              "      <th>0</th>\n",
              "      <td>17.180</td>\n",
              "      <td>30</td>\n",
              "      <td>1</td>\n",
              "      <td>0.21</td>\n",
              "      <td>0.00</td>\n",
              "      <td>-9.24</td>\n",
              "      <td>0</td>\n",
              "      <td>1</td>\n",
              "      <td>460.5</td>\n",
              "      <td>4</td>\n",
              "      <td>3</td>\n",
              "      <td>0</td>\n",
              "      <td>5.54</td>\n",
              "      <td>1</td>\n",
              "    </tr>\n",
              "    <tr>\n",
              "      <th>1</th>\n",
              "      <td>17.744</td>\n",
              "      <td>24</td>\n",
              "      <td>1</td>\n",
              "      <td>0.16</td>\n",
              "      <td>0.01</td>\n",
              "      <td>-9.12</td>\n",
              "      <td>0</td>\n",
              "      <td>1</td>\n",
              "      <td>278.5</td>\n",
              "      <td>8</td>\n",
              "      <td>0</td>\n",
              "      <td>1</td>\n",
              "      <td>5.01</td>\n",
              "      <td>1</td>\n",
              "    </tr>\n",
              "    <tr>\n",
              "      <th>2</th>\n",
              "      <td>16.930</td>\n",
              "      <td>34</td>\n",
              "      <td>0</td>\n",
              "      <td>0.27</td>\n",
              "      <td>0.01</td>\n",
              "      <td>3.64</td>\n",
              "      <td>2</td>\n",
              "      <td>0</td>\n",
              "      <td>733.5</td>\n",
              "      <td>11</td>\n",
              "      <td>2</td>\n",
              "      <td>0</td>\n",
              "      <td>6.41</td>\n",
              "      <td>1</td>\n",
              "    </tr>\n",
              "    <tr>\n",
              "      <th>3</th>\n",
              "      <td>22.428</td>\n",
              "      <td>34</td>\n",
              "      <td>1</td>\n",
              "      <td>0.03</td>\n",
              "      <td>0.00</td>\n",
              "      <td>0.56</td>\n",
              "      <td>3</td>\n",
              "      <td>0</td>\n",
              "      <td>235.5</td>\n",
              "      <td>9</td>\n",
              "      <td>3</td>\n",
              "      <td>0</td>\n",
              "      <td>5.95</td>\n",
              "      <td>1</td>\n",
              "    </tr>\n",
              "    <tr>\n",
              "      <th>4</th>\n",
              "      <td>16.818</td>\n",
              "      <td>29</td>\n",
              "      <td>1</td>\n",
              "      <td>0.06</td>\n",
              "      <td>0.00</td>\n",
              "      <td>-0.96</td>\n",
              "      <td>3</td>\n",
              "      <td>0</td>\n",
              "      <td>461.0</td>\n",
              "      <td>9</td>\n",
              "      <td>0</td>\n",
              "      <td>1</td>\n",
              "      <td>5.97</td>\n",
              "      <td>1</td>\n",
              "    </tr>\n",
              "    <tr>\n",
              "      <th>...</th>\n",
              "      <td>...</td>\n",
              "      <td>...</td>\n",
              "      <td>...</td>\n",
              "      <td>...</td>\n",
              "      <td>...</td>\n",
              "      <td>...</td>\n",
              "      <td>...</td>\n",
              "      <td>...</td>\n",
              "      <td>...</td>\n",
              "      <td>...</td>\n",
              "      <td>...</td>\n",
              "      <td>...</td>\n",
              "      <td>...</td>\n",
              "      <td>...</td>\n",
              "    </tr>\n",
              "    <tr>\n",
              "      <th>7979</th>\n",
              "      <td>20.060</td>\n",
              "      <td>31</td>\n",
              "      <td>1</td>\n",
              "      <td>0.29</td>\n",
              "      <td>0.01</td>\n",
              "      <td>0.40</td>\n",
              "      <td>4</td>\n",
              "      <td>1</td>\n",
              "      <td>361.5</td>\n",
              "      <td>6</td>\n",
              "      <td>2</td>\n",
              "      <td>1</td>\n",
              "      <td>5.89</td>\n",
              "      <td>1</td>\n",
              "    </tr>\n",
              "    <tr>\n",
              "      <th>7980</th>\n",
              "      <td>17.718</td>\n",
              "      <td>21</td>\n",
              "      <td>1</td>\n",
              "      <td>0.16</td>\n",
              "      <td>0.01</td>\n",
              "      <td>-8.68</td>\n",
              "      <td>0</td>\n",
              "      <td>1</td>\n",
              "      <td>409.5</td>\n",
              "      <td>8</td>\n",
              "      <td>0</td>\n",
              "      <td>1</td>\n",
              "      <td>5.56</td>\n",
              "      <td>1</td>\n",
              "    </tr>\n",
              "    <tr>\n",
              "      <th>7981</th>\n",
              "      <td>17.908</td>\n",
              "      <td>23</td>\n",
              "      <td>1</td>\n",
              "      <td>0.16</td>\n",
              "      <td>0.01</td>\n",
              "      <td>-6.92</td>\n",
              "      <td>0</td>\n",
              "      <td>1</td>\n",
              "      <td>266.0</td>\n",
              "      <td>8</td>\n",
              "      <td>0</td>\n",
              "      <td>1</td>\n",
              "      <td>5.20</td>\n",
              "      <td>1</td>\n",
              "    </tr>\n",
              "    <tr>\n",
              "      <th>7982</th>\n",
              "      <td>17.916</td>\n",
              "      <td>28</td>\n",
              "      <td>1</td>\n",
              "      <td>0.16</td>\n",
              "      <td>0.01</td>\n",
              "      <td>-7.92</td>\n",
              "      <td>0</td>\n",
              "      <td>1</td>\n",
              "      <td>301.0</td>\n",
              "      <td>8</td>\n",
              "      <td>0</td>\n",
              "      <td>1</td>\n",
              "      <td>5.76</td>\n",
              "      <td>1</td>\n",
              "    </tr>\n",
              "    <tr>\n",
              "      <th>7983</th>\n",
              "      <td>21.806</td>\n",
              "      <td>32</td>\n",
              "      <td>1</td>\n",
              "      <td>0.16</td>\n",
              "      <td>0.01</td>\n",
              "      <td>-6.48</td>\n",
              "      <td>1</td>\n",
              "      <td>1</td>\n",
              "      <td>313.0</td>\n",
              "      <td>5</td>\n",
              "      <td>0</td>\n",
              "      <td>1</td>\n",
              "      <td>5.26</td>\n",
              "      <td>1</td>\n",
              "    </tr>\n",
              "  </tbody>\n",
              "</table>\n",
              "<p>7984 rows × 14 columns</p>\n",
              "</div>\n",
              "      <button class=\"colab-df-convert\" onclick=\"convertToInteractive('df-f7b88750-51b7-4bcd-a3c3-04c3ce468995')\"\n",
              "              title=\"Convert this dataframe to an interactive table.\"\n",
              "              style=\"display:none;\">\n",
              "        \n",
              "  <svg xmlns=\"http://www.w3.org/2000/svg\" height=\"24px\"viewBox=\"0 0 24 24\"\n",
              "       width=\"24px\">\n",
              "    <path d=\"M0 0h24v24H0V0z\" fill=\"none\"/>\n",
              "    <path d=\"M18.56 5.44l.94 2.06.94-2.06 2.06-.94-2.06-.94-.94-2.06-.94 2.06-2.06.94zm-11 1L8.5 8.5l.94-2.06 2.06-.94-2.06-.94L8.5 2.5l-.94 2.06-2.06.94zm10 10l.94 2.06.94-2.06 2.06-.94-2.06-.94-.94-2.06-.94 2.06-2.06.94z\"/><path d=\"M17.41 7.96l-1.37-1.37c-.4-.4-.92-.59-1.43-.59-.52 0-1.04.2-1.43.59L10.3 9.45l-7.72 7.72c-.78.78-.78 2.05 0 2.83L4 21.41c.39.39.9.59 1.41.59.51 0 1.02-.2 1.41-.59l7.78-7.78 2.81-2.81c.8-.78.8-2.07 0-2.86zM5.41 20L4 18.59l7.72-7.72 1.47 1.35L5.41 20z\"/>\n",
              "  </svg>\n",
              "      </button>\n",
              "      \n",
              "  <style>\n",
              "    .colab-df-container {\n",
              "      display:flex;\n",
              "      flex-wrap:wrap;\n",
              "      gap: 12px;\n",
              "    }\n",
              "\n",
              "    .colab-df-convert {\n",
              "      background-color: #E8F0FE;\n",
              "      border: none;\n",
              "      border-radius: 50%;\n",
              "      cursor: pointer;\n",
              "      display: none;\n",
              "      fill: #1967D2;\n",
              "      height: 32px;\n",
              "      padding: 0 0 0 0;\n",
              "      width: 32px;\n",
              "    }\n",
              "\n",
              "    .colab-df-convert:hover {\n",
              "      background-color: #E2EBFA;\n",
              "      box-shadow: 0px 1px 2px rgba(60, 64, 67, 0.3), 0px 1px 3px 1px rgba(60, 64, 67, 0.15);\n",
              "      fill: #174EA6;\n",
              "    }\n",
              "\n",
              "    [theme=dark] .colab-df-convert {\n",
              "      background-color: #3B4455;\n",
              "      fill: #D2E3FC;\n",
              "    }\n",
              "\n",
              "    [theme=dark] .colab-df-convert:hover {\n",
              "      background-color: #434B5C;\n",
              "      box-shadow: 0px 1px 3px 1px rgba(0, 0, 0, 0.15);\n",
              "      filter: drop-shadow(0px 1px 2px rgba(0, 0, 0, 0.3));\n",
              "      fill: #FFFFFF;\n",
              "    }\n",
              "  </style>\n",
              "\n",
              "      <script>\n",
              "        const buttonEl =\n",
              "          document.querySelector('#df-f7b88750-51b7-4bcd-a3c3-04c3ce468995 button.colab-df-convert');\n",
              "        buttonEl.style.display =\n",
              "          google.colab.kernel.accessAllowed ? 'block' : 'none';\n",
              "\n",
              "        async function convertToInteractive(key) {\n",
              "          const element = document.querySelector('#df-f7b88750-51b7-4bcd-a3c3-04c3ce468995');\n",
              "          const dataTable =\n",
              "            await google.colab.kernel.invokeFunction('convertToInteractive',\n",
              "                                                     [key], {});\n",
              "          if (!dataTable) return;\n",
              "\n",
              "          const docLinkHtml = 'Like what you see? Visit the ' +\n",
              "            '<a target=\"_blank\" href=https://colab.research.google.com/notebooks/data_table.ipynb>data table notebook</a>'\n",
              "            + ' to learn more about interactive tables.';\n",
              "          element.innerHTML = '';\n",
              "          dataTable['output_type'] = 'display_data';\n",
              "          await google.colab.output.renderOutput(dataTable, element);\n",
              "          const docLink = document.createElement('div');\n",
              "          docLink.innerHTML = docLinkHtml;\n",
              "          element.appendChild(docLink);\n",
              "        }\n",
              "      </script>\n",
              "    </div>\n",
              "  </div>\n",
              "  "
            ]
          },
          "metadata": {},
          "execution_count": 237
        }
      ]
    },
    {
      "cell_type": "code",
      "source": [
        "# prediction \n",
        "# rand_forest is our selected best model. See random forest section for fiting\n",
        "\n",
        "target = rand_forest.predict(prediction)\n",
        "target"
      ],
      "metadata": {
        "colab": {
          "base_uri": "https://localhost:8080/"
        },
        "id": "OtzCspCoOhRv",
        "outputId": "b9f20ad2-f5a5-40a9-fd82-d466d6800770"
      },
      "execution_count": 238,
      "outputs": [
        {
          "output_type": "stream",
          "name": "stderr",
          "text": [
            "/usr/local/lib/python3.8/dist-packages/sklearn/base.py:493: FutureWarning: The feature names should match those that were passed during fit. Starting version 1.2, an error will be raised.\n",
            "Feature names must be in the same order as they were in fit.\n",
            "\n",
            "  warnings.warn(message, FutureWarning)\n"
          ]
        },
        {
          "output_type": "execute_result",
          "data": {
            "text/plain": [
              "array([1, 0, 1, ..., 0, 0, 0])"
            ]
          },
          "metadata": {},
          "execution_count": 238
        }
      ]
    },
    {
      "cell_type": "code",
      "source": [
        "target.shape"
      ],
      "metadata": {
        "colab": {
          "base_uri": "https://localhost:8080/"
        },
        "id": "ZA2reTk_PSxS",
        "outputId": "403310ab-5b22-43b5-cdd4-54d98e5290ee"
      },
      "execution_count": 240,
      "outputs": [
        {
          "output_type": "execute_result",
          "data": {
            "text/plain": [
              "(7984,)"
            ]
          },
          "metadata": {},
          "execution_count": 240
        }
      ]
    },
    {
      "cell_type": "code",
      "source": [
        "pd.DataFrame(target).to_csv(\"10528210_Adami_Peracchia_Paolo_Francesco.csv\", header = [\"target\"], index = None)"
      ],
      "metadata": {
        "id": "AbFIfBX2Pqx1"
      },
      "execution_count": 243,
      "outputs": []
    },
    {
      "cell_type": "code",
      "source": [
        "pd.DataFrame(target).to_csv(\"10682675_Spaziani_Valerio.csv\", header = [\"target\"], index = None)"
      ],
      "metadata": {
        "id": "H7sRbwMEQ7b5"
      },
      "execution_count": 244,
      "outputs": []
    }
  ]
}